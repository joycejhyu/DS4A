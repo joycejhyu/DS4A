{
  "nbformat": 4,
  "nbformat_minor": 0,
  "metadata": {
    "kernelspec": {
      "display_name": "Python 3",
      "language": "python",
      "name": "python3"
    },
    "language_info": {
      "codemirror_mode": {
        "name": "ipython",
        "version": 3
      },
      "file_extension": ".py",
      "mimetype": "text/x-python",
      "name": "python",
      "nbconvert_exporter": "python",
      "pygments_lexer": "ipython3",
      "version": "3.7.5"
    },
    "colab": {
      "name": "DS4A_helpfulness.ipynb",
      "provenance": [],
      "collapsed_sections": []
    }
  },
  "cells": [
    {
      "cell_type": "code",
      "metadata": {
        "id": "QeaZJS8yXye1",
        "outputId": "d9d9f812-0e43-4b9e-d8da-2e38516d58c4",
        "colab": {
          "base_uri": "https://localhost:8080/",
          "height": 34
        }
      },
      "source": [
        "from google.colab import drive\n",
        "drive.mount('/content/drive')\n",
        "# writing a comment"
      ],
      "execution_count": 1,
      "outputs": [
        {
          "output_type": "stream",
          "text": [
            "Drive already mounted at /content/drive; to attempt to forcibly remount, call drive.mount(\"/content/drive\", force_remount=True).\n"
          ],
          "name": "stdout"
        }
      ]
    },
    {
      "cell_type": "code",
      "metadata": {
        "id": "9033dPP8V8qN",
        "outputId": "0ac1707c-ee10-477c-f6d5-6bacd3338fea",
        "colab": {
          "base_uri": "https://localhost:8080/",
          "height": 51
        }
      },
      "source": [
        "import os\n",
        "import json\n",
        "import pandas as pd\n",
        "import numpy as np\n",
        "from datetime import datetime, timedelta\n",
        "from sklearn.preprocessing import StandardScaler,MinMaxScaler\n",
        "import matplotlib.pyplot as plt\n",
        "\n",
        "from __future__ import print_function\n",
        "import sys\n",
        "from six.moves import cPickle as pickle\n",
        "import gzip\n",
        "import seaborn as sns\n",
        "import string\n",
        "from time import time\n",
        "import nltk\n",
        "from nltk.corpus import stopwords \n",
        "nltk.download('stopwords')\n",
        "stops = set(stopwords.words(\"english\"))\n",
        "\n",
        "\n",
        "from IPython.display import display # Allows the use of display() for DataFrames\n",
        "\n",
        "\n",
        "import warnings\n",
        "warnings.filterwarnings('ignore')\n",
        "\n",
        "# Config the matlotlib backend as plotting inline in IPython\n",
        "%matplotlib inline\n",
        "\n",
        "RAN_STATE = 42\n",
        "FIG_SIZE = (14,8)\n"
      ],
      "execution_count": 2,
      "outputs": [
        {
          "output_type": "stream",
          "text": [
            "[nltk_data] Downloading package stopwords to /root/nltk_data...\n",
            "[nltk_data]   Package stopwords is already up-to-date!\n"
          ],
          "name": "stdout"
        }
      ]
    },
    {
      "cell_type": "code",
      "metadata": {
        "id": "P3YsM3DzV8qS"
      },
      "source": [
        "br,lr = pd.read_csv(\"/content/drive/My Drive/amazon_reviews/beauty_reviews.csv\",low_memory=False),\\\n",
        "pd.read_csv(\"/content/drive/My Drive/amazon_reviews/luxurybeauty_reviews.csv\",low_memory=False,thousands=',')\n",
        "bm,lm = pd.read_csv(\"/content/drive/My Drive/amazon_reviews/beauty_metadata.csv\",low_memory=False),\\\n",
        "pd.read_csv(\"/content/drive/My Drive/amazon_reviews/luxurybeauty_metadata.csv\",low_memory=False)"
      ],
      "execution_count": 3,
      "outputs": []
    },
    {
      "cell_type": "code",
      "metadata": {
        "id": "BMCbXuViV8qU"
      },
      "source": [
        "lr['reviewTime'] = [datetime.strptime(i, '%m %d, %Y').strftime('%Y-%m-%d') for i in lr.reviewTime]\n",
        "br['reviewTime'] = [datetime.strptime(i, '%Y-%m-%d').strftime('%Y-%m-%d') for i in br.reviewTime]\n",
        "# lr['vote'] = lr['vote'].replace(\",\",\"\").astype(float)"
      ],
      "execution_count": 4,
      "outputs": []
    },
    {
      "cell_type": "code",
      "metadata": {
        "scrolled": true,
        "id": "pzaXfAf7V8qX",
        "outputId": "856c46cd-88ab-4f70-9ea4-b1f233a14dde",
        "colab": {
          "base_uri": "https://localhost:8080/",
          "height": 408
        }
      },
      "source": [
        "display(br.head())\n",
        "lr = lr[list(br.columns)]\n",
        "display(lr.head())"
      ],
      "execution_count": 5,
      "outputs": [
        {
          "output_type": "display_data",
          "data": {
            "text/html": [
              "<div>\n",
              "<style scoped>\n",
              "    .dataframe tbody tr th:only-of-type {\n",
              "        vertical-align: middle;\n",
              "    }\n",
              "\n",
              "    .dataframe tbody tr th {\n",
              "        vertical-align: top;\n",
              "    }\n",
              "\n",
              "    .dataframe thead th {\n",
              "        text-align: right;\n",
              "    }\n",
              "</style>\n",
              "<table border=\"1\" class=\"dataframe\">\n",
              "  <thead>\n",
              "    <tr style=\"text-align: right;\">\n",
              "      <th></th>\n",
              "      <th>overall</th>\n",
              "      <th>verified</th>\n",
              "      <th>reviewTime</th>\n",
              "      <th>reviewerID</th>\n",
              "      <th>asin</th>\n",
              "      <th>reviewText</th>\n",
              "      <th>summary</th>\n",
              "      <th>vote</th>\n",
              "      <th>style</th>\n",
              "    </tr>\n",
              "  </thead>\n",
              "  <tbody>\n",
              "    <tr>\n",
              "      <th>0</th>\n",
              "      <td>1</td>\n",
              "      <td>True</td>\n",
              "      <td>2015-02-19</td>\n",
              "      <td>A1V6B6TNIC10QE</td>\n",
              "      <td>0143026860</td>\n",
              "      <td>great</td>\n",
              "      <td>One Star</td>\n",
              "      <td>NaN</td>\n",
              "      <td>NaN</td>\n",
              "    </tr>\n",
              "    <tr>\n",
              "      <th>1</th>\n",
              "      <td>4</td>\n",
              "      <td>True</td>\n",
              "      <td>2014-12-18</td>\n",
              "      <td>A2F5GHSXFQ0W6J</td>\n",
              "      <td>0143026860</td>\n",
              "      <td>My  husband wanted to reading about the Negro ...</td>\n",
              "      <td>... to reading about the Negro Baseball and th...</td>\n",
              "      <td>NaN</td>\n",
              "      <td>NaN</td>\n",
              "    </tr>\n",
              "    <tr>\n",
              "      <th>2</th>\n",
              "      <td>4</td>\n",
              "      <td>True</td>\n",
              "      <td>2014-08-10</td>\n",
              "      <td>A1572GUYS7DGSR</td>\n",
              "      <td>0143026860</td>\n",
              "      <td>This book was very informative, covering all a...</td>\n",
              "      <td>Worth the Read</td>\n",
              "      <td>NaN</td>\n",
              "      <td>NaN</td>\n",
              "    </tr>\n",
              "    <tr>\n",
              "      <th>3</th>\n",
              "      <td>5</td>\n",
              "      <td>True</td>\n",
              "      <td>2013-03-11</td>\n",
              "      <td>A1PSGLFK1NSVO</td>\n",
              "      <td>0143026860</td>\n",
              "      <td>I am already a baseball fan and knew a bit abo...</td>\n",
              "      <td>Good Read</td>\n",
              "      <td>NaN</td>\n",
              "      <td>NaN</td>\n",
              "    </tr>\n",
              "    <tr>\n",
              "      <th>4</th>\n",
              "      <td>5</td>\n",
              "      <td>True</td>\n",
              "      <td>2011-12-25</td>\n",
              "      <td>A6IKXKZMTKGSC</td>\n",
              "      <td>0143026860</td>\n",
              "      <td>This was a good story of the Black leagues. I ...</td>\n",
              "      <td>More than facts, a good story read!</td>\n",
              "      <td>5.0</td>\n",
              "      <td>NaN</td>\n",
              "    </tr>\n",
              "  </tbody>\n",
              "</table>\n",
              "</div>"
            ],
            "text/plain": [
              "   overall  verified  ... vote style\n",
              "0        1      True  ...  NaN   NaN\n",
              "1        4      True  ...  NaN   NaN\n",
              "2        4      True  ...  NaN   NaN\n",
              "3        5      True  ...  NaN   NaN\n",
              "4        5      True  ...  5.0   NaN\n",
              "\n",
              "[5 rows x 9 columns]"
            ]
          },
          "metadata": {
            "tags": []
          }
        },
        {
          "output_type": "display_data",
          "data": {
            "text/html": [
              "<div>\n",
              "<style scoped>\n",
              "    .dataframe tbody tr th:only-of-type {\n",
              "        vertical-align: middle;\n",
              "    }\n",
              "\n",
              "    .dataframe tbody tr th {\n",
              "        vertical-align: top;\n",
              "    }\n",
              "\n",
              "    .dataframe thead th {\n",
              "        text-align: right;\n",
              "    }\n",
              "</style>\n",
              "<table border=\"1\" class=\"dataframe\">\n",
              "  <thead>\n",
              "    <tr style=\"text-align: right;\">\n",
              "      <th></th>\n",
              "      <th>overall</th>\n",
              "      <th>verified</th>\n",
              "      <th>reviewTime</th>\n",
              "      <th>reviewerID</th>\n",
              "      <th>asin</th>\n",
              "      <th>reviewText</th>\n",
              "      <th>summary</th>\n",
              "      <th>vote</th>\n",
              "      <th>style</th>\n",
              "    </tr>\n",
              "  </thead>\n",
              "  <tbody>\n",
              "    <tr>\n",
              "      <th>0</th>\n",
              "      <td>2.0</td>\n",
              "      <td>True</td>\n",
              "      <td>2010-06-15</td>\n",
              "      <td>A1Q6MUU0B2ZDQG</td>\n",
              "      <td>B00004U9V2</td>\n",
              "      <td>I bought two of these 8.5 fl oz hand cream, an...</td>\n",
              "      <td>dispensers don't work</td>\n",
              "      <td>3.0</td>\n",
              "      <td>NaN</td>\n",
              "    </tr>\n",
              "    <tr>\n",
              "      <th>1</th>\n",
              "      <td>5.0</td>\n",
              "      <td>True</td>\n",
              "      <td>2010-01-07</td>\n",
              "      <td>A3HO2SQDCZIE9S</td>\n",
              "      <td>B00004U9V2</td>\n",
              "      <td>Believe me, over the years I have tried many, ...</td>\n",
              "      <td>Best hand cream ever.</td>\n",
              "      <td>14.0</td>\n",
              "      <td>NaN</td>\n",
              "    </tr>\n",
              "    <tr>\n",
              "      <th>2</th>\n",
              "      <td>5.0</td>\n",
              "      <td>True</td>\n",
              "      <td>2018-04-18</td>\n",
              "      <td>A2EM03F99X3RJZ</td>\n",
              "      <td>B00004U9V2</td>\n",
              "      <td>Great hand lotion</td>\n",
              "      <td>Five Stars</td>\n",
              "      <td>NaN</td>\n",
              "      <td>{'Size:': ' 3.5 oz.'}</td>\n",
              "    </tr>\n",
              "    <tr>\n",
              "      <th>3</th>\n",
              "      <td>5.0</td>\n",
              "      <td>True</td>\n",
              "      <td>2018-04-18</td>\n",
              "      <td>A3Z74TDRGD0HU</td>\n",
              "      <td>B00004U9V2</td>\n",
              "      <td>This is the best for the severely dry skin on ...</td>\n",
              "      <td>Five Stars</td>\n",
              "      <td>NaN</td>\n",
              "      <td>{'Size:': ' 3.5 oz.'}</td>\n",
              "    </tr>\n",
              "    <tr>\n",
              "      <th>4</th>\n",
              "      <td>5.0</td>\n",
              "      <td>True</td>\n",
              "      <td>2018-04-17</td>\n",
              "      <td>A2UXFNW9RTL4VM</td>\n",
              "      <td>B00004U9V2</td>\n",
              "      <td>The best non- oily hand cream ever. It heals o...</td>\n",
              "      <td>I always have a backup ready.</td>\n",
              "      <td>NaN</td>\n",
              "      <td>{'Size:': ' 3.5 oz.'}</td>\n",
              "    </tr>\n",
              "  </tbody>\n",
              "</table>\n",
              "</div>"
            ],
            "text/plain": [
              "   overall  verified  ...  vote                  style\n",
              "0      2.0      True  ...   3.0                    NaN\n",
              "1      5.0      True  ...  14.0                    NaN\n",
              "2      5.0      True  ...   NaN  {'Size:': ' 3.5 oz.'}\n",
              "3      5.0      True  ...   NaN  {'Size:': ' 3.5 oz.'}\n",
              "4      5.0      True  ...   NaN  {'Size:': ' 3.5 oz.'}\n",
              "\n",
              "[5 rows x 9 columns]"
            ]
          },
          "metadata": {
            "tags": []
          }
        }
      ]
    },
    {
      "cell_type": "code",
      "metadata": {
        "id": "4a1yEmmNV8qa"
      },
      "source": [
        "# br.dtypes"
      ],
      "execution_count": 6,
      "outputs": []
    },
    {
      "cell_type": "code",
      "metadata": {
        "id": "irYuTUhAV8qc",
        "outputId": "f7e7717e-e714-4039-ee49-bd22e1331336",
        "colab": {
          "base_uri": "https://localhost:8080/",
          "height": 697
        }
      },
      "source": [
        "display(bm.head())\n",
        "lm = lm[list(bm.columns)]\n",
        "display(lm.head())"
      ],
      "execution_count": 7,
      "outputs": [
        {
          "output_type": "display_data",
          "data": {
            "text/html": [
              "<div>\n",
              "<style scoped>\n",
              "    .dataframe tbody tr th:only-of-type {\n",
              "        vertical-align: middle;\n",
              "    }\n",
              "\n",
              "    .dataframe tbody tr th {\n",
              "        vertical-align: top;\n",
              "    }\n",
              "\n",
              "    .dataframe thead th {\n",
              "        text-align: right;\n",
              "    }\n",
              "</style>\n",
              "<table border=\"1\" class=\"dataframe\">\n",
              "  <thead>\n",
              "    <tr style=\"text-align: right;\">\n",
              "      <th></th>\n",
              "      <th>title</th>\n",
              "      <th>brand</th>\n",
              "      <th>rank</th>\n",
              "      <th>asin</th>\n",
              "      <th>description</th>\n",
              "      <th>also_view</th>\n",
              "      <th>also_buy</th>\n",
              "      <th>price</th>\n",
              "      <th>similar_item</th>\n",
              "    </tr>\n",
              "  </thead>\n",
              "  <tbody>\n",
              "    <tr>\n",
              "      <th>0</th>\n",
              "      <td>Workout Headphones by Arena Essentials</td>\n",
              "      <td>HarperCollins</td>\n",
              "      <td>3235148.0</td>\n",
              "      <td>0061073717</td>\n",
              "      <td>NaN</td>\n",
              "      <td>NaN</td>\n",
              "      <td>NaN</td>\n",
              "      <td>NaN</td>\n",
              "      <td>NaN</td>\n",
              "    </tr>\n",
              "    <tr>\n",
              "      <th>1</th>\n",
              "      <td>Black Diamond</td>\n",
              "      <td>Swedish Beauty</td>\n",
              "      <td>1462563.0</td>\n",
              "      <td>0143026860</td>\n",
              "      <td>['This is the NEW PURPLE BOTTLE that just came...</td>\n",
              "      <td>['B000LXTNMW']</td>\n",
              "      <td>NaN</td>\n",
              "      <td>NaN</td>\n",
              "      <td>NaN</td>\n",
              "    </tr>\n",
              "    <tr>\n",
              "      <th>2</th>\n",
              "      <td>12 Pc BLUE HEAVEN KAJAL\"HERBAL kajal With VITA...</td>\n",
              "      <td>BLUE HEAVE</td>\n",
              "      <td>100425.0</td>\n",
              "      <td>014789302X</td>\n",
              "      <td>['A brand-new, unused, unopened, undamaged ite...</td>\n",
              "      <td>['B00OWT3W28', 'B0796RMSV8', 'B010E1X15K', 'B0...</td>\n",
              "      <td>['B00OWT3W28', 'B010E1X15K', 'B0796RMSV8', 'B0...</td>\n",
              "      <td>6.45</td>\n",
              "      <td>NaN</td>\n",
              "    </tr>\n",
              "    <tr>\n",
              "      <th>3</th>\n",
              "      <td>The Inheritance</td>\n",
              "      <td>Sunatoria</td>\n",
              "      <td>476831.0</td>\n",
              "      <td>0571348351</td>\n",
              "      <td>[\"You have to wonder why there isn't a word in...</td>\n",
              "      <td>['0571352367', '0573697094', '1635571766', '15...</td>\n",
              "      <td>['1848426380', 'B07JVF7M3C', '1644450003', '16...</td>\n",
              "      <td>NaN</td>\n",
              "      <td>NaN</td>\n",
              "    </tr>\n",
              "    <tr>\n",
              "      <th>4</th>\n",
              "      <td>The Listening Cards</td>\n",
              "      <td>Listening Planet</td>\n",
              "      <td>2967592.0</td>\n",
              "      <td>0692508988</td>\n",
              "      <td>['The Listening Cards are an eloquent primer i...</td>\n",
              "      <td>NaN</td>\n",
              "      <td>NaN</td>\n",
              "      <td>NaN</td>\n",
              "      <td>NaN</td>\n",
              "    </tr>\n",
              "  </tbody>\n",
              "</table>\n",
              "</div>"
            ],
            "text/plain": [
              "                                               title  ... similar_item\n",
              "0             Workout Headphones by Arena Essentials  ...          NaN\n",
              "1                                      Black Diamond  ...          NaN\n",
              "2  12 Pc BLUE HEAVEN KAJAL\"HERBAL kajal With VITA...  ...          NaN\n",
              "3                                    The Inheritance  ...          NaN\n",
              "4                                The Listening Cards  ...          NaN\n",
              "\n",
              "[5 rows x 9 columns]"
            ]
          },
          "metadata": {
            "tags": []
          }
        },
        {
          "output_type": "display_data",
          "data": {
            "text/html": [
              "<div>\n",
              "<style scoped>\n",
              "    .dataframe tbody tr th:only-of-type {\n",
              "        vertical-align: middle;\n",
              "    }\n",
              "\n",
              "    .dataframe tbody tr th {\n",
              "        vertical-align: top;\n",
              "    }\n",
              "\n",
              "    .dataframe thead th {\n",
              "        text-align: right;\n",
              "    }\n",
              "</style>\n",
              "<table border=\"1\" class=\"dataframe\">\n",
              "  <thead>\n",
              "    <tr style=\"text-align: right;\">\n",
              "      <th></th>\n",
              "      <th>title</th>\n",
              "      <th>brand</th>\n",
              "      <th>rank</th>\n",
              "      <th>asin</th>\n",
              "      <th>description</th>\n",
              "      <th>also_view</th>\n",
              "      <th>also_buy</th>\n",
              "      <th>price</th>\n",
              "      <th>similar_item</th>\n",
              "    </tr>\n",
              "  </thead>\n",
              "  <tbody>\n",
              "    <tr>\n",
              "      <th>0</th>\n",
              "      <td>Crabtree &amp;amp; Evelyn - Gardener's Ultra-Moist...</td>\n",
              "      <td>NaN</td>\n",
              "      <td>4,324 in Beauty &amp; Personal Care (</td>\n",
              "      <td>B00004U9V2</td>\n",
              "      <td>['After a long day of handling thorny situatio...</td>\n",
              "      <td>['B00FRERO7G', 'B00GHX7H0A', 'B07GFHJRMX', 'B0...</td>\n",
              "      <td>['B00GHX7H0A', 'B00FRERO7G', 'B00R68QXCS', 'B0...</td>\n",
              "      <td>$30.00</td>\n",
              "      <td>NaN</td>\n",
              "    </tr>\n",
              "    <tr>\n",
              "      <th>1</th>\n",
              "      <td>AHAVA Bath Salts</td>\n",
              "      <td>NaN</td>\n",
              "      <td>1,633,549 in Beauty &amp; Personal Care (</td>\n",
              "      <td>B0000531EN</td>\n",
              "      <td>[\"If you haven't experienced the pleasures of ...</td>\n",
              "      <td>[]</td>\n",
              "      <td>[]</td>\n",
              "      <td>NaN</td>\n",
              "      <td>NaN</td>\n",
              "    </tr>\n",
              "    <tr>\n",
              "      <th>2</th>\n",
              "      <td>AHAVA Dead Sea Mineral Mud, 8.5 oz, Pack of 4</td>\n",
              "      <td>NaN</td>\n",
              "      <td>1,806,710 in Beauty &amp;amp; Personal Care (</td>\n",
              "      <td>B0000532JH</td>\n",
              "      <td>[\"Rich, black mineral mud, harvested from the ...</td>\n",
              "      <td>[]</td>\n",
              "      <td>[]</td>\n",
              "      <td>NaN</td>\n",
              "      <td>NaN</td>\n",
              "    </tr>\n",
              "    <tr>\n",
              "      <th>3</th>\n",
              "      <td>Crabtree &amp;amp; Evelyn Hand Soap, Gardeners, 10...</td>\n",
              "      <td>NaN</td>\n",
              "      <td>[]</td>\n",
              "      <td>B00005A77F</td>\n",
              "      <td>['This liquid soap with convenient pump dispen...</td>\n",
              "      <td>['B00004U9V2', 'B00GHX7H0A', 'B00FRERO7G', 'B0...</td>\n",
              "      <td>[]</td>\n",
              "      <td>$15.99</td>\n",
              "      <td>NaN</td>\n",
              "    </tr>\n",
              "    <tr>\n",
              "      <th>4</th>\n",
              "      <td>Soy Milk Hand Crme</td>\n",
              "      <td>NaN</td>\n",
              "      <td>42,464 in Beauty &amp;amp; Personal Care (</td>\n",
              "      <td>B00005NDTD</td>\n",
              "      <td>[\"Remember why you love your favorite blanket?...</td>\n",
              "      <td>[]</td>\n",
              "      <td>['B000NZT6KM', 'B001BY229Q', 'B008J724QY', 'B0...</td>\n",
              "      <td>$18.00</td>\n",
              "      <td>NaN</td>\n",
              "    </tr>\n",
              "  </tbody>\n",
              "</table>\n",
              "</div>"
            ],
            "text/plain": [
              "                                               title  ... similar_item\n",
              "0  Crabtree &amp; Evelyn - Gardener's Ultra-Moist...  ...          NaN\n",
              "1                                   AHAVA Bath Salts  ...          NaN\n",
              "2      AHAVA Dead Sea Mineral Mud, 8.5 oz, Pack of 4  ...          NaN\n",
              "3  Crabtree &amp; Evelyn Hand Soap, Gardeners, 10...  ...          NaN\n",
              "4                                 Soy Milk Hand Crme  ...          NaN\n",
              "\n",
              "[5 rows x 9 columns]"
            ]
          },
          "metadata": {
            "tags": []
          }
        }
      ]
    },
    {
      "cell_type": "code",
      "metadata": {
        "id": "f0pChcvPV8qe"
      },
      "source": [
        "# pd.options.display.max_rows\n",
        "# pd.set_option('display.max_colwidth', None)\n",
        "# lr[lr[\"vote\"].isna()][[\"reviewText\"]].head(30)"
      ],
      "execution_count": 8,
      "outputs": []
    },
    {
      "cell_type": "code",
      "metadata": {
        "id": "R3EMxHNsV8qs",
        "outputId": "88754562-a70a-4ace-af2b-b2068b57bdcc",
        "colab": {
          "base_uri": "https://localhost:8080/",
          "height": 85
        }
      },
      "source": [
        "# display(beauty[beauty[\"vote\"]==0]) \n",
        "# display(luxury[luxury[\"vote\"]==0]) \n",
        "# beauty['vote'] = beauty['vote'].fillna(0)\n",
        "# luxury['vote'] = luxury['vote'].fillna(0)\n",
        "\n",
        "#What proportion of the dataset does it represent?\n",
        "print('We have', len(br), 'reviews in the dataset and', \n",
        "      str(round((1 - len(br.dropna(subset=['vote']))/len(br))*100, 2)) + '%', \n",
        "      'are missing the vote value.')\n",
        "print('It means that we will be working on', str(round(len(br.dropna(subset=['vote']))/len(br)*100, 2)) \n",
        "      + '%', 'of the dataset, that is', int(len(br.dropna(subset=['vote']))/len(br)*len(br)),\n",
        "      'reviews.')\n",
        "\n",
        "print('We have', len(lr), 'reviews in the dataset and', \n",
        "      str(round((1 - len(lr.dropna(subset=['vote']))/len(lr))*100, 2)) + '%', \n",
        "      'are missing the vote value.')\n",
        "print('It means that we will be working on', str(round(len(lr.dropna(subset=['vote']))/len(lr)*100, 2)) \n",
        "      + '%', 'of the dataset, that is', int(len(lr.dropna(subset=['vote']))/len(lr)*len(lr)),\n",
        "      'reviews.')"
      ],
      "execution_count": 9,
      "outputs": [
        {
          "output_type": "stream",
          "text": [
            "We have 371345 reviews in the dataset and 86.02% are missing the vote value.\n",
            "It means that we will be working on 13.98% of the dataset, that is 51899 reviews.\n",
            "We have 574628 reviews in the dataset and 81.96% are missing the vote value.\n",
            "It means that we will be working on 18.04% of the dataset, that is 103689 reviews.\n"
          ],
          "name": "stdout"
        }
      ]
    },
    {
      "cell_type": "code",
      "metadata": {
        "scrolled": true,
        "id": "vUhJDHuGV8qu",
        "outputId": "b85e1e96-c0cb-4e9c-fc2d-7a7b16f8ea7e",
        "colab": {
          "base_uri": "https://localhost:8080/",
          "height": 267
        }
      },
      "source": [
        "display(br.groupby(\"verified\").count())\n",
        "display(lr.groupby(\"verified\").count())\n",
        "\n",
        "br = br.dropna(subset=['vote'])\n",
        "lr = lr.dropna(subset=['vote'])\n",
        "\n",
        "br = br.loc[br.verified, :]\n",
        "lr = lr.loc[lr.verified, :]"
      ],
      "execution_count": 10,
      "outputs": [
        {
          "output_type": "display_data",
          "data": {
            "text/html": [
              "<div>\n",
              "<style scoped>\n",
              "    .dataframe tbody tr th:only-of-type {\n",
              "        vertical-align: middle;\n",
              "    }\n",
              "\n",
              "    .dataframe tbody tr th {\n",
              "        vertical-align: top;\n",
              "    }\n",
              "\n",
              "    .dataframe thead th {\n",
              "        text-align: right;\n",
              "    }\n",
              "</style>\n",
              "<table border=\"1\" class=\"dataframe\">\n",
              "  <thead>\n",
              "    <tr style=\"text-align: right;\">\n",
              "      <th></th>\n",
              "      <th>overall</th>\n",
              "      <th>reviewTime</th>\n",
              "      <th>reviewerID</th>\n",
              "      <th>asin</th>\n",
              "      <th>reviewText</th>\n",
              "      <th>summary</th>\n",
              "      <th>vote</th>\n",
              "      <th>style</th>\n",
              "    </tr>\n",
              "    <tr>\n",
              "      <th>verified</th>\n",
              "      <th></th>\n",
              "      <th></th>\n",
              "      <th></th>\n",
              "      <th></th>\n",
              "      <th></th>\n",
              "      <th></th>\n",
              "      <th></th>\n",
              "      <th></th>\n",
              "    </tr>\n",
              "  </thead>\n",
              "  <tbody>\n",
              "    <tr>\n",
              "      <th>False</th>\n",
              "      <td>48872</td>\n",
              "      <td>48872</td>\n",
              "      <td>48872</td>\n",
              "      <td>48872</td>\n",
              "      <td>48848</td>\n",
              "      <td>48858</td>\n",
              "      <td>11375</td>\n",
              "      <td>15842</td>\n",
              "    </tr>\n",
              "    <tr>\n",
              "      <th>True</th>\n",
              "      <td>322473</td>\n",
              "      <td>322473</td>\n",
              "      <td>322473</td>\n",
              "      <td>322473</td>\n",
              "      <td>322098</td>\n",
              "      <td>322276</td>\n",
              "      <td>40524</td>\n",
              "      <td>110116</td>\n",
              "    </tr>\n",
              "  </tbody>\n",
              "</table>\n",
              "</div>"
            ],
            "text/plain": [
              "          overall  reviewTime  reviewerID  ...  summary   vote   style\n",
              "verified                                   ...                        \n",
              "False       48872       48872       48872  ...    48858  11375   15842\n",
              "True       322473      322473      322473  ...   322276  40524  110116\n",
              "\n",
              "[2 rows x 8 columns]"
            ]
          },
          "metadata": {
            "tags": []
          }
        },
        {
          "output_type": "display_data",
          "data": {
            "text/html": [
              "<div>\n",
              "<style scoped>\n",
              "    .dataframe tbody tr th:only-of-type {\n",
              "        vertical-align: middle;\n",
              "    }\n",
              "\n",
              "    .dataframe tbody tr th {\n",
              "        vertical-align: top;\n",
              "    }\n",
              "\n",
              "    .dataframe thead th {\n",
              "        text-align: right;\n",
              "    }\n",
              "</style>\n",
              "<table border=\"1\" class=\"dataframe\">\n",
              "  <thead>\n",
              "    <tr style=\"text-align: right;\">\n",
              "      <th></th>\n",
              "      <th>overall</th>\n",
              "      <th>reviewTime</th>\n",
              "      <th>reviewerID</th>\n",
              "      <th>asin</th>\n",
              "      <th>reviewText</th>\n",
              "      <th>summary</th>\n",
              "      <th>vote</th>\n",
              "      <th>style</th>\n",
              "    </tr>\n",
              "    <tr>\n",
              "      <th>verified</th>\n",
              "      <th></th>\n",
              "      <th></th>\n",
              "      <th></th>\n",
              "      <th></th>\n",
              "      <th></th>\n",
              "      <th></th>\n",
              "      <th></th>\n",
              "      <th></th>\n",
              "    </tr>\n",
              "  </thead>\n",
              "  <tbody>\n",
              "    <tr>\n",
              "      <th>False</th>\n",
              "      <td>70086</td>\n",
              "      <td>70086</td>\n",
              "      <td>70086</td>\n",
              "      <td>70086</td>\n",
              "      <td>70064</td>\n",
              "      <td>70070</td>\n",
              "      <td>16373</td>\n",
              "      <td>30626</td>\n",
              "    </tr>\n",
              "    <tr>\n",
              "      <th>True</th>\n",
              "      <td>504542</td>\n",
              "      <td>504542</td>\n",
              "      <td>504542</td>\n",
              "      <td>504542</td>\n",
              "      <td>504164</td>\n",
              "      <td>504370</td>\n",
              "      <td>87316</td>\n",
              "      <td>220387</td>\n",
              "    </tr>\n",
              "  </tbody>\n",
              "</table>\n",
              "</div>"
            ],
            "text/plain": [
              "          overall  reviewTime  reviewerID  ...  summary   vote   style\n",
              "verified                                   ...                        \n",
              "False       70086       70086       70086  ...    70070  16373   30626\n",
              "True       504542      504542      504542  ...   504370  87316  220387\n",
              "\n",
              "[2 rows x 8 columns]"
            ]
          },
          "metadata": {
            "tags": []
          }
        }
      ]
    },
    {
      "cell_type": "code",
      "metadata": {
        "id": "ZnRmD4xyV8qx",
        "outputId": "076f48b8-5044-4e09-ccf4-62a01cdb56e8",
        "colab": {
          "base_uri": "https://localhost:8080/",
          "height": 51
        }
      },
      "source": [
        "#We want to keep only the reviews that were written maximum 7 days before the max date of the dataset\n",
        "#We define a date threshold and keep only the reviews written before that threshold\n",
        "datelim_b = (datetime.strptime(max(br.reviewTime), '%Y-%m-%d') - timedelta(days = 7)).strftime('%Y-%m-%d')\n",
        "\n",
        "# print('The current max date is', max(combo.reviewTime))\n",
        "# print('The amount of reviews that were written at least 7 days before that date represents',\n",
        "#       str(round(len(combo[combo['reviewTime'] < datelim])/len(combo),6)*100) + '% of the dataset, that is',\n",
        "#       len(combo[combo['reviewTime'] < datelim]), 'reviews.')\n",
        "\n",
        "datelim_l = (datetime.strptime(max(lr.reviewTime), '%Y-%m-%d') - timedelta(days = 7)).strftime('%Y-%m-%d')\n",
        "\n",
        "# print('The current max date is', max(combo.reviewTime))\n",
        "# print('The amount of reviews that were written at least 7 days before that date represents',\n",
        "#       str(round(len(combo[combo['reviewTime'] < datelim])/len(combo),6)*100) + '% of the dataset, that is',\n",
        "#       len(combo[combo['reviewTime'] < datelim]), 'reviews.')\n",
        "\n",
        "print(\"Beauty \" + datelim_b) \n",
        "print(\"Luxury \" + datelim_l)"
      ],
      "execution_count": 11,
      "outputs": [
        {
          "output_type": "stream",
          "text": [
            "Beauty 2018-09-18\n",
            "Luxury 2018-08-22\n"
          ],
          "name": "stdout"
        }
      ]
    },
    {
      "cell_type": "code",
      "metadata": {
        "id": "PJtWmQvnV8qz"
      },
      "source": [
        "br = br[br['reviewTime'] < datelim_b]\n",
        "lr = lr[lr['reviewTime'] < datelim_b]"
      ],
      "execution_count": 12,
      "outputs": []
    },
    {
      "cell_type": "code",
      "metadata": {
        "id": "LvUBjWZhV8q1"
      },
      "source": [
        "br[['vote_stan']] = StandardScaler().fit_transform(br[['vote']])\n",
        "lr[['vote_stan']] = StandardScaler().fit_transform(lr[['vote']])\n",
        "\n",
        "br[['vote_norm']] = MinMaxScaler().fit_transform(br[['vote']])\n",
        "lr[['vote_norm']] = MinMaxScaler().fit_transform(lr[['vote']])"
      ],
      "execution_count": 13,
      "outputs": []
    },
    {
      "cell_type": "code",
      "metadata": {
        "id": "2Prq5O8CV8q3"
      },
      "source": [
        "reviews = pd.concat([br, lr], axis = 0)"
      ],
      "execution_count": 14,
      "outputs": []
    },
    {
      "cell_type": "code",
      "metadata": {
        "id": "6bAJVQnbV8q5",
        "outputId": "958e4f12-768d-4f53-cae3-4c13570c5dc2",
        "colab": {
          "base_uri": "https://localhost:8080/",
          "height": 51
        }
      },
      "source": [
        "print('We have', str(round((1 - len(reviews.drop_duplicates(subset=['reviewerID', 'asin', 'reviewText']))\\\n",
        "                            /len(reviews))*100,2))\n",
        "      + '%', 'duplicate reviews in the dataset.')\n",
        "print('We will remove them, meaning that our dataset contains now', \n",
        "      len(reviews.drop_duplicates(subset=['reviewerID', 'asin', 'reviewText'])), 'reviews.')"
      ],
      "execution_count": 15,
      "outputs": [
        {
          "output_type": "stream",
          "text": [
            "We have 5.18% duplicate reviews in the dataset.\n",
            "We will remove them, meaning that our dataset contains now 121212 reviews.\n"
          ],
          "name": "stdout"
        }
      ]
    },
    {
      "cell_type": "code",
      "metadata": {
        "id": "3R_T2ghjV8q7"
      },
      "source": [
        "reviews = reviews.sort_values(by=\"vote\",ascending=False).drop_duplicates(subset=['reviewerID', 'asin', 'reviewText'])"
      ],
      "execution_count": 16,
      "outputs": []
    },
    {
      "cell_type": "code",
      "metadata": {
        "id": "t8bo6sDWV8q9"
      },
      "source": [
        "# reviews[[\"vote_stan\"]].nlargest(20, ['vote_stan'])"
      ],
      "execution_count": 17,
      "outputs": []
    },
    {
      "cell_type": "code",
      "metadata": {
        "id": "DFm8JMvAV8q-",
        "outputId": "d686339e-9eda-4c7b-9c9c-607fa7565145",
        "colab": {
          "base_uri": "https://localhost:8080/",
          "height": 316
        }
      },
      "source": [
        "# hist_df = combo.loc[~(combo[\"vote\"]==0)]\n",
        "hist_df = reviews.loc[~(reviews[\"vote_stan\"]>5)]\n",
        "print(len(reviews))\n",
        "print(len(hist_df))\n",
        "hist_df.vote_stan.hist(bins=20)\n",
        "# combo.vote.hist(bins=3)"
      ],
      "execution_count": 18,
      "outputs": [
        {
          "output_type": "stream",
          "text": [
            "121212\n",
            "120879\n"
          ],
          "name": "stdout"
        },
        {
          "output_type": "execute_result",
          "data": {
            "text/plain": [
              "<matplotlib.axes._subplots.AxesSubplot at 0x7fe3a31e6978>"
            ]
          },
          "metadata": {
            "tags": []
          },
          "execution_count": 18
        },
        {
          "output_type": "display_data",
          "data": {
            "image/png": "[encoded data removed]",
            "text/plain": [
              "<Figure size 432x288 with 1 Axes>"
            ]
          },
          "metadata": {
            "tags": [],
            "needs_background": "light"
          }
        }
      ]
    },
    {
      "cell_type": "code",
      "metadata": {
        "id": "NxcL9PMpV8rA",
        "outputId": "250c90bb-35d8-4db6-f6f4-3192e492b13b",
        "colab": {
          "base_uri": "https://localhost:8080/",
          "height": 316
        }
      },
      "source": [
        "# hist_df = combo.loc[~(combo[\"vote\"]==0)]\n",
        "hist_df = reviews.loc[~(reviews[\"vote_norm\"]>.2)]\n",
        "print(len(reviews))\n",
        "print(len(hist_df))\n",
        "hist_df.vote_norm.hist(bins=20)\n",
        "# combo.vote.hist(bins=3)"
      ],
      "execution_count": 19,
      "outputs": [
        {
          "output_type": "stream",
          "text": [
            "121212\n",
            "121185\n"
          ],
          "name": "stdout"
        },
        {
          "output_type": "execute_result",
          "data": {
            "text/plain": [
              "<matplotlib.axes._subplots.AxesSubplot at 0x7fe3a3e60ac8>"
            ]
          },
          "metadata": {
            "tags": []
          },
          "execution_count": 19
        },
        {
          "output_type": "display_data",
          "data": {
            "image/png": "[encoded data removed]",
            "text/plain": [
              "<Figure size 432x288 with 1 Axes>"
            ]
          },
          "metadata": {
            "tags": [],
            "needs_background": "light"
          }
        }
      ]
    },
    {
      "cell_type": "code",
      "metadata": {
        "id": "3V12Tv21V8rC",
        "outputId": "8a577cf4-c804-4c21-e9f7-ff7cd727dd8d",
        "colab": {
          "base_uri": "https://localhost:8080/",
          "height": 244
        }
      },
      "source": [
        "reviews.sort_values(by=\"vote_norm\", ascending=False).head(3)"
      ],
      "execution_count": 20,
      "outputs": [
        {
          "output_type": "execute_result",
          "data": {
            "text/html": [
              "<div>\n",
              "<style scoped>\n",
              "    .dataframe tbody tr th:only-of-type {\n",
              "        vertical-align: middle;\n",
              "    }\n",
              "\n",
              "    .dataframe tbody tr th {\n",
              "        vertical-align: top;\n",
              "    }\n",
              "\n",
              "    .dataframe thead th {\n",
              "        text-align: right;\n",
              "    }\n",
              "</style>\n",
              "<table border=\"1\" class=\"dataframe\">\n",
              "  <thead>\n",
              "    <tr style=\"text-align: right;\">\n",
              "      <th></th>\n",
              "      <th>overall</th>\n",
              "      <th>verified</th>\n",
              "      <th>reviewTime</th>\n",
              "      <th>reviewerID</th>\n",
              "      <th>asin</th>\n",
              "      <th>reviewText</th>\n",
              "      <th>summary</th>\n",
              "      <th>vote</th>\n",
              "      <th>style</th>\n",
              "      <th>vote_stan</th>\n",
              "      <th>vote_norm</th>\n",
              "    </tr>\n",
              "  </thead>\n",
              "  <tbody>\n",
              "    <tr>\n",
              "      <th>22623</th>\n",
              "      <td>4.0</td>\n",
              "      <td>True</td>\n",
              "      <td>2015-11-14</td>\n",
              "      <td>A2J0S1IC4PU9G8</td>\n",
              "      <td>B0002ZW5UQ</td>\n",
              "      <td>So, if you're bothering to read reviews about ...</td>\n",
              "      <td>Not bad, Toppik, but let's be clear about a fe...</td>\n",
              "      <td>2995.0</td>\n",
              "      <td>{'Size:': ' 0.42 oz.', 'Color:': ' Dark Brown'}</td>\n",
              "      <td>120.077389</td>\n",
              "      <td>1.000000</td>\n",
              "    </tr>\n",
              "    <tr>\n",
              "      <th>134223</th>\n",
              "      <td>5.0</td>\n",
              "      <td>True</td>\n",
              "      <td>2011-10-24</td>\n",
              "      <td>A2LXX47A0KMJVX</td>\n",
              "      <td>B000FOI48G</td>\n",
              "      <td>&lt;div id=\"video-block-R2HEG12C48KXPW\" class=\"a-...</td>\n",
              "      <td>Very happy with this. Quiet operation, large w...</td>\n",
              "      <td>2721.0</td>\n",
              "      <td>NaN</td>\n",
              "      <td>100.249017</td>\n",
              "      <td>1.000000</td>\n",
              "    </tr>\n",
              "    <tr>\n",
              "      <th>39144</th>\n",
              "      <td>5.0</td>\n",
              "      <td>True</td>\n",
              "      <td>2011-10-24</td>\n",
              "      <td>A2LXX47A0KMJVX</td>\n",
              "      <td>B000GLRREU</td>\n",
              "      <td>&lt;div id=\"video-block-R2HEG12C48KXPW\" class=\"a-...</td>\n",
              "      <td>Very happy with this. Quiet operation, large w...</td>\n",
              "      <td>2713.0</td>\n",
              "      <td>{'Size:': ' Ultra'}</td>\n",
              "      <td>99.953594</td>\n",
              "      <td>0.997058</td>\n",
              "    </tr>\n",
              "  </tbody>\n",
              "</table>\n",
              "</div>"
            ],
            "text/plain": [
              "        overall  verified  ...   vote_stan vote_norm\n",
              "22623       4.0      True  ...  120.077389  1.000000\n",
              "134223      5.0      True  ...  100.249017  1.000000\n",
              "39144       5.0      True  ...   99.953594  0.997058\n",
              "\n",
              "[3 rows x 11 columns]"
            ]
          },
          "metadata": {
            "tags": []
          },
          "execution_count": 20
        }
      ]
    },
    {
      "cell_type": "code",
      "metadata": {
        "id": "rP8Q_rlFciZw"
      },
      "source": [
        ""
      ],
      "execution_count": 20,
      "outputs": []
    },
    {
      "cell_type": "code",
      "metadata": {
        "id": "yNYD0CS-cime"
      },
      "source": [
        ""
      ],
      "execution_count": 20,
      "outputs": []
    },
    {
      "cell_type": "code",
      "metadata": {
        "id": "6htCIGeLcitO"
      },
      "source": [
        "reviews = pd.read_csv(\"/content/drive/My Drive/amazon_reviews/model_data.csv\",low_memory=False)\n",
        "dashboard = pd.read_csv(\"/content/drive/My Drive/amazon_reviews/dashboard_data.csv\",low_memory=False)\n"
      ],
      "execution_count": 21,
      "outputs": []
    },
    {
      "cell_type": "code",
      "metadata": {
        "id": "ZMBLpe5OH7ig"
      },
      "source": [
        "reviews.loc[reviews.vote_norm >= .07, 'helpful'] = 1\n",
        "reviews.loc[reviews.vote_norm < .07, 'helpful'] = 0"
      ],
      "execution_count": 22,
      "outputs": []
    },
    {
      "cell_type": "code",
      "metadata": {
        "id": "g9rmBG8MH7tY",
        "outputId": "8d5da5cf-ac84-41f9-e6e6-e8407f2e12cb",
        "colab": {
          "base_uri": "https://localhost:8080/",
          "height": 142
        }
      },
      "source": [
        "reviews.groupby(\"helpful\").count()"
      ],
      "execution_count": 23,
      "outputs": [
        {
          "output_type": "execute_result",
          "data": {
            "text/html": [
              "<div>\n",
              "<style scoped>\n",
              "    .dataframe tbody tr th:only-of-type {\n",
              "        vertical-align: middle;\n",
              "    }\n",
              "\n",
              "    .dataframe tbody tr th {\n",
              "        vertical-align: top;\n",
              "    }\n",
              "\n",
              "    .dataframe thead th {\n",
              "        text-align: right;\n",
              "    }\n",
              "</style>\n",
              "<table border=\"1\" class=\"dataframe\">\n",
              "  <thead>\n",
              "    <tr style=\"text-align: right;\">\n",
              "      <th></th>\n",
              "      <th>overall</th>\n",
              "      <th>verified</th>\n",
              "      <th>reviewTime</th>\n",
              "      <th>reviewerID</th>\n",
              "      <th>asin</th>\n",
              "      <th>reviewText</th>\n",
              "      <th>summary</th>\n",
              "      <th>vote</th>\n",
              "      <th>style</th>\n",
              "      <th>vote_stan</th>\n",
              "      <th>vote_norm</th>\n",
              "      <th>sentiment</th>\n",
              "    </tr>\n",
              "    <tr>\n",
              "      <th>helpful</th>\n",
              "      <th></th>\n",
              "      <th></th>\n",
              "      <th></th>\n",
              "      <th></th>\n",
              "      <th></th>\n",
              "      <th></th>\n",
              "      <th></th>\n",
              "      <th></th>\n",
              "      <th></th>\n",
              "      <th></th>\n",
              "      <th></th>\n",
              "      <th></th>\n",
              "    </tr>\n",
              "  </thead>\n",
              "  <tbody>\n",
              "    <tr>\n",
              "      <th>0.0</th>\n",
              "      <td>60231</td>\n",
              "      <td>60231</td>\n",
              "      <td>60231</td>\n",
              "      <td>60231</td>\n",
              "      <td>60231</td>\n",
              "      <td>60185</td>\n",
              "      <td>60212</td>\n",
              "      <td>60231</td>\n",
              "      <td>22901</td>\n",
              "      <td>60231</td>\n",
              "      <td>60231</td>\n",
              "      <td>51546</td>\n",
              "    </tr>\n",
              "    <tr>\n",
              "      <th>1.0</th>\n",
              "      <td>105</td>\n",
              "      <td>105</td>\n",
              "      <td>105</td>\n",
              "      <td>105</td>\n",
              "      <td>105</td>\n",
              "      <td>105</td>\n",
              "      <td>105</td>\n",
              "      <td>105</td>\n",
              "      <td>49</td>\n",
              "      <td>105</td>\n",
              "      <td>105</td>\n",
              "      <td>92</td>\n",
              "    </tr>\n",
              "  </tbody>\n",
              "</table>\n",
              "</div>"
            ],
            "text/plain": [
              "         overall  verified  reviewTime  ...  vote_stan  vote_norm  sentiment\n",
              "helpful                                 ...                                 \n",
              "0.0        60231     60231       60231  ...      60231      60231      51546\n",
              "1.0          105       105         105  ...        105        105         92\n",
              "\n",
              "[2 rows x 12 columns]"
            ]
          },
          "metadata": {
            "tags": []
          },
          "execution_count": 23
        }
      ]
    },
    {
      "cell_type": "code",
      "metadata": {
        "id": "yDFqn0qiH7wD"
      },
      "source": [
        "reviews.loc[:, 'reviewText'] = reviews['reviewText'].str.lower()"
      ],
      "execution_count": 24,
      "outputs": []
    },
    {
      "cell_type": "code",
      "metadata": {
        "id": "FsC_47UNjqx1",
        "outputId": "098195b9-86e6-4e46-bb7f-a26804cd73f0",
        "colab": {
          "base_uri": "https://localhost:8080/",
          "height": 34
        }
      },
      "source": [
        "reviews = reviews.astype({\"reviewText\": str})\n",
        "reviews.reviewText.dtypes"
      ],
      "execution_count": 25,
      "outputs": [
        {
          "output_type": "execute_result",
          "data": {
            "text/plain": [
              "dtype('O')"
            ]
          },
          "metadata": {
            "tags": []
          },
          "execution_count": 25
        }
      ]
    },
    {
      "cell_type": "code",
      "metadata": {
        "id": "iOQs4YWiH71W",
        "outputId": "b0761b14-12c2-442a-94c3-f5e19508d97d",
        "colab": {
          "base_uri": "https://localhost:8080/",
          "height": 204
        }
      },
      "source": [
        "def remove_punctuation(text):\n",
        "    # return text.translate(None, string.punctuation.translate(None, '\"'))\n",
        "    return text.translate(str.maketrans('','',string.punctuation))\n",
        "def remove_nums(text):\n",
        "    return text.translate(str.maketrans('','','1234567890'))\n",
        "\n",
        "reviews['reviewText']=reviews['reviewText'].apply( lambda x: remove_punctuation(x))\n",
        "reviews['reviewText']=reviews['reviewText'].apply( lambda x: remove_nums(x))\n",
        "\n",
        "# text = text.translate(str.maketrans('','',string.punctuation))\n",
        "# reviews['reviewText'] = reviews['reviewText'].apply( lambda x: x.translate(str.maketrans('','',string.punctuation)))\n",
        "reviews['reviewText'].head(10)"
      ],
      "execution_count": 26,
      "outputs": [
        {
          "output_type": "execute_result",
          "data": {
            "text/plain": [
              "0    div idvideoblockrhegckxpw classasection aspaci...\n",
              "1    everyone has different experiences but the fla...\n",
              "2    i got one area of my body that i want to get r...\n",
              "3    this is long but important i have very thick a...\n",
              "4    im not sure why they dont refer to this waterp...\n",
              "5    im not sure why they dont refer to this waterp...\n",
              "6    ive been reading great reviews but users compl...\n",
              "7    a datahookproductlinklinked classalinknormal h...\n",
              "8    this is the best deodorant ive used since swit...\n",
              "9    i purchased this unit after seeing the infomer...\n",
              "Name: reviewText, dtype: object"
            ]
          },
          "metadata": {
            "tags": []
          },
          "execution_count": 26
        }
      ]
    },
    {
      "cell_type": "code",
      "metadata": {
        "id": "SWToqlfMH74M",
        "outputId": "8ea0f1b7-9f0c-40cc-926e-765194d4ce1d",
        "colab": {
          "base_uri": "https://localhost:8080/",
          "height": 51
        }
      },
      "source": [
        "#tokenize text with Tfidf\n",
        "from sklearn.feature_extraction.text import TfidfVectorizer\n",
        "from nltk.stem.snowball import SnowballStemmer\n",
        "\n",
        "#create a stemmer\n",
        "stemmer = SnowballStemmer(\"english\")\n",
        "\n",
        "\n",
        "#define our own tokenizing function that we will pass into the TFIDFVectorizer. We will also stem the words here.\n",
        "def tokens(x):\n",
        "    x = x.split()\n",
        "    stems = []\n",
        "    [stems.append(stemmer.stem(word)) for word in x]\n",
        "    return stems\n",
        "\n",
        "#loads pickle if exists, extracts and pickles if it doesn't\n",
        "if os.path.exists('features.pickle'):\n",
        "    print ('Pickled file already present, loading...')\n",
        "    features = pickle.load( open( \"features.pickle\", \"rb\" ) )\n",
        "    print ('Pickle file loaded.')\n",
        "else:\n",
        "    #define the vectorizer\n",
        "    vectorizer = TfidfVectorizer(tokenizer = tokens, stop_words = 'english', ngram_range=(1, 1), min_df = 0.01, max_features=478)\n",
        "    #fit the vectorizers to the data.\n",
        "    features = vectorizer.fit_transform(reviews['reviewText'])\n",
        "features"
      ],
      "execution_count": 27,
      "outputs": [
        {
          "output_type": "execute_result",
          "data": {
            "text/plain": [
              "<60336x478 sparse matrix of type '<class 'numpy.float64'>'\n",
              "\twith 1053215 stored elements in Compressed Sparse Row format>"
            ]
          },
          "metadata": {
            "tags": []
          },
          "execution_count": 27
        }
      ]
    },
    {
      "cell_type": "code",
      "metadata": {
        "id": "0v21ALflQN9D"
      },
      "source": [
        "from sklearn.model_selection import train_test_split\n",
        "X_train, X_test, y_train, y_test = train_test_split(features,reviews['helpful'], test_size=0.2, random_state=42)"
      ],
      "execution_count": 28,
      "outputs": []
    },
    {
      "cell_type": "code",
      "metadata": {
        "id": "xfeXxkjdQN_q"
      },
      "source": [
        "from sklearn.metrics import roc_auc_score, roc_curve\n",
        "\n",
        "def train_classifier(clf, X_train, y_train):\n",
        "    ''' Fits a classifier to the training data. '''\n",
        "    \n",
        "    # Start the clock, train the classifier, then stop the clock\n",
        "    start = time()\n",
        "    clf.fit(X_train, y_train)\n",
        "    end = time()\n",
        "    \n",
        "    # Print the results\n",
        "    print (\"Trained model in {:.4f} seconds\".format(end - start))\n",
        "\n",
        "    \n",
        "def predict_labels(clf, features, target):\n",
        "    ''' Makes predictions using a fit classifier based on roc_auc score. '''\n",
        "    \n",
        "    # Start the clock, make predictions, then stop the clock\n",
        "    start = time()\n",
        "    probas = clf.predict_proba(features)\n",
        "    end = time()\n",
        "    \n",
        "    # Print and return results\n",
        "    print (\"Made predictions in {:.4f} seconds.\".format(end - start))\n",
        "    return roc_auc_score(target.values, probas[:,1].T)\n",
        "\n",
        "\n",
        "def train_predict(clf, X_train, y_train, X_test, y_test):\n",
        "    ''' Train and predict using a classifer based on roc_auc score. '''\n",
        "    \n",
        "    # Indicate the classifier and the training set size\n",
        "    print (\"Training a {} using a training set size of {}. . .\".format(clf.__class__.__name__, X_train.shape[0]))\n",
        "    \n",
        "    # Train the classifier\n",
        "    train_classifier(clf, X_train, y_train)\n",
        "    \n",
        "    # Print the results of prediction for both training and testing\n",
        "    print (\"ROC_AUC score for training set: {:.4f}.\".format(predict_labels(clf, X_train, y_train)))\n",
        "    print (\"ROC_AUC score for test set: {:.4f}.\\n\".format(predict_labels(clf, X_test, y_test)))\n",
        "    \n",
        "def clf_test_roc_score(clf, X_train, y_train, X_test, y_test):\n",
        "    clf.fit(X_train, y_train)\n",
        "    probas = probas =clf.predict_proba(X_test)\n",
        "    return roc_auc_score(y_test, probas[:,1].T)"
      ],
      "execution_count": 29,
      "outputs": []
    },
    {
      "cell_type": "code",
      "metadata": {
        "id": "aggCQK9UQOB5",
        "outputId": "2a2ae35d-7e09-444c-c788-e6c841325d8b",
        "colab": {
          "base_uri": "https://localhost:8080/",
          "height": 1000
        }
      },
      "source": [
        "# Import the supervised learning models from sklearn\n",
        "from sklearn.naive_bayes import GaussianNB\n",
        "from sklearn.ensemble import AdaBoostClassifier\n",
        "from sklearn.ensemble import RandomForestClassifier\n",
        "from sklearn.linear_model import LogisticRegression\n",
        "from sklearn.tree import DecisionTreeClassifier\n",
        "\n",
        "\n",
        "# Initialize the models using a random state were applicable.\n",
        "clf_list = [GaussianNB(), \n",
        "            AdaBoostClassifier(random_state = RAN_STATE), \n",
        "            RandomForestClassifier(random_state = RAN_STATE), \n",
        "            LogisticRegression(random_state = RAN_STATE),\n",
        "            DecisionTreeClassifier(random_state = RAN_STATE)]\n",
        "x_tr = X_train.toarray()\n",
        "x_te = X_test.toarray()\n",
        "\n",
        "\n",
        "# Set up the training set sizes for 100, 200 and 300 respectively.\n",
        "train_feature_list = [x_tr[0:10000],x_tr[0:20000],x_tr]\n",
        "train_target_list = [y_train[0:10000], y_train[0:20000], y_train]\n",
        "\n",
        "\n",
        "# Execute the 'train_predict' function for each of the classifiers and each training set size\n",
        "for clf in clf_list:\n",
        "    for a, b in zip(train_feature_list, train_target_list):\n",
        "        train_predict(clf, a, b, x_te, y_test)"
      ],
      "execution_count": 30,
      "outputs": [
        {
          "output_type": "stream",
          "text": [
            "Training a GaussianNB using a training set size of 10000. . .\n",
            "Trained model in 0.0778 seconds\n",
            "Made predictions in 0.0663 seconds.\n",
            "ROC_AUC score for training set: 0.8887.\n",
            "Made predictions in 0.0933 seconds.\n",
            "ROC_AUC score for test set: 0.3840.\n",
            "\n",
            "Training a GaussianNB using a training set size of 20000. . .\n",
            "Trained model in 0.2827 seconds\n",
            "Made predictions in 0.1188 seconds.\n",
            "ROC_AUC score for training set: 0.8188.\n",
            "Made predictions in 0.0796 seconds.\n",
            "ROC_AUC score for test set: 0.3329.\n",
            "\n",
            "Training a GaussianNB using a training set size of 48268. . .\n",
            "Trained model in 0.4447 seconds\n",
            "Made predictions in 0.2660 seconds.\n",
            "ROC_AUC score for training set: 0.8547.\n",
            "Made predictions in 0.0763 seconds.\n",
            "ROC_AUC score for test set: 0.5844.\n",
            "\n",
            "Training a AdaBoostClassifier using a training set size of 10000. . .\n",
            "Trained model in 5.1952 seconds\n",
            "Made predictions in 0.6436 seconds.\n",
            "ROC_AUC score for training set: 1.0000.\n",
            "Made predictions in 0.7780 seconds.\n",
            "ROC_AUC score for test set: 0.3695.\n",
            "\n",
            "Training a AdaBoostClassifier using a training set size of 20000. . .\n",
            "Trained model in 11.6348 seconds\n",
            "Made predictions in 1.3006 seconds.\n",
            "ROC_AUC score for training set: 0.9994.\n",
            "Made predictions in 0.8000 seconds.\n",
            "ROC_AUC score for test set: 0.6709.\n",
            "\n",
            "Training a AdaBoostClassifier using a training set size of 48268. . .\n",
            "Trained model in 31.9769 seconds\n",
            "Made predictions in 3.0260 seconds.\n",
            "ROC_AUC score for training set: 0.9866.\n",
            "Made predictions in 0.7998 seconds.\n",
            "ROC_AUC score for test set: 0.7497.\n",
            "\n",
            "Training a RandomForestClassifier using a training set size of 10000. . .\n",
            "Trained model in 2.0128 seconds\n",
            "Made predictions in 0.1125 seconds.\n",
            "ROC_AUC score for training set: 1.0000.\n",
            "Made predictions in 0.1563 seconds.\n",
            "ROC_AUC score for test set: 0.6862.\n",
            "\n",
            "Training a RandomForestClassifier using a training set size of 20000. . .\n",
            "Trained model in 6.1662 seconds\n",
            "Made predictions in 0.3332 seconds.\n",
            "ROC_AUC score for training set: 1.0000.\n",
            "Made predictions in 0.1806 seconds.\n",
            "ROC_AUC score for test set: 0.7120.\n",
            "\n",
            "Training a RandomForestClassifier using a training set size of 48268. . .\n",
            "Trained model in 26.6341 seconds\n",
            "Made predictions in 1.6754 seconds.\n",
            "ROC_AUC score for training set: 1.0000.\n",
            "Made predictions in 0.2581 seconds.\n",
            "ROC_AUC score for test set: 0.6275.\n",
            "\n",
            "Training a LogisticRegression using a training set size of 10000. . .\n",
            "Trained model in 0.1323 seconds\n",
            "Made predictions in 0.0065 seconds.\n",
            "ROC_AUC score for training set: 0.9968.\n",
            "Made predictions in 0.0101 seconds.\n",
            "ROC_AUC score for test set: 0.7256.\n",
            "\n",
            "Training a LogisticRegression using a training set size of 20000. . .\n",
            "Trained model in 0.3510 seconds\n",
            "Made predictions in 0.0143 seconds.\n",
            "ROC_AUC score for training set: 0.9849.\n",
            "Made predictions in 0.0099 seconds.\n",
            "ROC_AUC score for test set: 0.7952.\n",
            "\n",
            "Training a LogisticRegression using a training set size of 48268. . .\n",
            "Trained model in 1.1273 seconds\n",
            "Made predictions in 0.0362 seconds.\n",
            "ROC_AUC score for training set: 0.9663.\n",
            "Made predictions in 0.0094 seconds.\n",
            "ROC_AUC score for test set: 0.8617.\n",
            "\n",
            "Training a DecisionTreeClassifier using a training set size of 10000. . .\n",
            "Trained model in 1.0589 seconds\n",
            "Made predictions in 0.0125 seconds.\n",
            "ROC_AUC score for training set: 1.0000.\n",
            "Made predictions in 0.0150 seconds.\n",
            "ROC_AUC score for test set: 0.4990.\n",
            "\n",
            "Training a DecisionTreeClassifier using a training set size of 20000. . .\n",
            "Trained model in 3.4346 seconds\n",
            "Made predictions in 0.0270 seconds.\n",
            "ROC_AUC score for training set: 1.0000.\n",
            "Made predictions in 0.0165 seconds.\n",
            "ROC_AUC score for test set: 0.4992.\n",
            "\n",
            "Training a DecisionTreeClassifier using a training set size of 48268. . .\n",
            "Trained model in 11.4001 seconds\n",
            "Made predictions in 0.0629 seconds.\n",
            "ROC_AUC score for training set: 1.0000.\n",
            "Made predictions in 0.0167 seconds.\n",
            "ROC_AUC score for test set: 0.5269.\n",
            "\n"
          ],
          "name": "stdout"
        }
      ]
    },
    {
      "cell_type": "code",
      "metadata": {
        "id": "j79VsGPQQOEa",
        "outputId": "df81d6a4-391f-4a86-d9f5-e94da170c91b",
        "colab": {
          "base_uri": "https://localhost:8080/",
          "height": 312
        }
      },
      "source": [
        "### Visualize all of the classifiers                                                               \n",
        "for clf in clf_list:\n",
        "    x_graph = []\n",
        "    y_graph = []\n",
        "    for a, b in zip(train_feature_list, train_target_list):\n",
        "        y_graph.append(clf_test_roc_score(clf, a, b, x_te, y_test))\n",
        "        x_graph.append(len(a))\n",
        "    plt.scatter(x_graph,y_graph)\n",
        "    plt.plot(x_graph,y_graph, label = clf.__class__.__name__)\n",
        "\n",
        "plt.title('Comparison of Different Classifiers')\n",
        "plt.xlabel('Training Size')\n",
        "plt.ylabel('ROC_AUC score on test set')\n",
        "plt.legend(bbox_to_anchor=(1.6, 1.05))\n",
        "plt.figure(figsize=FIG_SIZE)             \n",
        "plt.show()"
      ],
      "execution_count": 31,
      "outputs": [
        {
          "output_type": "display_data",
          "data": {
            "image/png": "[encoded data removed]",
            "text/plain": [
              "<Figure size 432x288 with 1 Axes>"
            ]
          },
          "metadata": {
            "tags": [],
            "needs_background": "light"
          }
        },
        {
          "output_type": "display_data",
          "data": {
            "text/plain": [
              "<Figure size 1008x576 with 0 Axes>"
            ]
          },
          "metadata": {
            "tags": []
          }
        }
      ]
    },
    {
      "cell_type": "code",
      "metadata": {
        "id": "9wI7s-TqQOI8",
        "outputId": "45eba651-5b22-4a1c-b64f-d3a05ac89f1b",
        "colab": {
          "base_uri": "https://localhost:8080/",
          "height": 34
        }
      },
      "source": [
        "random_numbers = range(1,101)\n",
        "tot = 0.0\n",
        "for seed in random_numbers:\n",
        "    clf3 = LogisticRegression(random_state=seed)\n",
        "    clf3.fit(X_train, y_train)\n",
        "    probas =clf3.predict_proba(X_test)\n",
        "    tot += roc_auc_score(y_test, probas[:,1].T)\n",
        "    \n",
        "print ('Average ROC_AUC Score for 1-100 random_state: {:.4f}'.format(tot/100))"
      ],
      "execution_count": 32,
      "outputs": [
        {
          "output_type": "stream",
          "text": [
            "Average ROC_AUC Score for 1-100 random_state: 0.8617\n"
          ],
          "name": "stdout"
        }
      ]
    },
    {
      "cell_type": "code",
      "metadata": {
        "id": "jqEc382rQOLi"
      },
      "source": [
        "dashboard = dashboard.astype({\"reviewText\": str})\n",
        "\n",
        "dashboard['reviewText']=dashboard['reviewText'].apply( lambda x: remove_punctuation(x))\n",
        "dashboard['reviewText']=dashboard['reviewText'].apply( lambda x: remove_nums(x))\n",
        "\n",
        "vectorizer = TfidfVectorizer(tokenizer = tokens, stop_words = 'english', ngram_range=(1, 1), min_df = 0.01, max_features=478)\n",
        "#fit the vectorizers to the data.\n",
        "\n",
        "# reviews['df'] = 'train'\n",
        "# dashboard['df'] = 'dash'\n",
        "\n",
        "# reviews = reviews.drop(['helpful'], axis=1)\n",
        "\n",
        "# combo = pd.concat([reviews,dashboard],axis=0)\n",
        "dash_features = vectorizer.fit_transform(dashboard['reviewText'])\n",
        "\n",
        "# dash_data.head()\n",
        "# dash_data.to_numpy()\n",
        "\n",
        "# dash_features_df = pd.DataFrame(dash_features.toarray())\n",
        "# combo = pd.merge(combo, dash_features_df, left_index=True,right_index=True)"
      ],
      "execution_count": 33,
      "outputs": []
    },
    {
      "cell_type": "code",
      "metadata": {
        "id": "0mufVU53Hafo"
      },
      "source": [
        "# X_train = combo.loc[combo['df'] == 'train'].iloc[:,14:]\n",
        "# y_train = combo.loc[combo['df'] == 'train'].iloc[:,11]\n",
        "# dash_features = combo.loc[combo['df'] == 'dash'].iloc[:,14:]"
      ],
      "execution_count": 34,
      "outputs": []
    },
    {
      "cell_type": "code",
      "metadata": {
        "id": "MNz6FHdbEwr6",
        "outputId": "05a6fd4b-009a-42db-bcc3-368fbd3dbe6a",
        "colab": {
          "base_uri": "https://localhost:8080/",
          "height": 612
        }
      },
      "source": [
        "display(reviews.head())\n",
        "display(dashboard.head())\n",
        "\n",
        "# print(dash_features[1])\n",
        "# type(dash_features[1])\n",
        "type(X_train[1])\n",
        "# print(X_train[0])"
      ],
      "execution_count": 35,
      "outputs": [
        {
          "output_type": "display_data",
          "data": {
            "text/html": [
              "<div>\n",
              "<style scoped>\n",
              "    .dataframe tbody tr th:only-of-type {\n",
              "        vertical-align: middle;\n",
              "    }\n",
              "\n",
              "    .dataframe tbody tr th {\n",
              "        vertical-align: top;\n",
              "    }\n",
              "\n",
              "    .dataframe thead th {\n",
              "        text-align: right;\n",
              "    }\n",
              "</style>\n",
              "<table border=\"1\" class=\"dataframe\">\n",
              "  <thead>\n",
              "    <tr style=\"text-align: right;\">\n",
              "      <th></th>\n",
              "      <th>overall</th>\n",
              "      <th>verified</th>\n",
              "      <th>reviewTime</th>\n",
              "      <th>reviewerID</th>\n",
              "      <th>asin</th>\n",
              "      <th>reviewText</th>\n",
              "      <th>summary</th>\n",
              "      <th>vote</th>\n",
              "      <th>style</th>\n",
              "      <th>vote_stan</th>\n",
              "      <th>vote_norm</th>\n",
              "      <th>sentiment</th>\n",
              "      <th>helpful</th>\n",
              "    </tr>\n",
              "  </thead>\n",
              "  <tbody>\n",
              "    <tr>\n",
              "      <th>0</th>\n",
              "      <td>5.0</td>\n",
              "      <td>True</td>\n",
              "      <td>2011-10-24</td>\n",
              "      <td>A2LXX47A0KMJVX</td>\n",
              "      <td>B000GLRREU</td>\n",
              "      <td>div idvideoblockrhegckxpw classasection aspaci...</td>\n",
              "      <td>Very happy with this. Quiet operation, large w...</td>\n",
              "      <td>2713.0</td>\n",
              "      <td>{'Size:': ' Ultra'}</td>\n",
              "      <td>99.953594</td>\n",
              "      <td>0.997058</td>\n",
              "      <td>1.0</td>\n",
              "      <td>1.0</td>\n",
              "    </tr>\n",
              "    <tr>\n",
              "      <th>1</th>\n",
              "      <td>4.0</td>\n",
              "      <td>True</td>\n",
              "      <td>2012-11-08</td>\n",
              "      <td>A1IGCUY11IG8I2</td>\n",
              "      <td>B00HX27AM4</td>\n",
              "      <td>everyone has different experiences but the fla...</td>\n",
              "      <td>Works well for me.</td>\n",
              "      <td>2378.0</td>\n",
              "      <td>NaN</td>\n",
              "      <td>95.284234</td>\n",
              "      <td>0.793852</td>\n",
              "      <td>1.0</td>\n",
              "      <td>1.0</td>\n",
              "    </tr>\n",
              "    <tr>\n",
              "      <th>2</th>\n",
              "      <td>5.0</td>\n",
              "      <td>True</td>\n",
              "      <td>2012-09-21</td>\n",
              "      <td>AZ4EUUJVC8358</td>\n",
              "      <td>B00HX27AM4</td>\n",
              "      <td>i got one area of my body that i want to get r...</td>\n",
              "      <td>The truth - 11 months later</td>\n",
              "      <td>1918.0</td>\n",
              "      <td>NaN</td>\n",
              "      <td>76.799872</td>\n",
              "      <td>0.640160</td>\n",
              "      <td>1.0</td>\n",
              "      <td>1.0</td>\n",
              "    </tr>\n",
              "    <tr>\n",
              "      <th>3</th>\n",
              "      <td>5.0</td>\n",
              "      <td>True</td>\n",
              "      <td>2016-04-28</td>\n",
              "      <td>A28UB4TPSLLJOP</td>\n",
              "      <td>B001UHN0JA</td>\n",
              "      <td>this is long but important i have very thick a...</td>\n",
              "      <td>Thick hair BLESSING</td>\n",
              "      <td>1005.0</td>\n",
              "      <td>{'Size:': ' 1-\"'}</td>\n",
              "      <td>40.112431</td>\n",
              "      <td>0.335115</td>\n",
              "      <td>1.0</td>\n",
              "      <td>1.0</td>\n",
              "    </tr>\n",
              "    <tr>\n",
              "      <th>4</th>\n",
              "      <td>3.0</td>\n",
              "      <td>True</td>\n",
              "      <td>2006-11-05</td>\n",
              "      <td>A3QNX5KWHDV0GD</td>\n",
              "      <td>B000GLRREU</td>\n",
              "      <td>im not sure why they dont refer to this waterp...</td>\n",
              "      <td>WP-100 Waterpik - Not what they used to be...</td>\n",
              "      <td>879.0</td>\n",
              "      <td>{'Size:': ' Ultra'}</td>\n",
              "      <td>32.227878</td>\n",
              "      <td>0.322545</td>\n",
              "      <td>NaN</td>\n",
              "      <td>1.0</td>\n",
              "    </tr>\n",
              "  </tbody>\n",
              "</table>\n",
              "</div>"
            ],
            "text/plain": [
              "   overall  verified  reviewTime  ... vote_norm sentiment helpful\n",
              "0      5.0      True  2011-10-24  ...  0.997058       1.0     1.0\n",
              "1      4.0      True  2012-11-08  ...  0.793852       1.0     1.0\n",
              "2      5.0      True  2012-09-21  ...  0.640160       1.0     1.0\n",
              "3      5.0      True  2016-04-28  ...  0.335115       1.0     1.0\n",
              "4      3.0      True  2006-11-05  ...  0.322545       NaN     1.0\n",
              "\n",
              "[5 rows x 13 columns]"
            ]
          },
          "metadata": {
            "tags": []
          }
        },
        {
          "output_type": "display_data",
          "data": {
            "text/html": [
              "<div>\n",
              "<style scoped>\n",
              "    .dataframe tbody tr th:only-of-type {\n",
              "        vertical-align: middle;\n",
              "    }\n",
              "\n",
              "    .dataframe tbody tr th {\n",
              "        vertical-align: top;\n",
              "    }\n",
              "\n",
              "    .dataframe thead th {\n",
              "        text-align: right;\n",
              "    }\n",
              "</style>\n",
              "<table border=\"1\" class=\"dataframe\">\n",
              "  <thead>\n",
              "    <tr style=\"text-align: right;\">\n",
              "      <th></th>\n",
              "      <th>overall</th>\n",
              "      <th>verified</th>\n",
              "      <th>reviewTime</th>\n",
              "      <th>reviewerID</th>\n",
              "      <th>asin</th>\n",
              "      <th>reviewText</th>\n",
              "      <th>summary</th>\n",
              "      <th>vote</th>\n",
              "      <th>style</th>\n",
              "      <th>vote_stan</th>\n",
              "      <th>vote_norm</th>\n",
              "      <th>sentiment</th>\n",
              "    </tr>\n",
              "  </thead>\n",
              "  <tbody>\n",
              "    <tr>\n",
              "      <th>0</th>\n",
              "      <td>4.0</td>\n",
              "      <td>True</td>\n",
              "      <td>2015-11-14</td>\n",
              "      <td>A2J0S1IC4PU9G8</td>\n",
              "      <td>B0002ZW5UQ</td>\n",
              "      <td>So if youre bothering to read reviews about an...</td>\n",
              "      <td>Not bad, Toppik, but let's be clear about a fe...</td>\n",
              "      <td>2995.0</td>\n",
              "      <td>{'Size:': ' 0.42 oz.', 'Color:': ' Dark Brown'}</td>\n",
              "      <td>120.077389</td>\n",
              "      <td>1.000000</td>\n",
              "      <td>1.0</td>\n",
              "    </tr>\n",
              "    <tr>\n",
              "      <th>1</th>\n",
              "      <td>5.0</td>\n",
              "      <td>True</td>\n",
              "      <td>2011-10-24</td>\n",
              "      <td>A2LXX47A0KMJVX</td>\n",
              "      <td>B000FOI48G</td>\n",
              "      <td>div idvideoblockRHEGCKXPW classasection aspaci...</td>\n",
              "      <td>Very happy with this. Quiet operation, large w...</td>\n",
              "      <td>2721.0</td>\n",
              "      <td>NaN</td>\n",
              "      <td>100.249017</td>\n",
              "      <td>1.000000</td>\n",
              "      <td>1.0</td>\n",
              "    </tr>\n",
              "    <tr>\n",
              "      <th>2</th>\n",
              "      <td>5.0</td>\n",
              "      <td>True</td>\n",
              "      <td>2015-07-23</td>\n",
              "      <td>A1VEOLBPJTX620</td>\n",
              "      <td>B00DLGPQK4</td>\n",
              "      <td>So let me say three things that you should kno...</td>\n",
              "      <td>Works amazing for Brazilian/Underarm Use!!!</td>\n",
              "      <td>2056.0</td>\n",
              "      <td>{'Color:': ' Fuchsia'}</td>\n",
              "      <td>82.345180</td>\n",
              "      <td>0.686268</td>\n",
              "      <td>1.0</td>\n",
              "    </tr>\n",
              "    <tr>\n",
              "      <th>3</th>\n",
              "      <td>5.0</td>\n",
              "      <td>True</td>\n",
              "      <td>2007-12-01</td>\n",
              "      <td>A2JCJJNY43QQIV</td>\n",
              "      <td>B000GLRREU</td>\n",
              "      <td>Ive always prided myself on my good teeth I th...</td>\n",
              "      <td>Waterpik first timer (for the product AND peri...</td>\n",
              "      <td>1341.0</td>\n",
              "      <td>{'Size:': ' Ultra'}</td>\n",
              "      <td>49.288555</td>\n",
              "      <td>0.492460</td>\n",
              "      <td>1.0</td>\n",
              "    </tr>\n",
              "    <tr>\n",
              "      <th>4</th>\n",
              "      <td>5.0</td>\n",
              "      <td>True</td>\n",
              "      <td>2007-12-01</td>\n",
              "      <td>A2JCJJNY43QQIV</td>\n",
              "      <td>B000FOI48G</td>\n",
              "      <td>Ive always prided myself on my good teeth I th...</td>\n",
              "      <td>Waterpik first timer (for the product AND peri...</td>\n",
              "      <td>1341.0</td>\n",
              "      <td>NaN</td>\n",
              "      <td>49.288555</td>\n",
              "      <td>0.492460</td>\n",
              "      <td>1.0</td>\n",
              "    </tr>\n",
              "  </tbody>\n",
              "</table>\n",
              "</div>"
            ],
            "text/plain": [
              "   overall  verified  reviewTime  ...   vote_stan vote_norm sentiment\n",
              "0      4.0      True  2015-11-14  ...  120.077389  1.000000       1.0\n",
              "1      5.0      True  2011-10-24  ...  100.249017  1.000000       1.0\n",
              "2      5.0      True  2015-07-23  ...   82.345180  0.686268       1.0\n",
              "3      5.0      True  2007-12-01  ...   49.288555  0.492460       1.0\n",
              "4      5.0      True  2007-12-01  ...   49.288555  0.492460       1.0\n",
              "\n",
              "[5 rows x 12 columns]"
            ]
          },
          "metadata": {
            "tags": []
          }
        },
        {
          "output_type": "execute_result",
          "data": {
            "text/plain": [
              "scipy.sparse.csr.csr_matrix"
            ]
          },
          "metadata": {
            "tags": []
          },
          "execution_count": 35
        }
      ]
    },
    {
      "cell_type": "code",
      "metadata": {
        "id": "9lxIw5Ia8Lwl",
        "outputId": "c35a034b-9fab-4739-efde-10d91f858db1",
        "colab": {
          "base_uri": "https://localhost:8080/",
          "height": 232
        }
      },
      "source": [
        "# clf_final = LogisticRegression(random_state=25)\n",
        "# # clf_final.fit(X_train,y_train)\n",
        "# # probas = clf_final.predict_proba(dash_features)\n",
        "# probas = clf3.predict_proba(dash_features.to_numpy())\n",
        "\n",
        "\n",
        "# dashboard['prob'] = probas.toarray().tolist()\n"
      ],
      "execution_count": 36,
      "outputs": [
        {
          "output_type": "error",
          "ename": "NameError",
          "evalue": "ignored",
          "traceback": [
            "\u001b[0;31m---------------------------------------------------------------------------\u001b[0m",
            "\u001b[0;31mNameError\u001b[0m                                 Traceback (most recent call last)",
            "\u001b[0;32m<ipython-input-36-fc0da52d832a>\u001b[0m in \u001b[0;36m<module>\u001b[0;34m()\u001b[0m\n\u001b[1;32m      2\u001b[0m \u001b[0;31m# clf_final.fit(X_train,y_train)\u001b[0m\u001b[0;34m\u001b[0m\u001b[0;34m\u001b[0m\u001b[0;34m\u001b[0m\u001b[0m\n\u001b[1;32m      3\u001b[0m \u001b[0;31m# probas = clf_final.predict_proba(dash_features)\u001b[0m\u001b[0;34m\u001b[0m\u001b[0;34m\u001b[0m\u001b[0;34m\u001b[0m\u001b[0m\n\u001b[0;32m----> 4\u001b[0;31m \u001b[0mprobas\u001b[0m \u001b[0;34m=\u001b[0m \u001b[0mclf3\u001b[0m\u001b[0;34m.\u001b[0m\u001b[0mpredict_proba\u001b[0m\u001b[0;34m(\u001b[0m\u001b[0mdash_data\u001b[0m\u001b[0;34m.\u001b[0m\u001b[0mto_numpy\u001b[0m\u001b[0;34m(\u001b[0m\u001b[0;34m)\u001b[0m\u001b[0;34m)\u001b[0m\u001b[0;34m\u001b[0m\u001b[0;34m\u001b[0m\u001b[0m\n\u001b[0m\u001b[1;32m      5\u001b[0m \u001b[0;34m\u001b[0m\u001b[0m\n\u001b[1;32m      6\u001b[0m \u001b[0;34m\u001b[0m\u001b[0m\n",
            "\u001b[0;31mNameError\u001b[0m: name 'dash_data' is not defined"
          ]
        }
      ]
    },
    {
      "cell_type": "code",
      "metadata": {
        "id": "l2qoQmqKptJJ"
      },
      "source": [
        ""
      ],
      "execution_count": null,
      "outputs": []
    },
    {
      "cell_type": "code",
      "metadata": {
        "id": "vbvw732NQOOD"
      },
      "source": [
        "from sklearn.linear_model import LogisticRegression\n",
        "clf4 = LogisticRegression()\n",
        "clf4.fit(X_train, y_train)\n",
        "dash_features = vectorizer.fit_transform(dashboard['reviewText'])\n",
        "probas = clf4.predict_proba(dash_features)\n"
      ],
      "execution_count": 37,
      "outputs": []
    },
    {
      "cell_type": "code",
      "metadata": {
        "id": "3GPDcICUQOQp"
      },
      "source": [
        "dashboard['prob'] = probas.tolist()"
      ],
      "execution_count": 38,
      "outputs": []
    },
    {
      "cell_type": "code",
      "metadata": {
        "id": "Cb4ySbuvQOTN",
        "outputId": "618cbdf9-9b7f-4818-9732-1b4b617fd145",
        "colab": {
          "base_uri": "https://localhost:8080/",
          "height": 787
        }
      },
      "source": [
        "dashboard.head(10)"
      ],
      "execution_count": 39,
      "outputs": [
        {
          "output_type": "execute_result",
          "data": {
            "text/html": [
              "<div>\n",
              "<style scoped>\n",
              "    .dataframe tbody tr th:only-of-type {\n",
              "        vertical-align: middle;\n",
              "    }\n",
              "\n",
              "    .dataframe tbody tr th {\n",
              "        vertical-align: top;\n",
              "    }\n",
              "\n",
              "    .dataframe thead th {\n",
              "        text-align: right;\n",
              "    }\n",
              "</style>\n",
              "<table border=\"1\" class=\"dataframe\">\n",
              "  <thead>\n",
              "    <tr style=\"text-align: right;\">\n",
              "      <th></th>\n",
              "      <th>overall</th>\n",
              "      <th>verified</th>\n",
              "      <th>reviewTime</th>\n",
              "      <th>reviewerID</th>\n",
              "      <th>asin</th>\n",
              "      <th>reviewText</th>\n",
              "      <th>summary</th>\n",
              "      <th>vote</th>\n",
              "      <th>style</th>\n",
              "      <th>vote_stan</th>\n",
              "      <th>vote_norm</th>\n",
              "      <th>sentiment</th>\n",
              "      <th>prob</th>\n",
              "    </tr>\n",
              "  </thead>\n",
              "  <tbody>\n",
              "    <tr>\n",
              "      <th>0</th>\n",
              "      <td>4.0</td>\n",
              "      <td>True</td>\n",
              "      <td>2015-11-14</td>\n",
              "      <td>A2J0S1IC4PU9G8</td>\n",
              "      <td>B0002ZW5UQ</td>\n",
              "      <td>So if youre bothering to read reviews about an...</td>\n",
              "      <td>Not bad, Toppik, but let's be clear about a fe...</td>\n",
              "      <td>2995.0</td>\n",
              "      <td>{'Size:': ' 0.42 oz.', 'Color:': ' Dark Brown'}</td>\n",
              "      <td>120.077389</td>\n",
              "      <td>1.000000</td>\n",
              "      <td>1.0</td>\n",
              "      <td>[0.9935551566988332, 0.006444843301166795]</td>\n",
              "    </tr>\n",
              "    <tr>\n",
              "      <th>1</th>\n",
              "      <td>5.0</td>\n",
              "      <td>True</td>\n",
              "      <td>2011-10-24</td>\n",
              "      <td>A2LXX47A0KMJVX</td>\n",
              "      <td>B000FOI48G</td>\n",
              "      <td>div idvideoblockRHEGCKXPW classasection aspaci...</td>\n",
              "      <td>Very happy with this. Quiet operation, large w...</td>\n",
              "      <td>2721.0</td>\n",
              "      <td>NaN</td>\n",
              "      <td>100.249017</td>\n",
              "      <td>1.000000</td>\n",
              "      <td>1.0</td>\n",
              "      <td>[0.9934020488045363, 0.006597951195463736]</td>\n",
              "    </tr>\n",
              "    <tr>\n",
              "      <th>2</th>\n",
              "      <td>5.0</td>\n",
              "      <td>True</td>\n",
              "      <td>2015-07-23</td>\n",
              "      <td>A1VEOLBPJTX620</td>\n",
              "      <td>B00DLGPQK4</td>\n",
              "      <td>So let me say three things that you should kno...</td>\n",
              "      <td>Works amazing for Brazilian/Underarm Use!!!</td>\n",
              "      <td>2056.0</td>\n",
              "      <td>{'Color:': ' Fuchsia'}</td>\n",
              "      <td>82.345180</td>\n",
              "      <td>0.686268</td>\n",
              "      <td>1.0</td>\n",
              "      <td>[0.99497580098387, 0.005024199016130011]</td>\n",
              "    </tr>\n",
              "    <tr>\n",
              "      <th>3</th>\n",
              "      <td>5.0</td>\n",
              "      <td>True</td>\n",
              "      <td>2007-12-01</td>\n",
              "      <td>A2JCJJNY43QQIV</td>\n",
              "      <td>B000GLRREU</td>\n",
              "      <td>Ive always prided myself on my good teeth I th...</td>\n",
              "      <td>Waterpik first timer (for the product AND peri...</td>\n",
              "      <td>1341.0</td>\n",
              "      <td>{'Size:': ' Ultra'}</td>\n",
              "      <td>49.288555</td>\n",
              "      <td>0.492460</td>\n",
              "      <td>1.0</td>\n",
              "      <td>[0.9955088414039498, 0.004491158596050251]</td>\n",
              "    </tr>\n",
              "    <tr>\n",
              "      <th>4</th>\n",
              "      <td>5.0</td>\n",
              "      <td>True</td>\n",
              "      <td>2007-12-01</td>\n",
              "      <td>A2JCJJNY43QQIV</td>\n",
              "      <td>B000FOI48G</td>\n",
              "      <td>Ive always prided myself on my good teeth I th...</td>\n",
              "      <td>Waterpik first timer (for the product AND peri...</td>\n",
              "      <td>1341.0</td>\n",
              "      <td>NaN</td>\n",
              "      <td>49.288555</td>\n",
              "      <td>0.492460</td>\n",
              "      <td>1.0</td>\n",
              "      <td>[0.9955088414039498, 0.004491158596050251]</td>\n",
              "    </tr>\n",
              "    <tr>\n",
              "      <th>5</th>\n",
              "      <td>1.0</td>\n",
              "      <td>True</td>\n",
              "      <td>2017-06-18</td>\n",
              "      <td>A3Q3WMQJUZRXK3</td>\n",
              "      <td>B001MA5VUQ</td>\n",
              "      <td>Do not buy I have been ordering this product f...</td>\n",
              "      <td>DO NOT BUY****warning!!!</td>\n",
              "      <td>922.0</td>\n",
              "      <td>NaN</td>\n",
              "      <td>36.777209</td>\n",
              "      <td>0.307384</td>\n",
              "      <td>0.0</td>\n",
              "      <td>[0.9981225878374952, 0.0018774121625048617]</td>\n",
              "    </tr>\n",
              "    <tr>\n",
              "      <th>6</th>\n",
              "      <td>1.0</td>\n",
              "      <td>True</td>\n",
              "      <td>2016-05-29</td>\n",
              "      <td>A27IKPUCSAWDU2</td>\n",
              "      <td>B0017SWIU4</td>\n",
              "      <td>I have really nice skin Its one of the things ...</td>\n",
              "      <td>Read It All for Great Skin!!!</td>\n",
              "      <td>893.0</td>\n",
              "      <td>NaN</td>\n",
              "      <td>35.611891</td>\n",
              "      <td>0.297695</td>\n",
              "      <td>0.0</td>\n",
              "      <td>[0.9943085844234417, 0.005691415576558258]</td>\n",
              "    </tr>\n",
              "    <tr>\n",
              "      <th>7</th>\n",
              "      <td>5.0</td>\n",
              "      <td>True</td>\n",
              "      <td>2016-01-15</td>\n",
              "      <td>A3QZU2SUSKONXX</td>\n",
              "      <td>B0002ZW5UQ</td>\n",
              "      <td>I was hesitant to try this  and Im hoping my r...</td>\n",
              "      <td>and it works better where there's some hair th...</td>\n",
              "      <td>842.0</td>\n",
              "      <td>{'Size:': ' 0.97 oz.', 'Color:': ' Dark Brown'}</td>\n",
              "      <td>33.562538</td>\n",
              "      <td>0.280655</td>\n",
              "      <td>1.0</td>\n",
              "      <td>[0.9949121583517836, 0.005087841648216423]</td>\n",
              "    </tr>\n",
              "    <tr>\n",
              "      <th>8</th>\n",
              "      <td>5.0</td>\n",
              "      <td>True</td>\n",
              "      <td>2015-07-14</td>\n",
              "      <td>AX5Y4X8GRVS6V</td>\n",
              "      <td>B0002ZW5UQ</td>\n",
              "      <td>I used to think buying a wig was my only alter...</td>\n",
              "      <td>Thank goodness for Toppik!</td>\n",
              "      <td>637.0</td>\n",
              "      <td>{'Size:': ' 0.11 oz.', 'Color:': ' Dark Brown'}</td>\n",
              "      <td>25.324941</td>\n",
              "      <td>0.212162</td>\n",
              "      <td>1.0</td>\n",
              "      <td>[0.998002520346931, 0.0019974796530689526]</td>\n",
              "    </tr>\n",
              "    <tr>\n",
              "      <th>9</th>\n",
              "      <td>5.0</td>\n",
              "      <td>True</td>\n",
              "      <td>2013-04-16</td>\n",
              "      <td>A3VOF8M1NROTPD</td>\n",
              "      <td>B00ALHISAQ</td>\n",
              "      <td>I love the Babyliss Pro Babnt Nano Titanium Ho...</td>\n",
              "      <td>Love This!</td>\n",
              "      <td>626.0</td>\n",
              "      <td>NaN</td>\n",
              "      <td>24.882924</td>\n",
              "      <td>0.208486</td>\n",
              "      <td>1.0</td>\n",
              "      <td>[0.9973926907412461, 0.0026073092587538906]</td>\n",
              "    </tr>\n",
              "  </tbody>\n",
              "</table>\n",
              "</div>"
            ],
            "text/plain": [
              "   overall  verified  ... sentiment                                         prob\n",
              "0      4.0      True  ...       1.0   [0.9935551566988332, 0.006444843301166795]\n",
              "1      5.0      True  ...       1.0   [0.9934020488045363, 0.006597951195463736]\n",
              "2      5.0      True  ...       1.0     [0.99497580098387, 0.005024199016130011]\n",
              "3      5.0      True  ...       1.0   [0.9955088414039498, 0.004491158596050251]\n",
              "4      5.0      True  ...       1.0   [0.9955088414039498, 0.004491158596050251]\n",
              "5      1.0      True  ...       0.0  [0.9981225878374952, 0.0018774121625048617]\n",
              "6      1.0      True  ...       0.0   [0.9943085844234417, 0.005691415576558258]\n",
              "7      5.0      True  ...       1.0   [0.9949121583517836, 0.005087841648216423]\n",
              "8      5.0      True  ...       1.0   [0.998002520346931, 0.0019974796530689526]\n",
              "9      5.0      True  ...       1.0  [0.9973926907412461, 0.0026073092587538906]\n",
              "\n",
              "[10 rows x 13 columns]"
            ]
          },
          "metadata": {
            "tags": []
          },
          "execution_count": 39
        }
      ]
    },
    {
      "cell_type": "code",
      "metadata": {
        "id": "J9IaCq9e-KmM",
        "outputId": "7e229ebd-3673-459d-b308-95f196410bf4",
        "colab": {
          "base_uri": "https://localhost:8080/",
          "height": 445
        }
      },
      "source": [
        "# dashboard['prob0'] = dashboard['prob'][0]\n",
        "# dashboard['prob1'] = dashboard['prob'][1]\n",
        "dashboard[['prob0','prob1']] = pd.DataFrame(dashboard.prob.tolist(), index=dashboard.index)\n",
        "dashboard.head()"
      ],
      "execution_count": 41,
      "outputs": [
        {
          "output_type": "execute_result",
          "data": {
            "text/html": [
              "<div>\n",
              "<style scoped>\n",
              "    .dataframe tbody tr th:only-of-type {\n",
              "        vertical-align: middle;\n",
              "    }\n",
              "\n",
              "    .dataframe tbody tr th {\n",
              "        vertical-align: top;\n",
              "    }\n",
              "\n",
              "    .dataframe thead th {\n",
              "        text-align: right;\n",
              "    }\n",
              "</style>\n",
              "<table border=\"1\" class=\"dataframe\">\n",
              "  <thead>\n",
              "    <tr style=\"text-align: right;\">\n",
              "      <th></th>\n",
              "      <th>overall</th>\n",
              "      <th>verified</th>\n",
              "      <th>reviewTime</th>\n",
              "      <th>reviewerID</th>\n",
              "      <th>asin</th>\n",
              "      <th>reviewText</th>\n",
              "      <th>summary</th>\n",
              "      <th>vote</th>\n",
              "      <th>style</th>\n",
              "      <th>vote_stan</th>\n",
              "      <th>vote_norm</th>\n",
              "      <th>sentiment</th>\n",
              "      <th>prob</th>\n",
              "      <th>prob0</th>\n",
              "      <th>prob1</th>\n",
              "    </tr>\n",
              "  </thead>\n",
              "  <tbody>\n",
              "    <tr>\n",
              "      <th>0</th>\n",
              "      <td>4.0</td>\n",
              "      <td>True</td>\n",
              "      <td>2015-11-14</td>\n",
              "      <td>A2J0S1IC4PU9G8</td>\n",
              "      <td>B0002ZW5UQ</td>\n",
              "      <td>So if youre bothering to read reviews about an...</td>\n",
              "      <td>Not bad, Toppik, but let's be clear about a fe...</td>\n",
              "      <td>2995.0</td>\n",
              "      <td>{'Size:': ' 0.42 oz.', 'Color:': ' Dark Brown'}</td>\n",
              "      <td>120.077389</td>\n",
              "      <td>1.000000</td>\n",
              "      <td>1.0</td>\n",
              "      <td>[0.9935551566988332, 0.006444843301166795]</td>\n",
              "      <td>0.993555</td>\n",
              "      <td>0.006445</td>\n",
              "    </tr>\n",
              "    <tr>\n",
              "      <th>1</th>\n",
              "      <td>5.0</td>\n",
              "      <td>True</td>\n",
              "      <td>2011-10-24</td>\n",
              "      <td>A2LXX47A0KMJVX</td>\n",
              "      <td>B000FOI48G</td>\n",
              "      <td>div idvideoblockRHEGCKXPW classasection aspaci...</td>\n",
              "      <td>Very happy with this. Quiet operation, large w...</td>\n",
              "      <td>2721.0</td>\n",
              "      <td>NaN</td>\n",
              "      <td>100.249017</td>\n",
              "      <td>1.000000</td>\n",
              "      <td>1.0</td>\n",
              "      <td>[0.9934020488045363, 0.006597951195463736]</td>\n",
              "      <td>0.993402</td>\n",
              "      <td>0.006598</td>\n",
              "    </tr>\n",
              "    <tr>\n",
              "      <th>2</th>\n",
              "      <td>5.0</td>\n",
              "      <td>True</td>\n",
              "      <td>2015-07-23</td>\n",
              "      <td>A1VEOLBPJTX620</td>\n",
              "      <td>B00DLGPQK4</td>\n",
              "      <td>So let me say three things that you should kno...</td>\n",
              "      <td>Works amazing for Brazilian/Underarm Use!!!</td>\n",
              "      <td>2056.0</td>\n",
              "      <td>{'Color:': ' Fuchsia'}</td>\n",
              "      <td>82.345180</td>\n",
              "      <td>0.686268</td>\n",
              "      <td>1.0</td>\n",
              "      <td>[0.99497580098387, 0.005024199016130011]</td>\n",
              "      <td>0.994976</td>\n",
              "      <td>0.005024</td>\n",
              "    </tr>\n",
              "    <tr>\n",
              "      <th>3</th>\n",
              "      <td>5.0</td>\n",
              "      <td>True</td>\n",
              "      <td>2007-12-01</td>\n",
              "      <td>A2JCJJNY43QQIV</td>\n",
              "      <td>B000GLRREU</td>\n",
              "      <td>Ive always prided myself on my good teeth I th...</td>\n",
              "      <td>Waterpik first timer (for the product AND peri...</td>\n",
              "      <td>1341.0</td>\n",
              "      <td>{'Size:': ' Ultra'}</td>\n",
              "      <td>49.288555</td>\n",
              "      <td>0.492460</td>\n",
              "      <td>1.0</td>\n",
              "      <td>[0.9955088414039498, 0.004491158596050251]</td>\n",
              "      <td>0.995509</td>\n",
              "      <td>0.004491</td>\n",
              "    </tr>\n",
              "    <tr>\n",
              "      <th>4</th>\n",
              "      <td>5.0</td>\n",
              "      <td>True</td>\n",
              "      <td>2007-12-01</td>\n",
              "      <td>A2JCJJNY43QQIV</td>\n",
              "      <td>B000FOI48G</td>\n",
              "      <td>Ive always prided myself on my good teeth I th...</td>\n",
              "      <td>Waterpik first timer (for the product AND peri...</td>\n",
              "      <td>1341.0</td>\n",
              "      <td>NaN</td>\n",
              "      <td>49.288555</td>\n",
              "      <td>0.492460</td>\n",
              "      <td>1.0</td>\n",
              "      <td>[0.9955088414039498, 0.004491158596050251]</td>\n",
              "      <td>0.995509</td>\n",
              "      <td>0.004491</td>\n",
              "    </tr>\n",
              "  </tbody>\n",
              "</table>\n",
              "</div>"
            ],
            "text/plain": [
              "   overall  verified  ...     prob0     prob1\n",
              "0      4.0      True  ...  0.993555  0.006445\n",
              "1      5.0      True  ...  0.993402  0.006598\n",
              "2      5.0      True  ...  0.994976  0.005024\n",
              "3      5.0      True  ...  0.995509  0.004491\n",
              "4      5.0      True  ...  0.995509  0.004491\n",
              "\n",
              "[5 rows x 15 columns]"
            ]
          },
          "metadata": {
            "tags": []
          },
          "execution_count": 41
        }
      ]
    },
    {
      "cell_type": "code",
      "metadata": {
        "id": "52m1IIXmQOWB"
      },
      "source": [
        "sentiment = pd.read_csv(\"/content/drive/My Drive/amazon_reviews/dashboard_sentiment.csv\",low_memory=False)\n",
        "# dashboard.to_csv('dashboard_helpfulness.csv')"
      ],
      "execution_count": 42,
      "outputs": []
    },
    {
      "cell_type": "code",
      "metadata": {
        "id": "Q0HvtiYoQOYi",
        "outputId": "3a1c0b95-4657-4bc7-97ee-ee758d3b81cd",
        "colab": {
          "base_uri": "https://localhost:8080/",
          "height": 391
        }
      },
      "source": [
        "combo = dashboard[[\"asin\",'prob0','prob1']].merge(sentiment,how='inner',on='asin')\n",
        "combo.head()"
      ],
      "execution_count": 45,
      "outputs": [
        {
          "output_type": "execute_result",
          "data": {
            "text/html": [
              "<div>\n",
              "<style scoped>\n",
              "    .dataframe tbody tr th:only-of-type {\n",
              "        vertical-align: middle;\n",
              "    }\n",
              "\n",
              "    .dataframe tbody tr th {\n",
              "        vertical-align: top;\n",
              "    }\n",
              "\n",
              "    .dataframe thead th {\n",
              "        text-align: right;\n",
              "    }\n",
              "</style>\n",
              "<table border=\"1\" class=\"dataframe\">\n",
              "  <thead>\n",
              "    <tr style=\"text-align: right;\">\n",
              "      <th></th>\n",
              "      <th>asin</th>\n",
              "      <th>prob0</th>\n",
              "      <th>prob1</th>\n",
              "      <th>overall</th>\n",
              "      <th>verified</th>\n",
              "      <th>reviewTime</th>\n",
              "      <th>reviewerID</th>\n",
              "      <th>reviewText</th>\n",
              "      <th>summary</th>\n",
              "      <th>vote</th>\n",
              "      <th>style</th>\n",
              "      <th>vote_stan</th>\n",
              "      <th>vote_norm</th>\n",
              "      <th>sentiment</th>\n",
              "    </tr>\n",
              "  </thead>\n",
              "  <tbody>\n",
              "    <tr>\n",
              "      <th>0</th>\n",
              "      <td>B0002ZW5UQ</td>\n",
              "      <td>0.993555</td>\n",
              "      <td>0.006445</td>\n",
              "      <td>4.0</td>\n",
              "      <td>True</td>\n",
              "      <td>2015-11-14</td>\n",
              "      <td>A2J0S1IC4PU9G8</td>\n",
              "      <td>So, if you're bothering to read reviews about ...</td>\n",
              "      <td>Not bad, Toppik, but let's be clear about a fe...</td>\n",
              "      <td>2995.0</td>\n",
              "      <td>{'Size:': ' 0.42 oz.', 'Color:': ' Dark Brown'}</td>\n",
              "      <td>120.077389</td>\n",
              "      <td>1.000000</td>\n",
              "      <td>1.0</td>\n",
              "    </tr>\n",
              "    <tr>\n",
              "      <th>1</th>\n",
              "      <td>B0002ZW5UQ</td>\n",
              "      <td>0.993555</td>\n",
              "      <td>0.006445</td>\n",
              "      <td>5.0</td>\n",
              "      <td>True</td>\n",
              "      <td>2016-01-15</td>\n",
              "      <td>A3QZU2SUSKONXX</td>\n",
              "      <td>I was hesitant to try this,  and I'm hoping my...</td>\n",
              "      <td>and it works better where there's some hair th...</td>\n",
              "      <td>842.0</td>\n",
              "      <td>{'Size:': ' 0.97 oz.', 'Color:': ' Dark Brown'}</td>\n",
              "      <td>33.562538</td>\n",
              "      <td>0.280655</td>\n",
              "      <td>1.0</td>\n",
              "    </tr>\n",
              "    <tr>\n",
              "      <th>2</th>\n",
              "      <td>B0002ZW5UQ</td>\n",
              "      <td>0.993555</td>\n",
              "      <td>0.006445</td>\n",
              "      <td>5.0</td>\n",
              "      <td>True</td>\n",
              "      <td>2015-07-14</td>\n",
              "      <td>AX5Y4X8GRVS6V</td>\n",
              "      <td>I used to think buying a wig was my only alter...</td>\n",
              "      <td>Thank goodness for Toppik!</td>\n",
              "      <td>637.0</td>\n",
              "      <td>{'Size:': ' 0.11 oz.', 'Color:': ' Dark Brown'}</td>\n",
              "      <td>25.324941</td>\n",
              "      <td>0.212162</td>\n",
              "      <td>1.0</td>\n",
              "    </tr>\n",
              "    <tr>\n",
              "      <th>3</th>\n",
              "      <td>B0002ZW5UQ</td>\n",
              "      <td>0.993555</td>\n",
              "      <td>0.006445</td>\n",
              "      <td>5.0</td>\n",
              "      <td>True</td>\n",
              "      <td>2017-01-17</td>\n",
              "      <td>A3DRYW5A4GCB2Y</td>\n",
              "      <td>I can't live without these hair building fiber...</td>\n",
              "      <td>Can't Live Without It!</td>\n",
              "      <td>185.0</td>\n",
              "      <td>{'Size:': ' 1.94 oz.', 'Color:': ' Dark Brown'}</td>\n",
              "      <td>7.162047</td>\n",
              "      <td>0.061143</td>\n",
              "      <td>1.0</td>\n",
              "    </tr>\n",
              "    <tr>\n",
              "      <th>4</th>\n",
              "      <td>B0002ZW5UQ</td>\n",
              "      <td>0.993555</td>\n",
              "      <td>0.006445</td>\n",
              "      <td>5.0</td>\n",
              "      <td>True</td>\n",
              "      <td>2015-01-29</td>\n",
              "      <td>A3BMYKS4H49MZR</td>\n",
              "      <td>this stuff is terrific!  i have thinning, fine...</td>\n",
              "      <td>REALLY WORKS!</td>\n",
              "      <td>117.0</td>\n",
              "      <td>{'Size:': ' 0.42 oz.', 'Color:': ' Dark Brown'}</td>\n",
              "      <td>4.429576</td>\n",
              "      <td>0.038423</td>\n",
              "      <td>1.0</td>\n",
              "    </tr>\n",
              "  </tbody>\n",
              "</table>\n",
              "</div>"
            ],
            "text/plain": [
              "         asin     prob0     prob1  ...   vote_stan  vote_norm sentiment\n",
              "0  B0002ZW5UQ  0.993555  0.006445  ...  120.077389   1.000000       1.0\n",
              "1  B0002ZW5UQ  0.993555  0.006445  ...   33.562538   0.280655       1.0\n",
              "2  B0002ZW5UQ  0.993555  0.006445  ...   25.324941   0.212162       1.0\n",
              "3  B0002ZW5UQ  0.993555  0.006445  ...    7.162047   0.061143       1.0\n",
              "4  B0002ZW5UQ  0.993555  0.006445  ...    4.429576   0.038423       1.0\n",
              "\n",
              "[5 rows x 14 columns]"
            ]
          },
          "metadata": {
            "tags": []
          },
          "execution_count": 45
        }
      ]
    },
    {
      "cell_type": "code",
      "metadata": {
        "id": "R7r9kl6WQObH"
      },
      "source": [
        "combo.to_csv('combo.csv')"
      ],
      "execution_count": 46,
      "outputs": []
    },
    {
      "cell_type": "code",
      "metadata": {
        "id": "7EMjIbKrQOdr"
      },
      "source": [
        ""
      ],
      "execution_count": null,
      "outputs": []
    },
    {
      "cell_type": "code",
      "metadata": {
        "id": "zcmLzsAzQOgo"
      },
      "source": [
        ""
      ],
      "execution_count": null,
      "outputs": []
    },
    {
      "cell_type": "code",
      "metadata": {
        "id": "m_7v8hOdQOHV"
      },
      "source": [
        ""
      ],
      "execution_count": null,
      "outputs": []
    },
    {
      "cell_type": "code",
      "metadata": {
        "id": "uVw7qHhCV8rE"
      },
      "source": [
        "reviews['sentiment'] = np.where(reviews['overall']>=4, 1, np.nan)\n",
        "reviews['neg'] = np.where(reviews['overall']<=1, 0, np.nan)\n",
        "reviews['sentiment'] = reviews['sentiment'].fillna(reviews.neg)\n",
        "reviews = reviews.drop(['neg'], axis = 1)"
      ],
      "execution_count": null,
      "outputs": []
    },
    {
      "cell_type": "code",
      "metadata": {
        "id": "OpkH4JdBV8rH"
      },
      "source": [
        ""
      ],
      "execution_count": null,
      "outputs": []
    },
    {
      "cell_type": "code",
      "metadata": {
        "id": "ET56uIBYV8rI"
      },
      "source": [
        "# beauty = pd.merge(bm,br,how='inner',left_on=[\"asin\"],right_on=[\"asin\"])\n",
        "# luxury = pd.merge(lm,lr,how='inner',left_on=[\"asin\"],right_on=[\"asin\"])"
      ],
      "execution_count": null,
      "outputs": []
    }
  ]
}