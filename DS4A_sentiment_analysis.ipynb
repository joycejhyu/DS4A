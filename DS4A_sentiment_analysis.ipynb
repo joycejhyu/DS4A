{
  "nbformat": 4,
  "nbformat_minor": 0,
  "metadata": {
    "colab": {
      "name": "DS4A_sentiment_analysis.ipynb",
      "provenance": [],
      "collapsed_sections": [],
      "mount_file_id": "1PxVwUkQg_2sO93ya2rLycpHEUBmc-1xA",
      "authorship_tag": "ABX9TyNeAC9Hvigz2KZD3TO1fnxV",
      "include_colab_link": true
    },
    "kernelspec": {
      "name": "python3",
      "display_name": "Python 3"
    }
  },
  "cells": [
    {
      "cell_type": "markdown",
      "metadata": {
        "id": "view-in-github",
        "colab_type": "text"
      },
      "source": [
        "<a href=\"https://colab.research.google.com/github/joycejhyu/DS4A/blob/master/DS4A_sentiment_analysis.ipynb\" target=\"_parent\"><img src=\"https://colab.research.google.com/assets/colab-badge.svg\" alt=\"Open In Colab\"/></a>"
      ]
    },
    {
      "cell_type": "code",
      "metadata": {
        "id": "rrDIhEcScLnU"
      },
      "source": [
        "import pandas as pd\n",
        "import numpy as np\n",
        "import spacy \n",
        "import seaborn as sns\n",
        "import matplotlib.pyplot as plt"
      ],
      "execution_count": 34,
      "outputs": []
    },
    {
      "cell_type": "markdown",
      "metadata": {
        "id": "aBXYx4Bie1NZ"
      },
      "source": [
        "# 1. Import the dataset"
      ]
    },
    {
      "cell_type": "code",
      "metadata": {
        "id": "KGP_jqSoteV6",
        "outputId": "c2deb7a1-3a60-4617-f240-b62d0b562ff9",
        "colab": {
          "base_uri": "https://localhost:8080/",
          "height": 54
        }
      },
      "source": [
        "from google.colab import drive\n",
        "drive.mount('/content/drive')"
      ],
      "execution_count": 35,
      "outputs": [
        {
          "output_type": "stream",
          "text": [
            "Drive already mounted at /content/drive; to attempt to forcibly remount, call drive.mount(\"/content/drive\", force_remount=True).\n"
          ],
          "name": "stdout"
        }
      ]
    },
    {
      "cell_type": "code",
      "metadata": {
        "id": "HC91eL-bNZtQ"
      },
      "source": [
        "reviews = pd.read_csv(\"/content/drive/My Drive/amazon_reviews/reviews_cleaned.csv\")"
      ],
      "execution_count": 36,
      "outputs": []
    },
    {
      "cell_type": "code",
      "metadata": {
        "id": "Qn52WkflOG0A",
        "outputId": "3fe04cbc-588c-4b2b-9293-ca9cbce2f428",
        "colab": {
          "base_uri": "https://localhost:8080/",
          "height": 462
        }
      },
      "source": [
        "reviews.head()"
      ],
      "execution_count": 6,
      "outputs": [
        {
          "output_type": "execute_result",
          "data": {
            "text/html": [
              "<div>\n",
              "<style scoped>\n",
              "    .dataframe tbody tr th:only-of-type {\n",
              "        vertical-align: middle;\n",
              "    }\n",
              "\n",
              "    .dataframe tbody tr th {\n",
              "        vertical-align: top;\n",
              "    }\n",
              "\n",
              "    .dataframe thead th {\n",
              "        text-align: right;\n",
              "    }\n",
              "</style>\n",
              "<table border=\"1\" class=\"dataframe\">\n",
              "  <thead>\n",
              "    <tr style=\"text-align: right;\">\n",
              "      <th></th>\n",
              "      <th>overall</th>\n",
              "      <th>verified</th>\n",
              "      <th>reviewTime</th>\n",
              "      <th>reviewerID</th>\n",
              "      <th>asin</th>\n",
              "      <th>reviewText</th>\n",
              "      <th>summary</th>\n",
              "      <th>vote</th>\n",
              "      <th>style</th>\n",
              "      <th>vote_stan</th>\n",
              "      <th>vote_norm</th>\n",
              "      <th>sentiment</th>\n",
              "    </tr>\n",
              "  </thead>\n",
              "  <tbody>\n",
              "    <tr>\n",
              "      <th>0</th>\n",
              "      <td>4.0</td>\n",
              "      <td>True</td>\n",
              "      <td>2015-11-14</td>\n",
              "      <td>A2J0S1IC4PU9G8</td>\n",
              "      <td>B0002ZW5UQ</td>\n",
              "      <td>So, if you're bothering to read reviews about ...</td>\n",
              "      <td>Not bad, Toppik, but let's be clear about a fe...</td>\n",
              "      <td>2995.0</td>\n",
              "      <td>{'Size:': ' 0.42 oz.', 'Color:': ' Dark Brown'}</td>\n",
              "      <td>120.077389</td>\n",
              "      <td>1.000000</td>\n",
              "      <td>1.0</td>\n",
              "    </tr>\n",
              "    <tr>\n",
              "      <th>1</th>\n",
              "      <td>5.0</td>\n",
              "      <td>True</td>\n",
              "      <td>2011-10-24</td>\n",
              "      <td>A2LXX47A0KMJVX</td>\n",
              "      <td>B000FOI48G</td>\n",
              "      <td>&lt;div id=\"video-block-R2HEG12C48KXPW\" class=\"a-...</td>\n",
              "      <td>Very happy with this. Quiet operation, large w...</td>\n",
              "      <td>2721.0</td>\n",
              "      <td>NaN</td>\n",
              "      <td>100.249017</td>\n",
              "      <td>1.000000</td>\n",
              "      <td>1.0</td>\n",
              "    </tr>\n",
              "    <tr>\n",
              "      <th>2</th>\n",
              "      <td>5.0</td>\n",
              "      <td>True</td>\n",
              "      <td>2011-10-24</td>\n",
              "      <td>A2LXX47A0KMJVX</td>\n",
              "      <td>B000GLRREU</td>\n",
              "      <td>&lt;div id=\"video-block-R2HEG12C48KXPW\" class=\"a-...</td>\n",
              "      <td>Very happy with this. Quiet operation, large w...</td>\n",
              "      <td>2713.0</td>\n",
              "      <td>{'Size:': ' Ultra'}</td>\n",
              "      <td>99.953594</td>\n",
              "      <td>0.997058</td>\n",
              "      <td>1.0</td>\n",
              "    </tr>\n",
              "    <tr>\n",
              "      <th>3</th>\n",
              "      <td>4.0</td>\n",
              "      <td>True</td>\n",
              "      <td>2012-11-08</td>\n",
              "      <td>A1IGCUY11IG8I2</td>\n",
              "      <td>B00HX27AM4</td>\n",
              "      <td>Everyone has different experiences, but the Fl...</td>\n",
              "      <td>Works well for me.</td>\n",
              "      <td>2378.0</td>\n",
              "      <td>NaN</td>\n",
              "      <td>95.284234</td>\n",
              "      <td>0.793852</td>\n",
              "      <td>1.0</td>\n",
              "    </tr>\n",
              "    <tr>\n",
              "      <th>4</th>\n",
              "      <td>5.0</td>\n",
              "      <td>True</td>\n",
              "      <td>2015-07-23</td>\n",
              "      <td>A1VEOLBPJTX620</td>\n",
              "      <td>B00DLGPQK4</td>\n",
              "      <td>So let me say three things that you should kno...</td>\n",
              "      <td>Works amazing for Brazilian/Underarm Use!!!</td>\n",
              "      <td>2056.0</td>\n",
              "      <td>{'Color:': ' Fuchsia'}</td>\n",
              "      <td>82.345180</td>\n",
              "      <td>0.686268</td>\n",
              "      <td>1.0</td>\n",
              "    </tr>\n",
              "  </tbody>\n",
              "</table>\n",
              "</div>"
            ],
            "text/plain": [
              "   overall  verified  reviewTime  ...   vote_stan vote_norm sentiment\n",
              "0      4.0      True  2015-11-14  ...  120.077389  1.000000       1.0\n",
              "1      5.0      True  2011-10-24  ...  100.249017  1.000000       1.0\n",
              "2      5.0      True  2011-10-24  ...   99.953594  0.997058       1.0\n",
              "3      4.0      True  2012-11-08  ...   95.284234  0.793852       1.0\n",
              "4      5.0      True  2015-07-23  ...   82.345180  0.686268       1.0\n",
              "\n",
              "[5 rows x 12 columns]"
            ]
          },
          "metadata": {
            "tags": []
          },
          "execution_count": 6
        }
      ]
    },
    {
      "cell_type": "code",
      "metadata": {
        "id": "x06wuIWDLAwc"
      },
      "source": [
        "import random\n",
        "\n",
        "ind = random.choices([True, False], k= len(reviews))\n",
        "not_ind = [not i for i in ind]"
      ],
      "execution_count": 7,
      "outputs": []
    },
    {
      "cell_type": "code",
      "metadata": {
        "id": "hTd5jrkLK6H7",
        "outputId": "f40c98a8-926a-4ce4-a5de-9d52086a85e9",
        "colab": {
          "base_uri": "https://localhost:8080/",
          "height": 375
        }
      },
      "source": [
        "model_data = reviews[ind]\n",
        "dashboard_data = reviews[not_ind]"
      ],
      "execution_count": 129,
      "outputs": [
        {
          "output_type": "error",
          "ename": "KeyError",
          "evalue": "ignored",
          "traceback": [
            "\u001b[0;31m---------------------------------------------------------------------------\u001b[0m",
            "\u001b[0;31mKeyError\u001b[0m                                  Traceback (most recent call last)",
            "\u001b[0;32m<ipython-input-129-6ea6f48cedf1>\u001b[0m in \u001b[0;36m<module>\u001b[0;34m()\u001b[0m\n\u001b[0;32m----> 1\u001b[0;31m \u001b[0mmodel_data\u001b[0m \u001b[0;34m=\u001b[0m \u001b[0mreviews\u001b[0m\u001b[0;34m[\u001b[0m\u001b[0mind\u001b[0m\u001b[0;34m]\u001b[0m\u001b[0;34m\u001b[0m\u001b[0;34m\u001b[0m\u001b[0m\n\u001b[0m\u001b[1;32m      2\u001b[0m \u001b[0mdashboard_data\u001b[0m \u001b[0;34m=\u001b[0m \u001b[0mreviews\u001b[0m\u001b[0;34m[\u001b[0m\u001b[0mnot_ind\u001b[0m\u001b[0;34m]\u001b[0m\u001b[0;34m\u001b[0m\u001b[0;34m\u001b[0m\u001b[0m\n",
            "\u001b[0;32m/usr/local/lib/python3.6/dist-packages/pandas/core/frame.py\u001b[0m in \u001b[0;36m__getitem__\u001b[0;34m(self, key)\u001b[0m\n\u001b[1;32m   2906\u001b[0m             \u001b[0;32mif\u001b[0m \u001b[0mis_iterator\u001b[0m\u001b[0;34m(\u001b[0m\u001b[0mkey\u001b[0m\u001b[0;34m)\u001b[0m\u001b[0;34m:\u001b[0m\u001b[0;34m\u001b[0m\u001b[0;34m\u001b[0m\u001b[0m\n\u001b[1;32m   2907\u001b[0m                 \u001b[0mkey\u001b[0m \u001b[0;34m=\u001b[0m \u001b[0mlist\u001b[0m\u001b[0;34m(\u001b[0m\u001b[0mkey\u001b[0m\u001b[0;34m)\u001b[0m\u001b[0;34m\u001b[0m\u001b[0;34m\u001b[0m\u001b[0m\n\u001b[0;32m-> 2908\u001b[0;31m             \u001b[0mindexer\u001b[0m \u001b[0;34m=\u001b[0m \u001b[0mself\u001b[0m\u001b[0;34m.\u001b[0m\u001b[0mloc\u001b[0m\u001b[0;34m.\u001b[0m\u001b[0m_get_listlike_indexer\u001b[0m\u001b[0;34m(\u001b[0m\u001b[0mkey\u001b[0m\u001b[0;34m,\u001b[0m \u001b[0maxis\u001b[0m\u001b[0;34m=\u001b[0m\u001b[0;36m1\u001b[0m\u001b[0;34m,\u001b[0m \u001b[0mraise_missing\u001b[0m\u001b[0;34m=\u001b[0m\u001b[0;32mTrue\u001b[0m\u001b[0;34m)\u001b[0m\u001b[0;34m[\u001b[0m\u001b[0;36m1\u001b[0m\u001b[0;34m]\u001b[0m\u001b[0;34m\u001b[0m\u001b[0;34m\u001b[0m\u001b[0m\n\u001b[0m\u001b[1;32m   2909\u001b[0m \u001b[0;34m\u001b[0m\u001b[0m\n\u001b[1;32m   2910\u001b[0m         \u001b[0;31m# take() does not accept boolean indexers\u001b[0m\u001b[0;34m\u001b[0m\u001b[0;34m\u001b[0m\u001b[0;34m\u001b[0m\u001b[0m\n",
            "\u001b[0;32m/usr/local/lib/python3.6/dist-packages/pandas/core/indexing.py\u001b[0m in \u001b[0;36m_get_listlike_indexer\u001b[0;34m(self, key, axis, raise_missing)\u001b[0m\n\u001b[1;32m   1252\u001b[0m             \u001b[0mkeyarr\u001b[0m\u001b[0;34m,\u001b[0m \u001b[0mindexer\u001b[0m\u001b[0;34m,\u001b[0m \u001b[0mnew_indexer\u001b[0m \u001b[0;34m=\u001b[0m \u001b[0max\u001b[0m\u001b[0;34m.\u001b[0m\u001b[0m_reindex_non_unique\u001b[0m\u001b[0;34m(\u001b[0m\u001b[0mkeyarr\u001b[0m\u001b[0;34m)\u001b[0m\u001b[0;34m\u001b[0m\u001b[0;34m\u001b[0m\u001b[0m\n\u001b[1;32m   1253\u001b[0m \u001b[0;34m\u001b[0m\u001b[0m\n\u001b[0;32m-> 1254\u001b[0;31m         \u001b[0mself\u001b[0m\u001b[0;34m.\u001b[0m\u001b[0m_validate_read_indexer\u001b[0m\u001b[0;34m(\u001b[0m\u001b[0mkeyarr\u001b[0m\u001b[0;34m,\u001b[0m \u001b[0mindexer\u001b[0m\u001b[0;34m,\u001b[0m \u001b[0maxis\u001b[0m\u001b[0;34m,\u001b[0m \u001b[0mraise_missing\u001b[0m\u001b[0;34m=\u001b[0m\u001b[0mraise_missing\u001b[0m\u001b[0;34m)\u001b[0m\u001b[0;34m\u001b[0m\u001b[0;34m\u001b[0m\u001b[0m\n\u001b[0m\u001b[1;32m   1255\u001b[0m         \u001b[0;32mreturn\u001b[0m \u001b[0mkeyarr\u001b[0m\u001b[0;34m,\u001b[0m \u001b[0mindexer\u001b[0m\u001b[0;34m\u001b[0m\u001b[0;34m\u001b[0m\u001b[0m\n\u001b[1;32m   1256\u001b[0m \u001b[0;34m\u001b[0m\u001b[0m\n",
            "\u001b[0;32m/usr/local/lib/python3.6/dist-packages/pandas/core/indexing.py\u001b[0m in \u001b[0;36m_validate_read_indexer\u001b[0;34m(self, key, indexer, axis, raise_missing)\u001b[0m\n\u001b[1;32m   1296\u001b[0m             \u001b[0;32mif\u001b[0m \u001b[0mmissing\u001b[0m \u001b[0;34m==\u001b[0m \u001b[0mlen\u001b[0m\u001b[0;34m(\u001b[0m\u001b[0mindexer\u001b[0m\u001b[0;34m)\u001b[0m\u001b[0;34m:\u001b[0m\u001b[0;34m\u001b[0m\u001b[0;34m\u001b[0m\u001b[0m\n\u001b[1;32m   1297\u001b[0m                 \u001b[0maxis_name\u001b[0m \u001b[0;34m=\u001b[0m \u001b[0mself\u001b[0m\u001b[0;34m.\u001b[0m\u001b[0mobj\u001b[0m\u001b[0;34m.\u001b[0m\u001b[0m_get_axis_name\u001b[0m\u001b[0;34m(\u001b[0m\u001b[0maxis\u001b[0m\u001b[0;34m)\u001b[0m\u001b[0;34m\u001b[0m\u001b[0;34m\u001b[0m\u001b[0m\n\u001b[0;32m-> 1298\u001b[0;31m                 \u001b[0;32mraise\u001b[0m \u001b[0mKeyError\u001b[0m\u001b[0;34m(\u001b[0m\u001b[0;34mf\"None of [{key}] are in the [{axis_name}]\"\u001b[0m\u001b[0;34m)\u001b[0m\u001b[0;34m\u001b[0m\u001b[0;34m\u001b[0m\u001b[0m\n\u001b[0m\u001b[1;32m   1299\u001b[0m \u001b[0;34m\u001b[0m\u001b[0m\n\u001b[1;32m   1300\u001b[0m             \u001b[0;31m# We (temporarily) allow for some missing keys with .loc, except in\u001b[0m\u001b[0;34m\u001b[0m\u001b[0;34m\u001b[0m\u001b[0;34m\u001b[0m\u001b[0m\n",
            "\u001b[0;31mKeyError\u001b[0m: \"None of [Int64Index([    76,     82,     84,    106,    115,    130,    155,    164,\\n               168,    201,\\n            ...\\n            120935, 120954, 120960, 120966, 120985, 120991, 121027, 121065,\\n            121163, 121199],\\n           dtype='int64', length=8657)] are in the [columns]\""
          ]
        }
      ]
    },
    {
      "cell_type": "code",
      "metadata": {
        "id": "AXKbSh1ANLWe"
      },
      "source": [
        "model_data.to_csv('model_data.csv', index=False)\n",
        "dashboard_data.to_csv('dashboard_data.csv', index = False)"
      ],
      "execution_count": 9,
      "outputs": []
    },
    {
      "cell_type": "code",
      "metadata": {
        "id": "saoJJfoTLCoz"
      },
      "source": [
        "model_data = pd.read_csv('/content/drive/My Drive/amazon_reviews/model_data.csv')\n",
        "dashboard_data = pd.read_csv('/content/drive/My Drive/amazon_reviews/dashboard_data.csv')"
      ],
      "execution_count": 4,
      "outputs": []
    },
    {
      "cell_type": "code",
      "metadata": {
        "id": "-2wo2UIMNRmN",
        "outputId": "af193628-4d46-4e63-d093-caca4e10843c",
        "colab": {
          "base_uri": "https://localhost:8080/",
          "height": 34
        }
      },
      "source": [
        "len(model_data)"
      ],
      "execution_count": 5,
      "outputs": [
        {
          "output_type": "execute_result",
          "data": {
            "text/plain": [
              "60336"
            ]
          },
          "metadata": {
            "tags": []
          },
          "execution_count": 5
        }
      ]
    },
    {
      "cell_type": "code",
      "metadata": {
        "id": "njegXDsPNOlB",
        "outputId": "4daa29eb-f2e5-45bd-a01a-6387cda962b7",
        "colab": {
          "base_uri": "https://localhost:8080/",
          "height": 34
        }
      },
      "source": [
        "len(dashboard_data)"
      ],
      "execution_count": 6,
      "outputs": [
        {
          "output_type": "execute_result",
          "data": {
            "text/plain": [
              "60876"
            ]
          },
          "metadata": {
            "tags": []
          },
          "execution_count": 6
        }
      ]
    },
    {
      "cell_type": "code",
      "metadata": {
        "id": "ADpqZevwNk5L",
        "outputId": "06dfa0e4-a5ea-486a-b2e5-da506174ecd2",
        "colab": {
          "base_uri": "https://localhost:8080/",
          "height": 221
        }
      },
      "source": [
        "model_data.vote.value_counts()"
      ],
      "execution_count": 7,
      "outputs": [
        {
          "output_type": "execute_result",
          "data": {
            "text/plain": [
              "2.0      23164\n",
              "3.0      11567\n",
              "4.0       6594\n",
              "5.0       4362\n",
              "6.0       2766\n",
              "         ...  \n",
              "607.0        1\n",
              "198.0        1\n",
              "110.0        1\n",
              "271.0        1\n",
              "240.0        1\n",
              "Name: vote, Length: 262, dtype: int64"
            ]
          },
          "metadata": {
            "tags": []
          },
          "execution_count": 7
        }
      ]
    },
    {
      "cell_type": "code",
      "metadata": {
        "id": "7PBTiU79cmXs",
        "outputId": "a04404a0-d79b-4eab-e51f-56a35cae1ed3",
        "colab": {
          "base_uri": "https://localhost:8080/",
          "height": 445
        }
      },
      "source": [
        "model_data.head()"
      ],
      "execution_count": 13,
      "outputs": [
        {
          "output_type": "execute_result",
          "data": {
            "text/html": [
              "<div>\n",
              "<style scoped>\n",
              "    .dataframe tbody tr th:only-of-type {\n",
              "        vertical-align: middle;\n",
              "    }\n",
              "\n",
              "    .dataframe tbody tr th {\n",
              "        vertical-align: top;\n",
              "    }\n",
              "\n",
              "    .dataframe thead th {\n",
              "        text-align: right;\n",
              "    }\n",
              "</style>\n",
              "<table border=\"1\" class=\"dataframe\">\n",
              "  <thead>\n",
              "    <tr style=\"text-align: right;\">\n",
              "      <th></th>\n",
              "      <th>overall</th>\n",
              "      <th>verified</th>\n",
              "      <th>reviewTime</th>\n",
              "      <th>reviewerID</th>\n",
              "      <th>asin</th>\n",
              "      <th>reviewText</th>\n",
              "      <th>summary</th>\n",
              "      <th>vote</th>\n",
              "      <th>style</th>\n",
              "      <th>vote_stan</th>\n",
              "      <th>vote_norm</th>\n",
              "      <th>sentiment</th>\n",
              "    </tr>\n",
              "  </thead>\n",
              "  <tbody>\n",
              "    <tr>\n",
              "      <th>0</th>\n",
              "      <td>4.0</td>\n",
              "      <td>True</td>\n",
              "      <td>2015-11-14</td>\n",
              "      <td>A2J0S1IC4PU9G8</td>\n",
              "      <td>B0002ZW5UQ</td>\n",
              "      <td>So, if you're bothering to read reviews about ...</td>\n",
              "      <td>Not bad, Toppik, but let's be clear about a fe...</td>\n",
              "      <td>2995.0</td>\n",
              "      <td>{'Size:': ' 0.42 oz.', 'Color:': ' Dark Brown'}</td>\n",
              "      <td>120.077389</td>\n",
              "      <td>1.000000</td>\n",
              "      <td>1.0</td>\n",
              "    </tr>\n",
              "    <tr>\n",
              "      <th>1</th>\n",
              "      <td>5.0</td>\n",
              "      <td>True</td>\n",
              "      <td>2011-10-24</td>\n",
              "      <td>A2LXX47A0KMJVX</td>\n",
              "      <td>B000FOI48G</td>\n",
              "      <td>&lt;div id=\"video-block-R2HEG12C48KXPW\" class=\"a-...</td>\n",
              "      <td>Very happy with this. Quiet operation, large w...</td>\n",
              "      <td>2721.0</td>\n",
              "      <td>NaN</td>\n",
              "      <td>100.249017</td>\n",
              "      <td>1.000000</td>\n",
              "      <td>1.0</td>\n",
              "    </tr>\n",
              "    <tr>\n",
              "      <th>4</th>\n",
              "      <td>5.0</td>\n",
              "      <td>True</td>\n",
              "      <td>2015-07-23</td>\n",
              "      <td>A1VEOLBPJTX620</td>\n",
              "      <td>B00DLGPQK4</td>\n",
              "      <td>So let me say three things that you should kno...</td>\n",
              "      <td>Works amazing for Brazilian/Underarm Use!!!</td>\n",
              "      <td>2056.0</td>\n",
              "      <td>{'Color:': ' Fuchsia'}</td>\n",
              "      <td>82.345180</td>\n",
              "      <td>0.686268</td>\n",
              "      <td>1.0</td>\n",
              "    </tr>\n",
              "    <tr>\n",
              "      <th>5</th>\n",
              "      <td>5.0</td>\n",
              "      <td>True</td>\n",
              "      <td>2012-09-21</td>\n",
              "      <td>AZ4EUUJVC8358</td>\n",
              "      <td>B00HX27AM4</td>\n",
              "      <td>I got one area of my body that I want to get r...</td>\n",
              "      <td>The truth - 11 months later</td>\n",
              "      <td>1918.0</td>\n",
              "      <td>NaN</td>\n",
              "      <td>76.799872</td>\n",
              "      <td>0.640160</td>\n",
              "      <td>1.0</td>\n",
              "    </tr>\n",
              "    <tr>\n",
              "      <th>6</th>\n",
              "      <td>5.0</td>\n",
              "      <td>True</td>\n",
              "      <td>2007-12-01</td>\n",
              "      <td>A2JCJJNY43QQIV</td>\n",
              "      <td>B000GLRREU</td>\n",
              "      <td>I've always prided myself on my good teeth. I ...</td>\n",
              "      <td>Waterpik first timer (for the product AND peri...</td>\n",
              "      <td>1341.0</td>\n",
              "      <td>{'Size:': ' Ultra'}</td>\n",
              "      <td>49.288555</td>\n",
              "      <td>0.492460</td>\n",
              "      <td>1.0</td>\n",
              "    </tr>\n",
              "  </tbody>\n",
              "</table>\n",
              "</div>"
            ],
            "text/plain": [
              "   overall  verified  reviewTime  ...   vote_stan vote_norm sentiment\n",
              "0      4.0      True  2015-11-14  ...  120.077389  1.000000       1.0\n",
              "1      5.0      True  2011-10-24  ...  100.249017  1.000000       1.0\n",
              "4      5.0      True  2015-07-23  ...   82.345180  0.686268       1.0\n",
              "5      5.0      True  2012-09-21  ...   76.799872  0.640160       1.0\n",
              "6      5.0      True  2007-12-01  ...   49.288555  0.492460       1.0\n",
              "\n",
              "[5 rows x 12 columns]"
            ]
          },
          "metadata": {
            "tags": []
          },
          "execution_count": 13
        }
      ]
    },
    {
      "cell_type": "code",
      "metadata": {
        "id": "3HFe0ndccoIE"
      },
      "source": [
        "tot_sent = model_data.overall.value_counts()[:4].sum() #51638 reviews to train our sentiment analysis\n",
        "tot_pred = model_data.overall.value_counts()[3:].sum() #8698 reviews to predict the sentiment"
      ],
      "execution_count": 8,
      "outputs": []
    },
    {
      "cell_type": "code",
      "metadata": {
        "id": "X88iMrl2c2Lc"
      },
      "source": [
        "sent_data = model_data[(model_data['sentiment']==1)| (model_data['sentiment']==0)] #sentiment analysis data\n",
        "pred_data = model_data[model_data['sentiment'].isnull()] #prediction data"
      ],
      "execution_count": 9,
      "outputs": []
    },
    {
      "cell_type": "markdown",
      "metadata": {
        "id": "6pQwFFkPe7kw"
      },
      "source": [
        "# 2. Preprocessing the reviews"
      ]
    },
    {
      "cell_type": "code",
      "metadata": {
        "id": "95OblYDNdQmn"
      },
      "source": [
        "# Merging reviewText and Summary\n",
        "\n",
        "X = sent_data['reviewText'] + sent_data['summary']"
      ],
      "execution_count": 10,
      "outputs": []
    },
    {
      "cell_type": "code",
      "metadata": {
        "id": "M5_ximYYdttx",
        "outputId": "5bf85b52-eb6d-4e29-e995-a387860eb839",
        "colab": {
          "base_uri": "https://localhost:8080/",
          "height": 122
        }
      },
      "source": [
        "#Clean\n",
        "##Show random reviews to have an idea about the cleaning\n",
        "\n",
        "rows = np.random.randint(0,len(X), size = 5)\n",
        "\n",
        "for i in rows:\n",
        "  print(X.iloc[i])"
      ],
      "execution_count": 11,
      "outputs": [
        {
          "output_type": "stream",
          "text": [
            "I like the ease of use in the pastilles. I make my own lotion and this is a base. It is essential in a great lotion.great\n",
            "I am a licensed aesthetician, and love anything in Osmosis, as I believe it is probably one of the best product lines on the market. I actually bought this for my massage therapist for her post-inflammatory hyperpigmentation due to acne, and she is very dark skinned...she called me in 2 weeks and sent me a photo and the results were AMAZING!!! Almost ALL her dark spots were gone and getting better every day...she is sold! She said NOTHING had ever worked this well...great stuff!Another great product from Osmosis\n",
            "I receive compliments on how nice my hair smells when I use this shampoo.  My hair feels very clean and even a day later doesn't feel like it is oily.  I am very happy with this.  I will be ordering more.I receive compliments on how nice my hair smells when I use this shampoo\n",
            "Love the davines line I use a lot of their hair care and styling products! I love this non oil it separates my layers adds a smoothness with a little texture and dimension and no oily feeling or after effects....I've been using this for a couple of years on my third bottle and a bottle lasts a long timeLove davines\n",
            "The box fit perfectly in my truck and sounds great thanks!Five Stars\n"
          ],
          "name": "stdout"
        }
      ]
    },
    {
      "cell_type": "code",
      "metadata": {
        "id": "EArCW1H1gvak"
      },
      "source": [
        "#remove ascii characters, html string and links\n",
        "import re\n",
        "\n",
        "def cleanhtml(raw_html):\n",
        "  cleanr = re.compile('<.*?>|&([a-z0-9]+|#[0-9]{1,6}|#x[0-9a-f]{1,6});')\n",
        "  cleantext = re.sub(cleanr, '', raw_html)\n",
        "  return cleantext\n",
        "\n",
        "X = pd.DataFrame(X, columns = ['reviews'])\n",
        "X = X.fillna('None')\n",
        "X['reviews'] = X['reviews'].apply(lambda x: re.sub(r'http[s]?://(?:[a-zA-Z]|[0-9]|[$-_@.&+]|[!*\\(\\),]|(?:%[0-9a-fA-F][0-9a-fA-F]))', '', x, flags=re.MULTILINE))\n",
        "X['reviews'] = X['reviews'].apply(lambda x: re.sub(r'w+.[a-zA-Z]+.com.[a-zA-Z]+.[a-zA-Z0-9]+..', '', x))\n",
        "X['reviews'] = X['reviews'].apply(lambda x: cleanhtml(x))\n",
        "X['reviews'] = X['reviews'].apply(lambda x: re.sub(r'\\'', '-hap-', x))\n",
        "X['reviews'] = X['reviews'].apply(lambda x: re.sub(r'\\\\-hap-', '', x))\n",
        "X['reviews'] = X['reviews'].apply(lambda x: re.sub(r'-hap-', ' ', x))\n",
        "X['reviews'] = X['reviews'].apply(lambda x: re.sub(r'\\&', 'and', x))\n",
        "X['reviews'] = X['reviews'].apply(lambda x: re.sub(r'\\n', '', x))"
      ],
      "execution_count": 12,
      "outputs": []
    },
    {
      "cell_type": "markdown",
      "metadata": {
        "id": "BX3PX1iHsbQW"
      },
      "source": [
        "# 3. Sentiment Analysis"
      ]
    },
    {
      "cell_type": "code",
      "metadata": {
        "id": "ac-PgO-9hxly",
        "outputId": "11a80871-fcdc-4ec1-c222-0402f0e28a99",
        "colab": {
          "base_uri": "https://localhost:8080/",
          "height": 34
        }
      },
      "source": [
        "y = sent_data.sentiment\n",
        "y = y.values.ravel()\n",
        "y.shape"
      ],
      "execution_count": 13,
      "outputs": [
        {
          "output_type": "execute_result",
          "data": {
            "text/plain": [
              "(51638,)"
            ]
          },
          "metadata": {
            "tags": []
          },
          "execution_count": 13
        }
      ]
    },
    {
      "cell_type": "code",
      "metadata": {
        "id": "g4rNgDHUth4g",
        "outputId": "0b3da5ee-7c35-4e4b-cb77-b23b16116db5",
        "colab": {
          "base_uri": "https://localhost:8080/",
          "height": 34
        }
      },
      "source": [
        "X = X.to_numpy()\n",
        "X.shape"
      ],
      "execution_count": 14,
      "outputs": [
        {
          "output_type": "execute_result",
          "data": {
            "text/plain": [
              "(51638, 1)"
            ]
          },
          "metadata": {
            "tags": []
          },
          "execution_count": 14
        }
      ]
    },
    {
      "cell_type": "code",
      "metadata": {
        "id": "WdyLYbTEswUd"
      },
      "source": [
        "from sklearn.model_selection import cross_val_score, train_test_split, GridSearchCV\n",
        "\n",
        "X_train, X_test, y_train, y_test = train_test_split(X, y, random_state = 123)"
      ],
      "execution_count": 15,
      "outputs": []
    },
    {
      "cell_type": "code",
      "metadata": {
        "id": "ZMs12YWYsyO3"
      },
      "source": [
        "import spacy\n",
        "import en_core_web_sm\n",
        "from  spacy.lang.en.stop_words import STOP_WORDS\n",
        "nlp = en_core_web_sm.load()\n",
        "\n",
        "# To build a list of stop words for filtering. We keep 'not' as it is a good indicator of sentiment.\n",
        "stopwords = list(STOP_WORDS)\n",
        "stopwords.remove('not')"
      ],
      "execution_count": 16,
      "outputs": []
    },
    {
      "cell_type": "code",
      "metadata": {
        "id": "v0yleaOwtQXf"
      },
      "source": [
        "import string\n",
        "from spacy.lang.en import English\n",
        "\n",
        "punctuations = string.punctuation\n",
        "\n",
        "# Creating a Spacy Parser\n",
        "parser = English()\n",
        "\n",
        "def my_tokenizer(sentence):\n",
        "    mytokens = parser(sentence)\n",
        "    mytokens = [word.lemma_.lower().strip() if word.lemma_ != \"-PRON-\" else word.lower_ for word in mytokens]\n",
        "    mytokens = [word for word in mytokens if word not in stopwords and word not in punctuations]\n",
        "    return mytokens\n",
        "\n",
        "X_string = [' '.join([str(i) for i in j])  for j in X_train]\n",
        "#X_doc = [nlp(i) for i in X_string]"
      ],
      "execution_count": 17,
      "outputs": []
    },
    {
      "cell_type": "code",
      "metadata": {
        "id": "TBcutwNMwnrX"
      },
      "source": [
        "X_test_string = [' '.join([str(i) for i in j])  for j in X_test]"
      ],
      "execution_count": 18,
      "outputs": []
    },
    {
      "cell_type": "code",
      "metadata": {
        "id": "qcyoGXv5v9Ad"
      },
      "source": [
        "#Custom transformer using spaCy \n",
        "from sklearn.base import TransformerMixin \n",
        "\n",
        "class predictors(TransformerMixin):\n",
        "    def transform(self, X, **transform_params):\n",
        "        return [clean_text(text) for text in X]\n",
        "    def fit(self, X, y=None, **fit_params):\n",
        "        return self\n",
        "    def get_params(self, deep=True):\n",
        "        return {}\n",
        "\n",
        "# Basic function to clean the text \n",
        "def clean_text(text):     \n",
        "    return text.strip().lower()"
      ],
      "execution_count": 20,
      "outputs": []
    },
    {
      "cell_type": "code",
      "metadata": {
        "id": "9dheYDI-uhHQ"
      },
      "source": [
        "from sklearn.feature_extraction.text import CountVectorizer,TfidfVectorizer\n",
        "from sklearn.pipeline import Pipeline\n",
        "from sklearn.svm import LinearSVC\n",
        "\n",
        "vectorizer = TfidfVectorizer(tokenizer = my_tokenizer, ngram_range=(1,2), min_df = 4, max_features = 2000) #Trying tfidf with unigram and bigram\n",
        "SVC_classifier = LinearSVC()\n",
        "\n",
        "pipe = Pipeline([(\"cleaner\", predictors()),\n",
        "                 ('vectorizer', vectorizer),\n",
        "                 ('classifier', SVC_classifier)])\n",
        "\n",
        "#X_pp = vectorizer.fit_transform(X_string)\n",
        "\n",
        "#Basic model\n",
        "#SVC_score = cross_val_score(SVC_classifier, X_pp, y_train, cv = 5)\n",
        "#print('The score of the SVC model is:', np.mean(SVC_score))"
      ],
      "execution_count": 21,
      "outputs": []
    },
    {
      "cell_type": "code",
      "metadata": {
        "id": "60iGIvPywR22",
        "outputId": "b8dc0f0c-72ee-4418-e509-b81427985244",
        "colab": {
          "base_uri": "https://localhost:8080/",
          "height": 391
        }
      },
      "source": [
        "# Fit our data\n",
        "pipe.fit(X_string,y_train)"
      ],
      "execution_count": 22,
      "outputs": [
        {
          "output_type": "execute_result",
          "data": {
            "text/plain": [
              "Pipeline(memory=None,\n",
              "         steps=[('cleaner', <__main__.predictors object at 0x7fe5518918d0>),\n",
              "                ('vectorizer',\n",
              "                 TfidfVectorizer(analyzer='word', binary=False,\n",
              "                                 decode_error='strict',\n",
              "                                 dtype=<class 'numpy.float64'>,\n",
              "                                 encoding='utf-8', input='content',\n",
              "                                 lowercase=True, max_df=1.0, max_features=2000,\n",
              "                                 min_df=4, ngram_range=(1, 2), norm='l2',\n",
              "                                 preprocessor=None, smooth_idf=True,\n",
              "                                 stop_wor...\n",
              "                                 sublinear_tf=False,\n",
              "                                 token_pattern='(?u)\\\\b\\\\w\\\\w+\\\\b',\n",
              "                                 tokenizer=<function my_tokenizer at 0x7fe55cb5d730>,\n",
              "                                 use_idf=True, vocabulary=None)),\n",
              "                ('classifier',\n",
              "                 LinearSVC(C=1.0, class_weight=None, dual=True,\n",
              "                           fit_intercept=True, intercept_scaling=1,\n",
              "                           loss='squared_hinge', max_iter=1000,\n",
              "                           multi_class='ovr', penalty='l2', random_state=None,\n",
              "                           tol=0.0001, verbose=0))],\n",
              "         verbose=False)"
            ]
          },
          "metadata": {
            "tags": []
          },
          "execution_count": 22
        }
      ]
    },
    {
      "cell_type": "code",
      "metadata": {
        "id": "OThfhsDZw7DT"
      },
      "source": [
        "# Predicting with a test dataset\n",
        "y_pred = pipe.predict(X_test_string)"
      ],
      "execution_count": 23,
      "outputs": []
    },
    {
      "cell_type": "code",
      "metadata": {
        "id": "_pI5NmLowVkL",
        "outputId": "41cb92f4-c080-4208-df9b-5429612f33c0",
        "colab": {
          "base_uri": "https://localhost:8080/",
          "height": 68
        }
      },
      "source": [
        "# Prediction Results\n",
        "from sklearn.metrics import confusion_matrix, accuracy_score, classification_report\n",
        "\n",
        "print(confusion_matrix(y_test, y_pred))\n",
        "print(accuracy_score(y_test, y_pred))"
      ],
      "execution_count": 24,
      "outputs": [
        {
          "output_type": "stream",
          "text": [
            "[[ 1949   508]\n",
            " [  279 10174]]\n",
            "0.9390395042602634\n"
          ],
          "name": "stdout"
        }
      ]
    },
    {
      "cell_type": "code",
      "metadata": {
        "id": "9dW6WlSLu7oo"
      },
      "source": [
        "results = pd.concat([pd.DataFrame(X_test), pd.DataFrame(y_pred)], axis = 1)"
      ],
      "execution_count": 30,
      "outputs": []
    },
    {
      "cell_type": "code",
      "metadata": {
        "id": "jXlGFo5Wypke",
        "outputId": "cf1c066a-b62e-4a82-c204-528ed5159e88",
        "colab": {
          "base_uri": "https://localhost:8080/",
          "height": 204
        }
      },
      "source": [
        "results.columns = ['reviewsum', 'pred_sent']\n",
        "results.head()"
      ],
      "execution_count": 31,
      "outputs": [
        {
          "output_type": "execute_result",
          "data": {
            "text/html": [
              "<div>\n",
              "<style scoped>\n",
              "    .dataframe tbody tr th:only-of-type {\n",
              "        vertical-align: middle;\n",
              "    }\n",
              "\n",
              "    .dataframe tbody tr th {\n",
              "        vertical-align: top;\n",
              "    }\n",
              "\n",
              "    .dataframe thead th {\n",
              "        text-align: right;\n",
              "    }\n",
              "</style>\n",
              "<table border=\"1\" class=\"dataframe\">\n",
              "  <thead>\n",
              "    <tr style=\"text-align: right;\">\n",
              "      <th></th>\n",
              "      <th>reviewsum</th>\n",
              "      <th>pred_sent</th>\n",
              "    </tr>\n",
              "  </thead>\n",
              "  <tbody>\n",
              "    <tr>\n",
              "      <th>0</th>\n",
              "      <td>I love this product and use it often with good...</td>\n",
              "      <td>1.0</td>\n",
              "    </tr>\n",
              "    <tr>\n",
              "      <th>1</th>\n",
              "      <td>Great for soaking your retainer inGreat for so...</td>\n",
              "      <td>1.0</td>\n",
              "    </tr>\n",
              "    <tr>\n",
              "      <th>2</th>\n",
              "      <td>Works very well, and I put it on at night. Wak...</td>\n",
              "      <td>1.0</td>\n",
              "    </tr>\n",
              "    <tr>\n",
              "      <th>3</th>\n",
              "      <td>Love this! I buy it all the time from Amazon i...</td>\n",
              "      <td>1.0</td>\n",
              "    </tr>\n",
              "    <tr>\n",
              "      <th>4</th>\n",
              "      <td>This product feels really good on the skin . M...</td>\n",
              "      <td>1.0</td>\n",
              "    </tr>\n",
              "  </tbody>\n",
              "</table>\n",
              "</div>"
            ],
            "text/plain": [
              "                                           reviewsum  pred_sent\n",
              "0  I love this product and use it often with good...        1.0\n",
              "1  Great for soaking your retainer inGreat for so...        1.0\n",
              "2  Works very well, and I put it on at night. Wak...        1.0\n",
              "3  Love this! I buy it all the time from Amazon i...        1.0\n",
              "4  This product feels really good on the skin . M...        1.0"
            ]
          },
          "metadata": {
            "tags": []
          },
          "execution_count": 31
        }
      ]
    },
    {
      "cell_type": "code",
      "metadata": {
        "id": "e7_7bagDywVQ",
        "outputId": "6d219ab4-b06b-4768-8684-a18fcb1b2f8d",
        "colab": {
          "base_uri": "https://localhost:8080/",
          "height": 292
        }
      },
      "source": [
        "for i in np.random.randint(0, len(results), size = 5):\n",
        "  print(results.loc[i, 'reviewsum'], '\\n', results.loc[i, 'pred_sent'], '\\n')"
      ],
      "execution_count": 32,
      "outputs": [
        {
          "output_type": "stream",
          "text": [
            "Perfect product for my fine very curly hair. Control but not a lot of crunch.Control but no crunch! \n",
            " 1.0 \n",
            "\n",
            "I don t use this daily like it recommends because it s an exfoliater, and it s not good to exfoliate your skin every day.  I use it twice a week at night in place of my other cleanser (Image Skincare Ormedic Balancing Facial Cleanser), and follow with other Image Skincare products.  I think this is a great exfoliater because it doesn t irrate my skin at all, nor does it dry it out.  And no breakouts!Great product. \n",
            " 1.0 \n",
            "\n",
            "If I m being completely honest, when I purchased Booty Magic I was skeptical, although I had high hopes that the product would do what it claims it does. I am three weeks in and can already see changes! I can t wait to see what my bum looks like in 60 days!!!From Flat to Plump \n",
            " 1.0 \n",
            "\n",
            "I ve done the \"variety pack\" of blades, and I find Astra blades to work best for my skin.  Been using them for years with my safety razor, and have probably saved hundreds (yes, HUNDREDS) of dollars by this point.  I m sure it varies by person, but for myself, I shave every day and use roughly one blade per week.  I shave using one side Monday through Wednesday, then the other side from Thursday through Sunday.Excellent blades.and I find Astra blades to work best for my skin \n",
            " 1.0 \n",
            "\n",
            "I like it.  This is my second bottle.  Creams, sprays and lotions of sunscreen seem to stain my clothes, this doesn t.  Also because I live in a very hot and humid climate (eastern Florida) and I have oily skin, this stays on better.I like it. This is my second bottle \n",
            " 1.0 \n",
            "\n"
          ],
          "name": "stdout"
        }
      ]
    },
    {
      "cell_type": "markdown",
      "metadata": {
        "id": "3xSSWDC704Dz"
      },
      "source": [
        "# 4. Predict the sentiment for the 2/3 star reviews of model_data"
      ]
    },
    {
      "cell_type": "code",
      "metadata": {
        "id": "HY_6kux903Ip"
      },
      "source": [
        "X_new = pred_data['reviewText'] + pred_data['summary']\n",
        "\n",
        "X_new = pd.DataFrame(X_new, columns = ['reviews'])\n",
        "X_new = X_new.fillna('None')\n",
        "X_new['reviews'] = X_new['reviews'].apply(lambda x: re.sub(r'http[s]?://(?:[a-zA-Z]|[0-9]|[$-_@.&+]|[!*\\(\\),]|(?:%[0-9a-fA-F][0-9a-fA-F]))', '', x, flags=re.MULTILINE))\n",
        "X_new['reviews'] = X_new['reviews'].apply(lambda x: re.sub(r'w+.[a-zA-Z]+.com.[a-zA-Z]+.[a-zA-Z0-9]+..', '', x))\n",
        "X_new['reviews'] = X_new['reviews'].apply(lambda x: cleanhtml(x))\n",
        "X_new['reviews'] = X_new['reviews'].apply(lambda x: re.sub(r'\\'', '-hap-', x))\n",
        "X_new['reviews'] = X_new['reviews'].apply(lambda x: re.sub(r'\\\\-hap-', '', x))\n",
        "X_new['reviews'] = X_new['reviews'].apply(lambda x: re.sub(r'-hap-', ' ', x))\n",
        "X_new['reviews'] = X_new['reviews'].apply(lambda x: re.sub(r'\\&', 'and', x))\n",
        "X_new['reviews'] = X_new['reviews'].apply(lambda x: re.sub(r'\\n', '', x))\n",
        "\n",
        "X_new = X_new.to_numpy()\n",
        "X_new_string = [' '.join([str(i) for i in j])  for j in X_new]\n",
        "y_new_pred = pipe.predict(X_new_string)"
      ],
      "execution_count": 33,
      "outputs": []
    },
    {
      "cell_type": "code",
      "metadata": {
        "id": "N_f73eWk24GO",
        "outputId": "c783976f-a690-44d6-fd86-b63c0f43bfbc",
        "colab": {
          "base_uri": "https://localhost:8080/",
          "height": 171
        }
      },
      "source": [
        "X_new_string[0]"
      ],
      "execution_count": 34,
      "outputs": [
        {
          "output_type": "execute_result",
          "data": {
            "application/vnd.google.colaboratory.intrinsic+json": {
              "type": "string"
            },
            "text/plain": [
              "'I m not sure why they don t refer to this Waterpik with its model number, WP-100. That s what it is. (they ve since changed the name from  professional  to WP-100)I have used Waterpiks over the years, and finally broke down an bought another after years of doing without. As far as their usefulness as a dental device, I think they re great. My dentist doesn t think that highly of them, but after paying him $5000 for dental surgery, maybe he just wants to assure himself of continued business.I don t floss much, and I m not that dedicated toothbrusher either. So when I use the pik, and there are always some food particles dislodged by it, even after flossing, I figure it must be doing some good.As far as this model goes, it works as expected, but I don tr find any improvments over the model I had 30 years ago. From the picture it looks bigger. So it has a smaller footprint than I expected, but the reservoir is also quite small. It s just big enough for a cursory cleaning without having to refill it.The pressure is quite a bit lower than older models. I don t know if there is a legitmate reason for having a lower pressure, or if it s a matter manufacturing costs. I d like a stronger jet for my preferences.The hose that connects the handle is way too short. You really need to keep the unit right next to the edge of the sink, and bend over. Again, I find no reason to do this except cost savings.Noeveral tips (30 years ago, there was only one flavor). Tounge cleaner, pick pocket, orthodontic tip, and plain vanilla. I can t say that any of the new designs adds anything to the operation.I hardly would call this unit  professional . It feels like it will have a limited life, and is hardly what I would call robust. I think a more apt description would be  Compact Basic .update 12/2/2006:Older WaterPiks used to have pressure fit tips (and worked fine). This has a button on the handle to release the tip, and it is located right where your thumb would be when holding it. The tip is constantly popping out because of this design flaw. With the short hose, 16oz capacity, weak pressure, my disappointment with this unit is only growing. I wish I could find a 25 year old model which had none of these problems.update 01/10/2007 - If I could, I d reduce my rating of this unit to 1 star. The designers must have been on vacation when they released this thing. The handle has a knurled collar, which you d think could be used to rotate the tip, but it doesn t. The tips are not keyed, so they won t necessarily turn when you rotate the collar. As I said, the release button for the tips is in a place where it s easy to press inadvertently. You can t turn the unit off and on with one hand due to its light weight. The hose is too short. The reservoir cover holds the extra tips, and is not convenient, nor do I trust it to keep the reservoir protected from ambient germs or bacteria. I really wish I could find one of the old models, which had none of these problems, so I could toss this one in the trash. Don t waste the extra money on this one, or if you have a old broken one, get it repaired instead of buying this thing.WP-100 Waterpik - Not what they used to be...'"
            ]
          },
          "metadata": {
            "tags": []
          },
          "execution_count": 34
        }
      ]
    },
    {
      "cell_type": "code",
      "metadata": {
        "id": "7P75PuER2KsO",
        "outputId": "1354825d-22bc-4402-8023-b4a18210a399",
        "colab": {
          "base_uri": "https://localhost:8080/",
          "height": 292
        }
      },
      "source": [
        "results_23 = pd.concat([pd.DataFrame(X_new), pd.DataFrame(y_new_pred)], axis = 1)\n",
        "results_23.columns = ['reviewsum', 'pred_sent']\n",
        "\n",
        "for i in np.random.randint(0, len(results_23), size = 5):\n",
        "  print(results_23.loc[i, 'reviewsum'], '\\n', results_23.loc[i, 'pred_sent'], '\\n')"
      ],
      "execution_count": 35,
      "outputs": [
        {
          "output_type": "stream",
          "text": [
            "I ve only been using this for a month and it s really drying my hair out and making it strawlike. I just bought a different brand to make sure it s the flat iron and my new flat iron is much kinder to my hair (T3). Maybe it s not right for the kind of hair I have (very thick and somewhat wavy). Not sure, but I won t be using it anymore.Dried my hair and made it strawlike. \n",
            " 0.0 \n",
            "\n",
            "Not impressed with this body butter.  The packaging is styrofoam, the butter is the consistency of hard soap and, no noticeable scent of patchouli.  Heavy, sweet vanilla and lavender.  A little lasts a looooong time.  Not for me.Where s the patchouli \n",
            " 1.0 \n",
            "\n",
            "Very powerful hairdryer,does not have low enough setting for finer hair. Dries hair very quickly, more of a professional dryer. It was blowing hair all over, difficult to controldoes not have low enough setting for finer hair. Dries hair very quickly \n",
            " 1.0 \n",
            "\n",
            "I was reallly expecting to love this after reading all the good reviews. However, this mascara flakes and irritates my eyes. It looks good when you put it on, but almost immediately after it dries it starts flaking into my eyes. I haven t seen any reviews stating they have had the same issue. So maybe its just the one I got. I dunno, but I won t be buying again.I was reallly expecting to love this after reading all the good reviews \n",
            " 0.0 \n",
            "\n",
            "A relative recommended this to me who in turn was introduced to it by a coworker. They both loved it and mentioned how amazing their skin was afterwards. I used brush about once a week for several weeks and haven t noticed any difference in my skin texture compared to exfoliating with a washcloth. I m not sure if I m not using it frequently enough or if I need a coarser brush head for my acne prone skin. If you re debating whether to buy this product, buy it at your local department store that has a flexible return policy in case you don t like it.Didn t work for me \n",
            " 1.0 \n",
            "\n"
          ],
          "name": "stdout"
        }
      ]
    },
    {
      "cell_type": "code",
      "metadata": {
        "id": "Z8kIyiVZ2tYc",
        "outputId": "b498291a-3723-4617-a37d-420fd1bac2e2",
        "colab": {
          "base_uri": "https://localhost:8080/",
          "height": 204
        }
      },
      "source": [
        "results_23.head()"
      ],
      "execution_count": 36,
      "outputs": [
        {
          "output_type": "execute_result",
          "data": {
            "text/html": [
              "<div>\n",
              "<style scoped>\n",
              "    .dataframe tbody tr th:only-of-type {\n",
              "        vertical-align: middle;\n",
              "    }\n",
              "\n",
              "    .dataframe tbody tr th {\n",
              "        vertical-align: top;\n",
              "    }\n",
              "\n",
              "    .dataframe thead th {\n",
              "        text-align: right;\n",
              "    }\n",
              "</style>\n",
              "<table border=\"1\" class=\"dataframe\">\n",
              "  <thead>\n",
              "    <tr style=\"text-align: right;\">\n",
              "      <th></th>\n",
              "      <th>reviewsum</th>\n",
              "      <th>pred_sent</th>\n",
              "    </tr>\n",
              "  </thead>\n",
              "  <tbody>\n",
              "    <tr>\n",
              "      <th>0</th>\n",
              "      <td>I m not sure why they don t refer to this Wate...</td>\n",
              "      <td>1.0</td>\n",
              "    </tr>\n",
              "    <tr>\n",
              "      <th>1</th>\n",
              "      <td>I m not sure why they don t refer to this Wate...</td>\n",
              "      <td>1.0</td>\n",
              "    </tr>\n",
              "    <tr>\n",
              "      <th>2</th>\n",
              "      <td>Nioxin Cleanser, System 1 (Fine/Untreated/Norm...</td>\n",
              "      <td>1.0</td>\n",
              "    </tr>\n",
              "    <tr>\n",
              "      <th>3</th>\n",
              "      <td>I purchased this unit after seeing the infomer...</td>\n",
              "      <td>0.0</td>\n",
              "    </tr>\n",
              "    <tr>\n",
              "      <th>4</th>\n",
              "      <td>Super moisturizing, a great toner and smells g...</td>\n",
              "      <td>1.0</td>\n",
              "    </tr>\n",
              "  </tbody>\n",
              "</table>\n",
              "</div>"
            ],
            "text/plain": [
              "                                           reviewsum  pred_sent\n",
              "0  I m not sure why they don t refer to this Wate...        1.0\n",
              "1  I m not sure why they don t refer to this Wate...        1.0\n",
              "2  Nioxin Cleanser, System 1 (Fine/Untreated/Norm...        1.0\n",
              "3  I purchased this unit after seeing the infomer...        0.0\n",
              "4  Super moisturizing, a great toner and smells g...        1.0"
            ]
          },
          "metadata": {
            "tags": []
          },
          "execution_count": 36
        }
      ]
    },
    {
      "cell_type": "code",
      "metadata": {
        "id": "LfJfmE2A2yfG",
        "outputId": "4791b073-40ee-4a55-9ba1-ffedb10c9bbd",
        "colab": {
          "base_uri": "https://localhost:8080/",
          "height": 68
        }
      },
      "source": [
        "results_23.pred_sent.value_counts()"
      ],
      "execution_count": 37,
      "outputs": [
        {
          "output_type": "execute_result",
          "data": {
            "text/plain": [
              "1.0    5657\n",
              "0.0    3055\n",
              "Name: pred_sent, dtype: int64"
            ]
          },
          "metadata": {
            "tags": []
          },
          "execution_count": 37
        }
      ]
    },
    {
      "cell_type": "code",
      "metadata": {
        "id": "ZyB9Yy7u5U2Z"
      },
      "source": [
        "neg_rev = results_23[results_23.pred_sent == 0]"
      ],
      "execution_count": 38,
      "outputs": []
    },
    {
      "cell_type": "code",
      "metadata": {
        "id": "9gi7o8P15jaZ",
        "outputId": "545bc61a-72ec-406f-dd35-6b807215a646",
        "colab": {
          "base_uri": "https://localhost:8080/",
          "height": 122
        }
      },
      "source": [
        "for i in np.random.randint(0,len(neg_rev), size = 5):\n",
        "  print(neg_rev.reviewsum.iloc[i])"
      ],
      "execution_count": 39,
      "outputs": [
        {
          "output_type": "stream",
          "text": [
            "I didn t end up loving the colors as much as i thought since this looks much more matte in the pictures than in reality. I hadnt expected this palette to be as incredibly shimmery and glitzy as it turned out to be. Its for sure not work appropriate as every single color is slightly  two-toned\" depending on how the light hits it and one of the colors actually has chunky glitter in it.Not the same as the pictures\n",
            "My favorite mascara was discontinued by the manufacturer, and I thought I d try stila Huge Extreme Lash Mascara.  I was very disappointed.  The mascara clumps horribly and is very \"gloppy\" because the brush picks up  way too much product, creating a harsh and unnatural look when applied to my lashes without wiping the brush first.  I use a tissue to remove all the excess mascara from the brush, apply what s left, and then the result is very nice.  But there is a tremendous waste of mascara -- this mascara is too expensive to have most of it wiped off on a tissue.Would not recommend\n",
            "I am not a huge makeup person and I have a hard time spending a lot of money on make up.  However, I have oily skin and my old foundation was not working.  So I was recommended to try Stila Stay All Day Foundation.  $40 and a couple days later I received the foundation.  It was a lot smaller than I thought it would be for $40 and I was disappointed.  The foundation is hard to put on.  If I am not careful I end up looking streaky.  My skin has a constant shine to it even after applying the foundation.  It has not helped with my oily skin.  I am just disappointed all around and will not spend that much money on foundation ever again.Disappointing\n",
            "Did not seem to have any positive effect on my acne or skin tone. Barely covered acne redness and did not last--felt like it wiped right off when I covered the chalky powder with powder foundation. I have been fighting a strange cystic acne breakout--worse than I have had in several years. Nothing seems to be helping and I was optimistic about trying this product after all the great reviews, but was disappointed.don t understand all the hype\n",
            "These blades are priced above many reputable brands, but aren t particularly sharp, smooth, or durable.  I made the mistake of thinking that since I bought a Merkur razor, I should put high-quality Merkur blades in it.  Wrong.  Save yourself some hassle and get a box of supremely sharp Feathers instead.Overpriced, Undersharp\n"
          ],
          "name": "stdout"
        }
      ]
    },
    {
      "cell_type": "markdown",
      "metadata": {
        "id": "eOeFECgt-R8i"
      },
      "source": [
        "# 5. Improving with SMOTE"
      ]
    },
    {
      "cell_type": "code",
      "metadata": {
        "id": "F6qhIn5j5uqq",
        "outputId": "129be6f1-3a45-4c68-a7f3-31274785d91b",
        "colab": {
          "base_uri": "https://localhost:8080/",
          "height": 139
        }
      },
      "source": [
        "from imblearn.over_sampling import SMOTE\n",
        "\n",
        "smote = SMOTE(ratio='minority')\n",
        "X_sm_string = vectorizer.fit_transform(X_string)\n",
        "\n",
        "X_sm, y_sm = smote.fit_sample(X_sm_string, y_train)"
      ],
      "execution_count": 40,
      "outputs": [
        {
          "output_type": "stream",
          "text": [
            "/usr/local/lib/python3.6/dist-packages/sklearn/externals/six.py:31: FutureWarning: The module is deprecated in version 0.21 and will be removed in version 0.23 since we've dropped support for Python 2.7. Please rely on the official version of six (https://pypi.org/project/six/).\n",
            "  \"(https://pypi.org/project/six/).\", FutureWarning)\n",
            "/usr/local/lib/python3.6/dist-packages/sklearn/utils/deprecation.py:144: FutureWarning: The sklearn.neighbors.base module is  deprecated in version 0.22 and will be removed in version 0.24. The corresponding classes / functions should instead be imported from sklearn.neighbors. Anything that cannot be imported from sklearn.neighbors is now part of the private API.\n",
            "  warnings.warn(message, FutureWarning)\n",
            "/usr/local/lib/python3.6/dist-packages/sklearn/utils/deprecation.py:87: FutureWarning: Function safe_indexing is deprecated; safe_indexing is deprecated in version 0.22 and will be removed in version 0.24.\n",
            "  warnings.warn(msg, category=FutureWarning)\n"
          ],
          "name": "stderr"
        }
      ]
    },
    {
      "cell_type": "code",
      "metadata": {
        "id": "cDgwZSKs-l8Q"
      },
      "source": [
        "from imblearn.pipeline import make_pipeline\n",
        "\n",
        "SMOTE_pipeline = make_pipeline(vectorizer, SMOTE(random_state=123, ratio='minority'), SVC_classifier) "
      ],
      "execution_count": 41,
      "outputs": []
    },
    {
      "cell_type": "code",
      "metadata": {
        "id": "LLVmQLxt-zR4",
        "outputId": "f0b3b640-cf1f-48d4-9402-0c140a9d6377",
        "colab": {
          "base_uri": "https://localhost:8080/",
          "height": 462
        }
      },
      "source": [
        "SMOTE_pipeline.fit(X_string, y_train)"
      ],
      "execution_count": 42,
      "outputs": [
        {
          "output_type": "stream",
          "text": [
            "/usr/local/lib/python3.6/dist-packages/sklearn/utils/deprecation.py:87: FutureWarning: Function safe_indexing is deprecated; safe_indexing is deprecated in version 0.22 and will be removed in version 0.24.\n",
            "  warnings.warn(msg, category=FutureWarning)\n"
          ],
          "name": "stderr"
        },
        {
          "output_type": "execute_result",
          "data": {
            "text/plain": [
              "Pipeline(memory=None,\n",
              "         steps=[('tfidfvectorizer',\n",
              "                 TfidfVectorizer(analyzer='word', binary=False,\n",
              "                                 decode_error='strict',\n",
              "                                 dtype=<class 'numpy.float64'>,\n",
              "                                 encoding='utf-8', input='content',\n",
              "                                 lowercase=True, max_df=1.0, max_features=2000,\n",
              "                                 min_df=4, ngram_range=(1, 2), norm='l2',\n",
              "                                 preprocessor=None, smooth_idf=True,\n",
              "                                 stop_words=None, strip_accents=None,\n",
              "                                 sublinear_tf=False,\n",
              "                                 token...\n",
              "                       m_neighbors='deprecated', n_jobs=1,\n",
              "                       out_step='deprecated', random_state=123,\n",
              "                       ratio='minority', sampling_strategy='minority',\n",
              "                       svm_estimator='deprecated')),\n",
              "                ('linearsvc',\n",
              "                 LinearSVC(C=1.0, class_weight=None, dual=True,\n",
              "                           fit_intercept=True, intercept_scaling=1,\n",
              "                           loss='squared_hinge', max_iter=1000,\n",
              "                           multi_class='ovr', penalty='l2', random_state=None,\n",
              "                           tol=0.0001, verbose=0))],\n",
              "         verbose=False)"
            ]
          },
          "metadata": {
            "tags": []
          },
          "execution_count": 42
        }
      ]
    },
    {
      "cell_type": "code",
      "metadata": {
        "id": "nhRmFfPG-8Qz"
      },
      "source": [
        "y_sm_pred = SMOTE_pipeline.predict(X_test_string)"
      ],
      "execution_count": 51,
      "outputs": []
    },
    {
      "cell_type": "code",
      "metadata": {
        "id": "9-paoVAvBBXz",
        "outputId": "2d01764c-37e8-41ff-9750-afb4718af757",
        "colab": {
          "base_uri": "https://localhost:8080/",
          "height": 51
        }
      },
      "source": [
        "confusion_matrix(y_test, y_sm_pred)"
      ],
      "execution_count": 52,
      "outputs": [
        {
          "output_type": "execute_result",
          "data": {
            "text/plain": [
              "array([[2080,  288],\n",
              "       [ 630, 9994]])"
            ]
          },
          "metadata": {
            "tags": []
          },
          "execution_count": 52
        }
      ]
    },
    {
      "cell_type": "code",
      "metadata": {
        "id": "Dia3vuN7Gm6E",
        "outputId": "c01e09be-3d0c-4b41-d400-baa671eca3ac",
        "colab": {
          "base_uri": "https://localhost:8080/",
          "height": 51
        }
      },
      "source": [
        "print(confusion_matrix(y_test, y_pred))"
      ],
      "execution_count": 59,
      "outputs": [
        {
          "output_type": "stream",
          "text": [
            "[[ 1946   422]\n",
            " [  264 10360]]\n"
          ],
          "name": "stdout"
        }
      ]
    },
    {
      "cell_type": "code",
      "metadata": {
        "id": "Ghfnxb74BGH8",
        "outputId": "282976c0-60dc-467a-899e-bfcdca85c913",
        "colab": {
          "base_uri": "https://localhost:8080/",
          "height": 34
        }
      },
      "source": [
        "accuracy_score(y_test, y_sm_pred)"
      ],
      "execution_count": 53,
      "outputs": [
        {
          "output_type": "execute_result",
          "data": {
            "text/plain": [
              "0.9293411330049262"
            ]
          },
          "metadata": {
            "tags": []
          },
          "execution_count": 53
        }
      ]
    },
    {
      "cell_type": "code",
      "metadata": {
        "id": "TaZ9AAQaBL93",
        "outputId": "1f5403db-c54c-4b8d-c913-5162ea33a54e",
        "colab": {
          "base_uri": "https://localhost:8080/",
          "height": 170
        }
      },
      "source": [
        "print(classification_report(y_test, y_sm_pred))"
      ],
      "execution_count": 54,
      "outputs": [
        {
          "output_type": "stream",
          "text": [
            "              precision    recall  f1-score   support\n",
            "\n",
            "         0.0       0.77      0.88      0.82      2368\n",
            "         1.0       0.97      0.94      0.96     10624\n",
            "\n",
            "    accuracy                           0.93     12992\n",
            "   macro avg       0.87      0.91      0.89     12992\n",
            "weighted avg       0.93      0.93      0.93     12992\n",
            "\n"
          ],
          "name": "stdout"
        }
      ]
    },
    {
      "cell_type": "code",
      "metadata": {
        "id": "XijhyGVnCPT4",
        "outputId": "e8b37517-63de-4f89-9902-b68c80e9876c",
        "colab": {
          "base_uri": "https://localhost:8080/",
          "height": 170
        }
      },
      "source": [
        "print(classification_report(y_test, y_pred))"
      ],
      "execution_count": 50,
      "outputs": [
        {
          "output_type": "stream",
          "text": [
            "              precision    recall  f1-score   support\n",
            "\n",
            "         0.0       0.88      0.82      0.85      2368\n",
            "         1.0       0.96      0.98      0.97     10624\n",
            "\n",
            "    accuracy                           0.95     12992\n",
            "   macro avg       0.92      0.90      0.91     12992\n",
            "weighted avg       0.95      0.95      0.95     12992\n",
            "\n"
          ],
          "name": "stdout"
        }
      ]
    },
    {
      "cell_type": "code",
      "metadata": {
        "id": "_wgSYgfFCZIT",
        "outputId": "02c34b9c-ed67-4846-e277-bc3775c84579",
        "colab": {
          "base_uri": "https://localhost:8080/",
          "height": 292
        }
      },
      "source": [
        "#Test on 2/3 reviews\n",
        "\n",
        "y_new_sm_pred = SMOTE_pipeline.predict(X_new_string)\n",
        "\n",
        "results_23_sm = pd.concat([pd.DataFrame(X_new), pd.DataFrame(y_new_sm_pred)], axis = 1)\n",
        "results_23_sm.columns = ['reviewsum', 'pred_sent']\n",
        "\n",
        "for i in np.random.randint(0, len(results_23_sm), size = 5):\n",
        "  print(results_23_sm.loc[i, 'reviewsum'], '\\n', results_23_sm.loc[i, 'pred_sent'], '\\n')"
      ],
      "execution_count": 55,
      "outputs": [
        {
          "output_type": "stream",
          "text": [
            "I have used an inexpensive base coat for years and have never had a problem.  I recently purchased the OPI because I was buying some other OPI products.  However, the first time I went to change my nail enamel after using the OPI, I realized that my nails were stained by my nail enamel (also OPI).  I have always used a base coat and have never had my nails stain until this time.  I ll go back to the cheap stuff.I have used an inexpensive base coat for years and ... \n",
            " 1.0 \n",
            "\n",
            "This actually worked really well for me, but only for about 3 weeks and then it stopped turning on completely.This actually worked really well for me, but only ... \n",
            " 1.0 \n",
            "\n",
            "This feels nice and I was going to re-order, but I noticed Alpha Hydrox is offering a new one, under the name of Alpha.  The new one is SPF30, so I ordered that instead.  I guess they are changing their whole line over to this new name?  This one is offered in a 3 oz. tube, which will last a lot longer than the old 1 oz. tube.This feels nice and I was going to re-order \n",
            " 0.0 \n",
            "\n",
            "The brush belt is amazing, it is perfect for all of my brushes and the fabric makes it very easy for cleanup if you get makeup on it. The zipper pocket is also perfect for your phone, I have a Galaxy Note 4 and it is even big enough to fit that. Shipping was accurate and came right on time. However, when I received my brush belt the three metal rings on the front were rusted, and I didn t have time to return it before I had to use it for my client. Instead I just had to file the rusty bits off and continue with my job.Love the belt, not the condition it arrived in. \n",
            " 1.0 \n",
            "\n",
            "Has an excellent firm hold but smells so bad I can t use it nor would I want to smell like that.Strong hold smells terrible!! \n",
            " 0.0 \n",
            "\n"
          ],
          "name": "stdout"
        }
      ]
    },
    {
      "cell_type": "code",
      "metadata": {
        "id": "xmr9VYBzDECX",
        "outputId": "29a20fa5-5647-42d6-82dc-2d4c9bdcc7a8",
        "colab": {
          "base_uri": "https://localhost:8080/",
          "height": 122
        }
      },
      "source": [
        "neg_rev_sm = results_23_sm[results_23_sm.pred_sent == 0]\n",
        "\n",
        "for i in np.random.randint(0,len(neg_rev), size = 5):\n",
        "  print(neg_rev.reviewsum.iloc[i])"
      ],
      "execution_count": 56,
      "outputs": [
        {
          "output_type": "stream",
          "text": [
            "Product is not as described, clips are not 2 inches and were sent loose and not in a bag.Product is not as described, clips are not 2 ...\n",
            "so far after a month there has been no change with this product, though i have not experienced the rash that others have talked about, i have not seen the changes that others have talked about.did not work\n",
            "It came in a different bottle as shown and the quality is different than when I have bought it in health food stores in the past.  Im wondering if this is a copy of the original company or if the packaging and quality has changed.  I won t be ordering again.It came in a different bottle as shown and the ...\n",
            "3 stars because Ive only used it twice, therefor cannot give a fair rating in either direction yet. Unfortunately, Ive only used it twice because the strong plastic/rubber/chemical-ish smell transfers to your hair when using this brush and its all I smell in my hair all day. Ive tried washing it numerous times with shampoo, soap, etc to no avail. If I cant find a way to remove the smell, its just going in the trash.Smells terrible\n",
            "A lil messy if ur not careful the bling will get on ur cloths... Even after it dries it still rubs off ... I was looking for that Hollywood glow on my legs nope didn t happen for me just covered up a small spider vein...it was more  Like using make up.. With glitter... Don t waste ur hard earn...Shrugs\n"
          ],
          "name": "stdout"
        }
      ]
    },
    {
      "cell_type": "code",
      "metadata": {
        "id": "1u6XztiwDVhv",
        "outputId": "ca290f50-d696-4eda-83db-78949b382bfb",
        "colab": {
          "base_uri": "https://localhost:8080/",
          "height": 122
        }
      },
      "source": [
        "for i in np.random.randint(0,len(neg_rev), size = 5):\n",
        "  print(neg_rev.reviewsum.iloc[i])"
      ],
      "execution_count": 58,
      "outputs": [
        {
          "output_type": "stream",
          "text": [
            "too big for short hair and 1 roller doesn t work, found out too late to send backThree Stars\n",
            "It was okay but I ended up returning it because it is not the original babyliss titanium miracurl.Three Stars\n",
            "I had received a sample of this elsewhere and really liked it. However, the product is a different than the sample, despite the name being the same. This full size product did not deliver anything special. It does not do any harm, but it does nothing for my skin around my eyes either.Neutral review, not worth the price\n",
            "I first started using the Clarisonic about a year ago and saw some results using the sensitive skin brush head. I don t necessarily consider my skin as sensitive because it can withstand just about anything and it never gets irritated. Well after using the deep pore facial brush I thought I would see incredible results, but I was wrong. At first I thought it was because I was pressing hard on my face with it, but in reality it s just too abrasive on my face. I am having the worst breakouts of my life due to this product. It s very scratchy on the skin and my skin gets really red and burns especially after I apply an alcohol free toner. This product is definitely for deep deep pores, something I guess I don t have. I am going to try the sensitive brush heads and hopefully get better results.I am having the worst breakouts of my life due to this product\n",
            "My wife s old one went out after a few years of use so we decided to go ahead and purchase a new one. We bought this on 9/6/14, it was delivered on 9/10/14. My wife has been using it since then and just the other day, the power button broke on 10/19. With a broke power button she can not turn on the unit at all. BARELY OVER A MONTH of use. Now the \"window\" is closed (closed 10/11) for returning the item and we are left with a $111.22 non working product.Worked great while it worked.\n"
          ],
          "name": "stdout"
        }
      ]
    },
    {
      "cell_type": "markdown",
      "metadata": {
        "id": "Hr_Ap0muKRCj"
      },
      "source": [
        "# 6. Improving results with biased SVM"
      ]
    },
    {
      "cell_type": "code",
      "metadata": {
        "id": "MQ2iHqu-DbSy"
      },
      "source": [
        "from sklearn.linear_model import SGDClassifier\n",
        "\n",
        "biased_SVM = SGDClassifier()\n",
        "biased_SMOTE_pipeline = make_pipeline(vectorizer, SMOTE(random_state=123, ratio='minority'), biased_SVM) "
      ],
      "execution_count": 70,
      "outputs": []
    },
    {
      "cell_type": "code",
      "metadata": {
        "id": "UbHnzmxyKn81",
        "outputId": "d2739451-971e-4398-c57c-e0230b701751",
        "colab": {
          "base_uri": "https://localhost:8080/",
          "height": 71
        }
      },
      "source": [
        "biased_SMOTE_pipeline.fit(X_string, y_train)\n",
        "\n",
        "y_biased_pred = biased_SMOTE_pipeline.predict(X_test_string)"
      ],
      "execution_count": 71,
      "outputs": [
        {
          "output_type": "stream",
          "text": [
            "/usr/local/lib/python3.6/dist-packages/sklearn/utils/deprecation.py:87: FutureWarning: Function safe_indexing is deprecated; safe_indexing is deprecated in version 0.22 and will be removed in version 0.24.\n",
            "  warnings.warn(msg, category=FutureWarning)\n"
          ],
          "name": "stderr"
        }
      ]
    },
    {
      "cell_type": "code",
      "metadata": {
        "id": "4OSBSCbjK1c0",
        "outputId": "6bf4ce9d-9c41-4c76-af65-0b1123b49f00",
        "colab": {
          "base_uri": "https://localhost:8080/",
          "height": 51
        }
      },
      "source": [
        "confusion_matrix(y_test, y_biased_pred)"
      ],
      "execution_count": 72,
      "outputs": [
        {
          "output_type": "execute_result",
          "data": {
            "text/plain": [
              "array([[2086,  282],\n",
              "       [ 665, 9959]])"
            ]
          },
          "metadata": {
            "tags": []
          },
          "execution_count": 72
        }
      ]
    },
    {
      "cell_type": "code",
      "metadata": {
        "id": "UtZ-oVn_K4V4",
        "outputId": "1a302167-49bf-4345-cef9-ba43f0bb6836",
        "colab": {
          "base_uri": "https://localhost:8080/",
          "height": 34
        }
      },
      "source": [
        "accuracy_score(y_test, y_biased_pred)"
      ],
      "execution_count": 73,
      "outputs": [
        {
          "output_type": "execute_result",
          "data": {
            "text/plain": [
              "0.9271089901477833"
            ]
          },
          "metadata": {
            "tags": []
          },
          "execution_count": 73
        }
      ]
    },
    {
      "cell_type": "code",
      "metadata": {
        "id": "qkpxx3hTK8Kp",
        "outputId": "f18725f5-98fd-4c10-fd53-a3b7a8301508",
        "colab": {
          "base_uri": "https://localhost:8080/",
          "height": 170
        }
      },
      "source": [
        "print(classification_report(y_test, y_biased_pred))"
      ],
      "execution_count": 64,
      "outputs": [
        {
          "output_type": "stream",
          "text": [
            "              precision    recall  f1-score   support\n",
            "\n",
            "         0.0       0.76      0.87      0.82      2368\n",
            "         1.0       0.97      0.94      0.96     10624\n",
            "\n",
            "    accuracy                           0.93     12992\n",
            "   macro avg       0.87      0.91      0.89     12992\n",
            "weighted avg       0.93      0.93      0.93     12992\n",
            "\n"
          ],
          "name": "stdout"
        }
      ]
    },
    {
      "cell_type": "code",
      "metadata": {
        "id": "XPvEZRR_LJqf"
      },
      "source": [
        ""
      ],
      "execution_count": null,
      "outputs": []
    },
    {
      "cell_type": "markdown",
      "metadata": {
        "id": "wKOMkVfmNzn2"
      },
      "source": [
        "# 7. Predicting for the Dashboard data"
      ]
    },
    {
      "cell_type": "code",
      "metadata": {
        "id": "PeR7yC8WN3JI",
        "outputId": "7acc5e70-b3c6-445b-f5c3-edecffdd20d5",
        "colab": {
          "base_uri": "https://localhost:8080/",
          "height": 445
        }
      },
      "source": [
        "dashboard_data = pd.read_csv('dashboard_data.csv')\n",
        "\n",
        "dashboard_data.head()\n",
        "#ind = dashboard_data[dashboard_data.sentiment.isna()].index\n",
        "#ind"
      ],
      "execution_count": 130,
      "outputs": [
        {
          "output_type": "execute_result",
          "data": {
            "text/html": [
              "<div>\n",
              "<style scoped>\n",
              "    .dataframe tbody tr th:only-of-type {\n",
              "        vertical-align: middle;\n",
              "    }\n",
              "\n",
              "    .dataframe tbody tr th {\n",
              "        vertical-align: top;\n",
              "    }\n",
              "\n",
              "    .dataframe thead th {\n",
              "        text-align: right;\n",
              "    }\n",
              "</style>\n",
              "<table border=\"1\" class=\"dataframe\">\n",
              "  <thead>\n",
              "    <tr style=\"text-align: right;\">\n",
              "      <th></th>\n",
              "      <th>overall</th>\n",
              "      <th>verified</th>\n",
              "      <th>reviewTime</th>\n",
              "      <th>reviewerID</th>\n",
              "      <th>asin</th>\n",
              "      <th>reviewText</th>\n",
              "      <th>summary</th>\n",
              "      <th>vote</th>\n",
              "      <th>style</th>\n",
              "      <th>vote_stan</th>\n",
              "      <th>vote_norm</th>\n",
              "      <th>sentiment</th>\n",
              "    </tr>\n",
              "  </thead>\n",
              "  <tbody>\n",
              "    <tr>\n",
              "      <th>0</th>\n",
              "      <td>5.0</td>\n",
              "      <td>True</td>\n",
              "      <td>2011-10-24</td>\n",
              "      <td>A2LXX47A0KMJVX</td>\n",
              "      <td>B000GLRREU</td>\n",
              "      <td>&lt;div id=\"video-block-R2HEG12C48KXPW\" class=\"a-...</td>\n",
              "      <td>Very happy with this. Quiet operation, large w...</td>\n",
              "      <td>2713.0</td>\n",
              "      <td>{'Size:': ' Ultra'}</td>\n",
              "      <td>99.953594</td>\n",
              "      <td>0.997058</td>\n",
              "      <td>1.0</td>\n",
              "    </tr>\n",
              "    <tr>\n",
              "      <th>1</th>\n",
              "      <td>4.0</td>\n",
              "      <td>True</td>\n",
              "      <td>2012-11-08</td>\n",
              "      <td>A1IGCUY11IG8I2</td>\n",
              "      <td>B00HX27AM4</td>\n",
              "      <td>Everyone has different experiences, but the Fl...</td>\n",
              "      <td>Works well for me.</td>\n",
              "      <td>2378.0</td>\n",
              "      <td>NaN</td>\n",
              "      <td>95.284234</td>\n",
              "      <td>0.793852</td>\n",
              "      <td>1.0</td>\n",
              "    </tr>\n",
              "    <tr>\n",
              "      <th>2</th>\n",
              "      <td>5.0</td>\n",
              "      <td>True</td>\n",
              "      <td>2016-04-28</td>\n",
              "      <td>A28UB4TPSLLJOP</td>\n",
              "      <td>B001UHN0JA</td>\n",
              "      <td>This is long but important. I have Very thick,...</td>\n",
              "      <td>Thick hair BLESSING</td>\n",
              "      <td>1005.0</td>\n",
              "      <td>{'Size:': ' 1-\"'}</td>\n",
              "      <td>40.112431</td>\n",
              "      <td>0.335115</td>\n",
              "      <td>1.0</td>\n",
              "    </tr>\n",
              "    <tr>\n",
              "      <th>3</th>\n",
              "      <td>1.0</td>\n",
              "      <td>True</td>\n",
              "      <td>2016-05-29</td>\n",
              "      <td>A27IKPUCSAWDU2</td>\n",
              "      <td>B0017SWIU4</td>\n",
              "      <td>I have really nice skin. It's one of the thing...</td>\n",
              "      <td>Read It All for Great Skin!!!</td>\n",
              "      <td>893.0</td>\n",
              "      <td>NaN</td>\n",
              "      <td>35.611891</td>\n",
              "      <td>0.297695</td>\n",
              "      <td>0.0</td>\n",
              "    </tr>\n",
              "    <tr>\n",
              "      <th>4</th>\n",
              "      <td>5.0</td>\n",
              "      <td>True</td>\n",
              "      <td>2011-07-05</td>\n",
              "      <td>A1SOOEG76KFBPM</td>\n",
              "      <td>B00547H5U2</td>\n",
              "      <td>Ive been reading great reviews, but users comp...</td>\n",
              "      <td>RE: Lost Suction... the solution</td>\n",
              "      <td>859.0</td>\n",
              "      <td>NaN</td>\n",
              "      <td>34.245655</td>\n",
              "      <td>0.286335</td>\n",
              "      <td>1.0</td>\n",
              "    </tr>\n",
              "  </tbody>\n",
              "</table>\n",
              "</div>"
            ],
            "text/plain": [
              "   overall  verified  reviewTime  ...  vote_stan vote_norm sentiment\n",
              "0      5.0      True  2011-10-24  ...  99.953594  0.997058       1.0\n",
              "1      4.0      True  2012-11-08  ...  95.284234  0.793852       1.0\n",
              "2      5.0      True  2016-04-28  ...  40.112431  0.335115       1.0\n",
              "3      1.0      True  2016-05-29  ...  35.611891  0.297695       0.0\n",
              "4      5.0      True  2011-07-05  ...  34.245655  0.286335       1.0\n",
              "\n",
              "[5 rows x 12 columns]"
            ]
          },
          "metadata": {
            "tags": []
          },
          "execution_count": 130
        }
      ]
    },
    {
      "cell_type": "code",
      "metadata": {
        "id": "669ykzHvPLCl"
      },
      "source": [
        "dash_pred = dashboard_data[dashboard_data.sentiment.isna()]"
      ],
      "execution_count": 140,
      "outputs": []
    },
    {
      "cell_type": "code",
      "metadata": {
        "id": "BwjWqX51Plra"
      },
      "source": [
        "X_dash = dashboard_data['reviewText'] + dashboard_data['summary']\n",
        "\n",
        "X_dash = pd.DataFrame(X_dash, columns = ['reviews'])\n",
        "X_dash = X_dash.fillna('None')\n",
        "X_dash['reviews'] = X_dash['reviews'].apply(lambda x: re.sub(r'http[s]?://(?:[a-zA-Z]|[0-9]|[$-_@.&+]|[!*\\(\\),]|(?:%[0-9a-fA-F][0-9a-fA-F]))', '', x, flags=re.MULTILINE))\n",
        "X_dash['reviews'] = X_dash['reviews'].apply(lambda x: re.sub(r'w+.[a-zA-Z]+.com.[a-zA-Z]+.[a-zA-Z0-9]+..', '', x))\n",
        "X_dash['reviews'] = X_dash['reviews'].apply(lambda x: cleanhtml(x))\n",
        "X_dash['reviews'] = X_dash['reviews'].apply(lambda x: re.sub(r'\\'', '-hap-', x))\n",
        "X_dash['reviews'] = X_dash['reviews'].apply(lambda x: re.sub(r'\\\\-hap-', '', x))\n",
        "X_dash['reviews'] = X_dash['reviews'].apply(lambda x: re.sub(r'-hap-', ' ', x))\n",
        "X_dash['reviews'] = X_dash['reviews'].apply(lambda x: re.sub(r'\\&', 'and', x))\n",
        "X_dash['reviews'] = X_dash['reviews'].apply(lambda x: re.sub(r'\\n', '', x))\n",
        "\n",
        "X_dash = X_dash.to_numpy()\n",
        "X_dash_string = [' '.join([str(i) for i in j])  for j in X_dash]\n",
        "y_dash_pred = pipe.predict(X_dash_string)"
      ],
      "execution_count": 25,
      "outputs": []
    },
    {
      "cell_type": "code",
      "metadata": {
        "id": "3GIIUXdYn7QR",
        "outputId": "2671150e-38a4-4f49-dd36-b42e67581d26",
        "colab": {
          "base_uri": "https://localhost:8080/",
          "height": 34
        }
      },
      "source": [
        "len(y_dash_pred)"
      ],
      "execution_count": 27,
      "outputs": [
        {
          "output_type": "execute_result",
          "data": {
            "text/plain": [
              "60876"
            ]
          },
          "metadata": {
            "tags": []
          },
          "execution_count": 27
        }
      ]
    },
    {
      "cell_type": "code",
      "metadata": {
        "id": "sRVawy2ZQJjy"
      },
      "source": [
        "dash_results = pd.concat([dashboard_data, pd.DataFrame(y_dash_pred, columns = ['sentiment_pred'])],axis = 1)"
      ],
      "execution_count": 28,
      "outputs": []
    },
    {
      "cell_type": "code",
      "metadata": {
        "id": "KRtISLYloCYG",
        "outputId": "4e2fe9a5-e867-4c42-af46-acfe8f696da6",
        "colab": {
          "base_uri": "https://localhost:8080/",
          "height": 445
        }
      },
      "source": [
        "dash_results['sentiment'] = dash_results['sentiment'].fillna(dash_results['sentiment_pred'])\n",
        "dash_results = dash_results.drop('sentiment_pred', axis = 1)\n",
        "dash_results.head()"
      ],
      "execution_count": 32,
      "outputs": [
        {
          "output_type": "execute_result",
          "data": {
            "text/html": [
              "<div>\n",
              "<style scoped>\n",
              "    .dataframe tbody tr th:only-of-type {\n",
              "        vertical-align: middle;\n",
              "    }\n",
              "\n",
              "    .dataframe tbody tr th {\n",
              "        vertical-align: top;\n",
              "    }\n",
              "\n",
              "    .dataframe thead th {\n",
              "        text-align: right;\n",
              "    }\n",
              "</style>\n",
              "<table border=\"1\" class=\"dataframe\">\n",
              "  <thead>\n",
              "    <tr style=\"text-align: right;\">\n",
              "      <th></th>\n",
              "      <th>overall</th>\n",
              "      <th>verified</th>\n",
              "      <th>reviewTime</th>\n",
              "      <th>reviewerID</th>\n",
              "      <th>asin</th>\n",
              "      <th>reviewText</th>\n",
              "      <th>summary</th>\n",
              "      <th>vote</th>\n",
              "      <th>style</th>\n",
              "      <th>vote_stan</th>\n",
              "      <th>vote_norm</th>\n",
              "      <th>sentiment</th>\n",
              "    </tr>\n",
              "  </thead>\n",
              "  <tbody>\n",
              "    <tr>\n",
              "      <th>0</th>\n",
              "      <td>4.0</td>\n",
              "      <td>True</td>\n",
              "      <td>2015-11-14</td>\n",
              "      <td>A2J0S1IC4PU9G8</td>\n",
              "      <td>B0002ZW5UQ</td>\n",
              "      <td>So, if you're bothering to read reviews about ...</td>\n",
              "      <td>Not bad, Toppik, but let's be clear about a fe...</td>\n",
              "      <td>2995.0</td>\n",
              "      <td>{'Size:': ' 0.42 oz.', 'Color:': ' Dark Brown'}</td>\n",
              "      <td>120.077389</td>\n",
              "      <td>1.000000</td>\n",
              "      <td>1.0</td>\n",
              "    </tr>\n",
              "    <tr>\n",
              "      <th>1</th>\n",
              "      <td>5.0</td>\n",
              "      <td>True</td>\n",
              "      <td>2011-10-24</td>\n",
              "      <td>A2LXX47A0KMJVX</td>\n",
              "      <td>B000FOI48G</td>\n",
              "      <td>&lt;div id=\"video-block-R2HEG12C48KXPW\" class=\"a-...</td>\n",
              "      <td>Very happy with this. Quiet operation, large w...</td>\n",
              "      <td>2721.0</td>\n",
              "      <td>NaN</td>\n",
              "      <td>100.249017</td>\n",
              "      <td>1.000000</td>\n",
              "      <td>1.0</td>\n",
              "    </tr>\n",
              "    <tr>\n",
              "      <th>2</th>\n",
              "      <td>5.0</td>\n",
              "      <td>True</td>\n",
              "      <td>2015-07-23</td>\n",
              "      <td>A1VEOLBPJTX620</td>\n",
              "      <td>B00DLGPQK4</td>\n",
              "      <td>So let me say three things that you should kno...</td>\n",
              "      <td>Works amazing for Brazilian/Underarm Use!!!</td>\n",
              "      <td>2056.0</td>\n",
              "      <td>{'Color:': ' Fuchsia'}</td>\n",
              "      <td>82.345180</td>\n",
              "      <td>0.686268</td>\n",
              "      <td>1.0</td>\n",
              "    </tr>\n",
              "    <tr>\n",
              "      <th>3</th>\n",
              "      <td>5.0</td>\n",
              "      <td>True</td>\n",
              "      <td>2007-12-01</td>\n",
              "      <td>A2JCJJNY43QQIV</td>\n",
              "      <td>B000GLRREU</td>\n",
              "      <td>I've always prided myself on my good teeth. I ...</td>\n",
              "      <td>Waterpik first timer (for the product AND peri...</td>\n",
              "      <td>1341.0</td>\n",
              "      <td>{'Size:': ' Ultra'}</td>\n",
              "      <td>49.288555</td>\n",
              "      <td>0.492460</td>\n",
              "      <td>1.0</td>\n",
              "    </tr>\n",
              "    <tr>\n",
              "      <th>4</th>\n",
              "      <td>5.0</td>\n",
              "      <td>True</td>\n",
              "      <td>2007-12-01</td>\n",
              "      <td>A2JCJJNY43QQIV</td>\n",
              "      <td>B000FOI48G</td>\n",
              "      <td>I've always prided myself on my good teeth. I ...</td>\n",
              "      <td>Waterpik first timer (for the product AND peri...</td>\n",
              "      <td>1341.0</td>\n",
              "      <td>NaN</td>\n",
              "      <td>49.288555</td>\n",
              "      <td>0.492460</td>\n",
              "      <td>1.0</td>\n",
              "    </tr>\n",
              "  </tbody>\n",
              "</table>\n",
              "</div>"
            ],
            "text/plain": [
              "   overall  verified  reviewTime  ...   vote_stan vote_norm sentiment\n",
              "0      4.0      True  2015-11-14  ...  120.077389  1.000000       1.0\n",
              "1      5.0      True  2011-10-24  ...  100.249017  1.000000       1.0\n",
              "2      5.0      True  2015-07-23  ...   82.345180  0.686268       1.0\n",
              "3      5.0      True  2007-12-01  ...   49.288555  0.492460       1.0\n",
              "4      5.0      True  2007-12-01  ...   49.288555  0.492460       1.0\n",
              "\n",
              "[5 rows x 12 columns]"
            ]
          },
          "metadata": {
            "tags": []
          },
          "execution_count": 32
        }
      ]
    },
    {
      "cell_type": "code",
      "metadata": {
        "id": "kh0j2ftyNYEN"
      },
      "source": [
        "dash_results.to_csv('/content/drive/My Drive/amazon_reviews/dashboard_sentiment.csv', index = False)"
      ],
      "execution_count": 38,
      "outputs": []
    },
    {
      "cell_type": "code",
      "metadata": {
        "id": "8W68WKVlQh87",
        "outputId": "121bab87-9e51-415e-e0d1-50051b6ccd7a",
        "colab": {
          "base_uri": "https://localhost:8080/",
          "height": 85
        }
      },
      "source": [
        "pd.DataFrame(y_dash_pred, columns = ['sentiment_pred']).value_counts()"
      ],
      "execution_count": 134,
      "outputs": [
        {
          "output_type": "execute_result",
          "data": {
            "text/plain": [
              "sentiment_pred\n",
              "1.0               4542\n",
              "0.0               4115\n",
              "dtype: int64"
            ]
          },
          "metadata": {
            "tags": []
          },
          "execution_count": 134
        }
      ]
    },
    {
      "cell_type": "code",
      "metadata": {
        "id": "NQqaU1Gfn1lr",
        "outputId": "9b9ba13e-526f-42c3-954e-7706dac21fc5",
        "colab": {
          "base_uri": "https://localhost:8080/",
          "height": 530
        }
      },
      "source": [
        "dash_results.head()"
      ],
      "execution_count": 135,
      "outputs": [
        {
          "output_type": "execute_result",
          "data": {
            "text/html": [
              "<div>\n",
              "<style scoped>\n",
              "    .dataframe tbody tr th:only-of-type {\n",
              "        vertical-align: middle;\n",
              "    }\n",
              "\n",
              "    .dataframe tbody tr th {\n",
              "        vertical-align: top;\n",
              "    }\n",
              "\n",
              "    .dataframe thead th {\n",
              "        text-align: right;\n",
              "    }\n",
              "</style>\n",
              "<table border=\"1\" class=\"dataframe\">\n",
              "  <thead>\n",
              "    <tr style=\"text-align: right;\">\n",
              "      <th></th>\n",
              "      <th>overall</th>\n",
              "      <th>verified</th>\n",
              "      <th>reviewTime</th>\n",
              "      <th>reviewerID</th>\n",
              "      <th>asin</th>\n",
              "      <th>reviewText</th>\n",
              "      <th>summary</th>\n",
              "      <th>vote</th>\n",
              "      <th>style</th>\n",
              "      <th>vote_stan</th>\n",
              "      <th>vote_norm</th>\n",
              "      <th>sentiment</th>\n",
              "      <th>sentiment_pred</th>\n",
              "    </tr>\n",
              "  </thead>\n",
              "  <tbody>\n",
              "    <tr>\n",
              "      <th>33</th>\n",
              "      <td>2.0</td>\n",
              "      <td>True</td>\n",
              "      <td>2009-11-09</td>\n",
              "      <td>A3BMXVPSW75SJF</td>\n",
              "      <td>B000Q9AKVE</td>\n",
              "      <td>I had a Remington wet/dry that finally got out...</td>\n",
              "      <td>I want my Remington back</td>\n",
              "      <td>341.0</td>\n",
              "      <td>NaN</td>\n",
              "      <td>12.360683</td>\n",
              "      <td>0.124678</td>\n",
              "      <td>NaN</td>\n",
              "      <td>NaN</td>\n",
              "    </tr>\n",
              "    <tr>\n",
              "      <th>36</th>\n",
              "      <td>3.0</td>\n",
              "      <td>True</td>\n",
              "      <td>2017-03-25</td>\n",
              "      <td>A26BKB2A9SGL3L</td>\n",
              "      <td>B00ZYJL9W0</td>\n",
              "      <td>I have been using crepe erase every day for a ...</td>\n",
              "      <td>Crepe erase is so so</td>\n",
              "      <td>330.0</td>\n",
              "      <td>NaN</td>\n",
              "      <td>12.988639</td>\n",
              "      <td>0.109589</td>\n",
              "      <td>NaN</td>\n",
              "      <td>NaN</td>\n",
              "    </tr>\n",
              "    <tr>\n",
              "      <th>38</th>\n",
              "      <td>3.0</td>\n",
              "      <td>True</td>\n",
              "      <td>2009-04-16</td>\n",
              "      <td>A2NNUWPC9MKQ0H</td>\n",
              "      <td>B000B9ECAE</td>\n",
              "      <td>The Supersmile Whitening System does its job o...</td>\n",
              "      <td>Works, but ....</td>\n",
              "      <td>323.0</td>\n",
              "      <td>{'Size:': ' Small'}</td>\n",
              "      <td>12.707355</td>\n",
              "      <td>0.107250</td>\n",
              "      <td>NaN</td>\n",
              "      <td>NaN</td>\n",
              "    </tr>\n",
              "    <tr>\n",
              "      <th>47</th>\n",
              "      <td>2.0</td>\n",
              "      <td>True</td>\n",
              "      <td>2006-10-23</td>\n",
              "      <td>A3N3GNVHFZZ6N1</td>\n",
              "      <td>B000FOI48G</td>\n",
              "      <td>Yes indeed, this water pick does all that it i...</td>\n",
              "      <td>The Case of the Mysterious Drooling WaterPik</td>\n",
              "      <td>281.0</td>\n",
              "      <td>NaN</td>\n",
              "      <td>10.145011</td>\n",
              "      <td>0.102611</td>\n",
              "      <td>NaN</td>\n",
              "      <td>NaN</td>\n",
              "    </tr>\n",
              "    <tr>\n",
              "      <th>51</th>\n",
              "      <td>3.0</td>\n",
              "      <td>True</td>\n",
              "      <td>2012-05-28</td>\n",
              "      <td>A2WFZWRYWLC20S</td>\n",
              "      <td>B0002ZW5UQ</td>\n",
              "      <td>I ordered my first can of Toppick Hair Buildin...</td>\n",
              "      <td>\"Better than what I have now\"</td>\n",
              "      <td>270.0</td>\n",
              "      <td>NaN</td>\n",
              "      <td>10.577635</td>\n",
              "      <td>0.089542</td>\n",
              "      <td>NaN</td>\n",
              "      <td>NaN</td>\n",
              "    </tr>\n",
              "  </tbody>\n",
              "</table>\n",
              "</div>"
            ],
            "text/plain": [
              "    overall verified  reviewTime  ... vote_norm sentiment sentiment_pred\n",
              "33      2.0     True  2009-11-09  ...  0.124678       NaN            NaN\n",
              "36      3.0     True  2017-03-25  ...  0.109589       NaN            NaN\n",
              "38      3.0     True  2009-04-16  ...  0.107250       NaN            NaN\n",
              "47      2.0     True  2006-10-23  ...  0.102611       NaN            NaN\n",
              "51      3.0     True  2012-05-28  ...  0.089542       NaN            NaN\n",
              "\n",
              "[5 rows x 13 columns]"
            ]
          },
          "metadata": {
            "tags": []
          },
          "execution_count": 135
        }
      ]
    },
    {
      "cell_type": "code",
      "metadata": {
        "id": "h4-uqXVpQjHC"
      },
      "source": [
        "dash_results['sentiment'] = dash_results['sentiment'].fillna(dash_results['sentiment_pred'])\n",
        "dash_results = dash_results.drop(['sentiment_pred'], axis = 1)"
      ],
      "execution_count": 108,
      "outputs": []
    },
    {
      "cell_type": "code",
      "metadata": {
        "id": "OR6f0YfTRigg"
      },
      "source": [
        "ind_dash = [i for i in dash_results.index]\n",
        "ind_ndash = [i for i in range(0, len(dashboard_data))]\n",
        "\n",
        "all_ind = [False if i in ind_dash else True for i in range(0, len(dash_results))]"
      ],
      "execution_count": 103,
      "outputs": []
    },
    {
      "cell_type": "code",
      "metadata": {
        "id": "wjZh5PyoS9jr",
        "outputId": "e294f851-34c3-4c41-fda3-76f38b8673e0",
        "colab": {
          "base_uri": "https://localhost:8080/",
          "height": 34
        }
      },
      "source": [
        "len(all_ind)"
      ],
      "execution_count": 104,
      "outputs": [
        {
          "output_type": "execute_result",
          "data": {
            "text/plain": [
              "8657"
            ]
          },
          "metadata": {
            "tags": []
          },
          "execution_count": 104
        }
      ]
    },
    {
      "cell_type": "code",
      "metadata": {
        "id": "z2_2KrdETw97",
        "outputId": "5d497905-019c-489d-d89e-e478b4fc0c2e",
        "colab": {
          "base_uri": "https://localhost:8080/",
          "height": 34
        }
      },
      "source": [
        "len(dashboard_data)"
      ],
      "execution_count": 105,
      "outputs": [
        {
          "output_type": "execute_result",
          "data": {
            "text/plain": [
              "60534"
            ]
          },
          "metadata": {
            "tags": []
          },
          "execution_count": 105
        }
      ]
    },
    {
      "cell_type": "code",
      "metadata": {
        "id": "fCDd1xdKT83E"
      },
      "source": [
        "dashboard_data_final = dashboard_data.copy()\n",
        "dashboard_data_final['sentiment'] = dashboard_data['sentiment'].fillna(dash_results['sentiment'], axis = 'index')"
      ],
      "execution_count": 123,
      "outputs": []
    },
    {
      "cell_type": "code",
      "metadata": {
        "id": "Af1BvlOMg689",
        "outputId": "72d75cf7-8520-48ca-b5d9-3a680f0ed7ca",
        "colab": {
          "base_uri": "https://localhost:8080/",
          "height": 181
        }
      },
      "source": [
        "pd.set_option.display.max_rows=1000\n",
        "dashboard_data.head()"
      ],
      "execution_count": 124,
      "outputs": [
        {
          "output_type": "error",
          "ename": "AttributeError",
          "evalue": "ignored",
          "traceback": [
            "\u001b[0;31m---------------------------------------------------------------------------\u001b[0m",
            "\u001b[0;31mAttributeError\u001b[0m                            Traceback (most recent call last)",
            "\u001b[0;32m<ipython-input-124-5fe752abaaf2>\u001b[0m in \u001b[0;36m<module>\u001b[0;34m()\u001b[0m\n\u001b[0;32m----> 1\u001b[0;31m \u001b[0mpd\u001b[0m\u001b[0;34m.\u001b[0m\u001b[0mset_option\u001b[0m\u001b[0;34m.\u001b[0m\u001b[0mdisplay\u001b[0m\u001b[0;34m.\u001b[0m\u001b[0mmax_rows\u001b[0m\u001b[0;34m=\u001b[0m\u001b[0;36m1000\u001b[0m\u001b[0;34m\u001b[0m\u001b[0;34m\u001b[0m\u001b[0m\n\u001b[0m\u001b[1;32m      2\u001b[0m \u001b[0mdashboard_data\u001b[0m\u001b[0;34m.\u001b[0m\u001b[0mhead\u001b[0m\u001b[0;34m(\u001b[0m\u001b[0;34m)\u001b[0m\u001b[0;34m\u001b[0m\u001b[0;34m\u001b[0m\u001b[0m\n",
            "\u001b[0;31mAttributeError\u001b[0m: 'CallableDynamicDoc' object has no attribute 'display'"
          ]
        }
      ]
    },
    {
      "cell_type": "code",
      "metadata": {
        "id": "3rnkKezehPUw",
        "outputId": "29a54a2a-569e-4696-9036-75c181d3641e",
        "colab": {
          "base_uri": "https://localhost:8080/",
          "height": 238
        }
      },
      "source": [
        "dashboard_data_final.iloc[76]"
      ],
      "execution_count": 120,
      "outputs": [
        {
          "output_type": "execute_result",
          "data": {
            "text/plain": [
              "overall                                                       1\n",
              "verified                                                   True\n",
              "reviewTime                                           2014-05-22\n",
              "reviewerID                                       A2OUFWHCFPJJBR\n",
              "asin                                                 B005YB36O2\n",
              "reviewText    I thought I'd be safe buying from Amazon, but ...\n",
              "summary                                             COUNTERFEIT\n",
              "vote                                                        210\n",
              "style                         {'Format:': ' Health and Beauty'}\n",
              "vote_stan                                               8.16663\n",
              "vote_norm                                             0.0694955\n",
              "sentiment                                                     0\n",
              "Name: 181, dtype: object"
            ]
          },
          "metadata": {
            "tags": []
          },
          "execution_count": 120
        }
      ]
    },
    {
      "cell_type": "code",
      "metadata": {
        "id": "Di2K7Zdchj7S",
        "outputId": "cfb696fa-1c05-44d1-a666-64432150eefd",
        "colab": {
          "base_uri": "https://localhost:8080/",
          "height": 530
        }
      },
      "source": [
        "dash_results.head()"
      ],
      "execution_count": 113,
      "outputs": [
        {
          "output_type": "execute_result",
          "data": {
            "text/html": [
              "<div>\n",
              "<style scoped>\n",
              "    .dataframe tbody tr th:only-of-type {\n",
              "        vertical-align: middle;\n",
              "    }\n",
              "\n",
              "    .dataframe tbody tr th {\n",
              "        vertical-align: top;\n",
              "    }\n",
              "\n",
              "    .dataframe thead th {\n",
              "        text-align: right;\n",
              "    }\n",
              "</style>\n",
              "<table border=\"1\" class=\"dataframe\">\n",
              "  <thead>\n",
              "    <tr style=\"text-align: right;\">\n",
              "      <th></th>\n",
              "      <th>overall</th>\n",
              "      <th>verified</th>\n",
              "      <th>reviewTime</th>\n",
              "      <th>reviewerID</th>\n",
              "      <th>asin</th>\n",
              "      <th>reviewText</th>\n",
              "      <th>summary</th>\n",
              "      <th>vote</th>\n",
              "      <th>style</th>\n",
              "      <th>vote_stan</th>\n",
              "      <th>vote_norm</th>\n",
              "      <th>sentiment</th>\n",
              "    </tr>\n",
              "  </thead>\n",
              "  <tbody>\n",
              "    <tr>\n",
              "      <th>76</th>\n",
              "      <td>2.0</td>\n",
              "      <td>True</td>\n",
              "      <td>2009-11-09</td>\n",
              "      <td>A3BMXVPSW75SJF</td>\n",
              "      <td>B000Q9AKVE</td>\n",
              "      <td>I had a Remington wet/dry that finally got out...</td>\n",
              "      <td>I want my Remington back</td>\n",
              "      <td>341.0</td>\n",
              "      <td>NaN</td>\n",
              "      <td>12.360683</td>\n",
              "      <td>0.124678</td>\n",
              "      <td>1.0</td>\n",
              "    </tr>\n",
              "    <tr>\n",
              "      <th>82</th>\n",
              "      <td>3.0</td>\n",
              "      <td>True</td>\n",
              "      <td>2017-03-25</td>\n",
              "      <td>A26BKB2A9SGL3L</td>\n",
              "      <td>B00ZYJL9W0</td>\n",
              "      <td>I have been using crepe erase every day for a ...</td>\n",
              "      <td>Crepe erase is so so</td>\n",
              "      <td>330.0</td>\n",
              "      <td>NaN</td>\n",
              "      <td>12.988639</td>\n",
              "      <td>0.109589</td>\n",
              "      <td>1.0</td>\n",
              "    </tr>\n",
              "    <tr>\n",
              "      <th>84</th>\n",
              "      <td>3.0</td>\n",
              "      <td>True</td>\n",
              "      <td>2009-04-16</td>\n",
              "      <td>A2NNUWPC9MKQ0H</td>\n",
              "      <td>B000B9ECAE</td>\n",
              "      <td>The Supersmile Whitening System does its job o...</td>\n",
              "      <td>Works, but ....</td>\n",
              "      <td>323.0</td>\n",
              "      <td>{'Size:': ' Small'}</td>\n",
              "      <td>12.707355</td>\n",
              "      <td>0.107250</td>\n",
              "      <td>1.0</td>\n",
              "    </tr>\n",
              "    <tr>\n",
              "      <th>106</th>\n",
              "      <td>2.0</td>\n",
              "      <td>True</td>\n",
              "      <td>2006-10-23</td>\n",
              "      <td>A3N3GNVHFZZ6N1</td>\n",
              "      <td>B000FOI48G</td>\n",
              "      <td>Yes indeed, this water pick does all that it i...</td>\n",
              "      <td>The Case of the Mysterious Drooling WaterPik</td>\n",
              "      <td>281.0</td>\n",
              "      <td>NaN</td>\n",
              "      <td>10.145011</td>\n",
              "      <td>0.102611</td>\n",
              "      <td>1.0</td>\n",
              "    </tr>\n",
              "    <tr>\n",
              "      <th>115</th>\n",
              "      <td>3.0</td>\n",
              "      <td>True</td>\n",
              "      <td>2012-05-28</td>\n",
              "      <td>A2WFZWRYWLC20S</td>\n",
              "      <td>B0002ZW5UQ</td>\n",
              "      <td>I ordered my first can of Toppick Hair Buildin...</td>\n",
              "      <td>\"Better than what I have now\"</td>\n",
              "      <td>270.0</td>\n",
              "      <td>NaN</td>\n",
              "      <td>10.577635</td>\n",
              "      <td>0.089542</td>\n",
              "      <td>1.0</td>\n",
              "    </tr>\n",
              "  </tbody>\n",
              "</table>\n",
              "</div>"
            ],
            "text/plain": [
              "     overall  verified  reviewTime  ...  vote_stan vote_norm sentiment\n",
              "76       2.0      True  2009-11-09  ...  12.360683  0.124678       1.0\n",
              "82       3.0      True  2017-03-25  ...  12.988639  0.109589       1.0\n",
              "84       3.0      True  2009-04-16  ...  12.707355  0.107250       1.0\n",
              "106      2.0      True  2006-10-23  ...  10.145011  0.102611       1.0\n",
              "115      3.0      True  2012-05-28  ...  10.577635  0.089542       1.0\n",
              "\n",
              "[5 rows x 12 columns]"
            ]
          },
          "metadata": {
            "tags": []
          },
          "execution_count": 113
        }
      ]
    },
    {
      "cell_type": "code",
      "metadata": {
        "id": "sGOzCzddhuO6",
        "outputId": "1af53099-408b-4283-e317-b1452cce4212",
        "colab": {
          "base_uri": "https://localhost:8080/",
          "height": 445
        }
      },
      "source": [
        "dashboard_data_final.head()"
      ],
      "execution_count": 117,
      "outputs": [
        {
          "output_type": "execute_result",
          "data": {
            "text/html": [
              "<div>\n",
              "<style scoped>\n",
              "    .dataframe tbody tr th:only-of-type {\n",
              "        vertical-align: middle;\n",
              "    }\n",
              "\n",
              "    .dataframe tbody tr th {\n",
              "        vertical-align: top;\n",
              "    }\n",
              "\n",
              "    .dataframe thead th {\n",
              "        text-align: right;\n",
              "    }\n",
              "</style>\n",
              "<table border=\"1\" class=\"dataframe\">\n",
              "  <thead>\n",
              "    <tr style=\"text-align: right;\">\n",
              "      <th></th>\n",
              "      <th>overall</th>\n",
              "      <th>verified</th>\n",
              "      <th>reviewTime</th>\n",
              "      <th>reviewerID</th>\n",
              "      <th>asin</th>\n",
              "      <th>reviewText</th>\n",
              "      <th>summary</th>\n",
              "      <th>vote</th>\n",
              "      <th>style</th>\n",
              "      <th>vote_stan</th>\n",
              "      <th>vote_norm</th>\n",
              "      <th>sentiment</th>\n",
              "    </tr>\n",
              "  </thead>\n",
              "  <tbody>\n",
              "    <tr>\n",
              "      <th>2</th>\n",
              "      <td>5.0</td>\n",
              "      <td>True</td>\n",
              "      <td>2011-10-24</td>\n",
              "      <td>A2LXX47A0KMJVX</td>\n",
              "      <td>B000GLRREU</td>\n",
              "      <td>&lt;div id=\"video-block-R2HEG12C48KXPW\" class=\"a-...</td>\n",
              "      <td>Very happy with this. Quiet operation, large w...</td>\n",
              "      <td>2713.0</td>\n",
              "      <td>{'Size:': ' Ultra'}</td>\n",
              "      <td>99.953594</td>\n",
              "      <td>0.997058</td>\n",
              "      <td>1.0</td>\n",
              "    </tr>\n",
              "    <tr>\n",
              "      <th>3</th>\n",
              "      <td>4.0</td>\n",
              "      <td>True</td>\n",
              "      <td>2012-11-08</td>\n",
              "      <td>A1IGCUY11IG8I2</td>\n",
              "      <td>B00HX27AM4</td>\n",
              "      <td>Everyone has different experiences, but the Fl...</td>\n",
              "      <td>Works well for me.</td>\n",
              "      <td>2378.0</td>\n",
              "      <td>NaN</td>\n",
              "      <td>95.284234</td>\n",
              "      <td>0.793852</td>\n",
              "      <td>1.0</td>\n",
              "    </tr>\n",
              "    <tr>\n",
              "      <th>8</th>\n",
              "      <td>5.0</td>\n",
              "      <td>True</td>\n",
              "      <td>2016-04-28</td>\n",
              "      <td>A28UB4TPSLLJOP</td>\n",
              "      <td>B001UHN0JA</td>\n",
              "      <td>This is long but important. I have Very thick,...</td>\n",
              "      <td>Thick hair BLESSING</td>\n",
              "      <td>1005.0</td>\n",
              "      <td>{'Size:': ' 1-\"'}</td>\n",
              "      <td>40.112431</td>\n",
              "      <td>0.335115</td>\n",
              "      <td>1.0</td>\n",
              "    </tr>\n",
              "    <tr>\n",
              "      <th>10</th>\n",
              "      <td>1.0</td>\n",
              "      <td>True</td>\n",
              "      <td>2016-05-29</td>\n",
              "      <td>A27IKPUCSAWDU2</td>\n",
              "      <td>B0017SWIU4</td>\n",
              "      <td>I have really nice skin. It's one of the thing...</td>\n",
              "      <td>Read It All for Great Skin!!!</td>\n",
              "      <td>893.0</td>\n",
              "      <td>NaN</td>\n",
              "      <td>35.611891</td>\n",
              "      <td>0.297695</td>\n",
              "      <td>0.0</td>\n",
              "    </tr>\n",
              "    <tr>\n",
              "      <th>13</th>\n",
              "      <td>5.0</td>\n",
              "      <td>True</td>\n",
              "      <td>2011-07-05</td>\n",
              "      <td>A1SOOEG76KFBPM</td>\n",
              "      <td>B00547H5U2</td>\n",
              "      <td>Ive been reading great reviews, but users comp...</td>\n",
              "      <td>RE: Lost Suction... the solution</td>\n",
              "      <td>859.0</td>\n",
              "      <td>NaN</td>\n",
              "      <td>34.245655</td>\n",
              "      <td>0.286335</td>\n",
              "      <td>1.0</td>\n",
              "    </tr>\n",
              "  </tbody>\n",
              "</table>\n",
              "</div>"
            ],
            "text/plain": [
              "    overall  verified  reviewTime  ...  vote_stan vote_norm sentiment\n",
              "2       5.0      True  2011-10-24  ...  99.953594  0.997058       1.0\n",
              "3       4.0      True  2012-11-08  ...  95.284234  0.793852       1.0\n",
              "8       5.0      True  2016-04-28  ...  40.112431  0.335115       1.0\n",
              "10      1.0      True  2016-05-29  ...  35.611891  0.297695       0.0\n",
              "13      5.0      True  2011-07-05  ...  34.245655  0.286335       1.0\n",
              "\n",
              "[5 rows x 12 columns]"
            ]
          },
          "metadata": {
            "tags": []
          },
          "execution_count": 117
        }
      ]
    },
    {
      "cell_type": "code",
      "metadata": {
        "id": "D8CnjsTAj7DX"
      },
      "source": [
        ""
      ],
      "execution_count": null,
      "outputs": []
    }
  ]
}